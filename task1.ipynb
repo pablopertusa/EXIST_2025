{
 "cells": [
  {
   "cell_type": "markdown",
   "metadata": {},
   "source": [
    "<h1 align=\"center\">Exists2025:  Sexism Identification in Twitter</h1>\n",
    "<h2 align=\"center\">Task 1. Fine-tuning for binary classification\n",
    "<h3 style=\"display:block; margin-top:5px;\" align=\"center\">ETSInf. Universitat Politècnica de València</h3>\n",
    "<br>"
   ]
  },
  {
   "cell_type": "markdown",
   "metadata": {},
   "source": [
    "## Libraries"
   ]
  },
  {
   "cell_type": "code",
   "execution_count": 1,
   "metadata": {},
   "outputs": [],
   "source": [
    "import numpy as np\n",
    "import torch\n",
    "from torch.utils.data import Dataset, DataLoader\n",
    "from transformers import  AutoTokenizer, AutoModelForSequenceClassification,  Trainer, TrainingArguments,  EarlyStoppingCallback, AutoConfig\n",
    "from sklearn.metrics import accuracy_score, precision_recall_fscore_support\n",
    "from sklearn.preprocessing import LabelEncoder\n",
    "import random\n",
    "import os\n",
    "import pandas as pd\n",
    "from readerEXIST2025 import EXISTReader\n",
    "import re\n",
    "import emoji\n",
    "from create_submision_folder import create_submision_file"
   ]
  },
  {
   "cell_type": "markdown",
   "metadata": {},
   "source": [
    "## Read data"
   ]
  },
  {
   "cell_type": "code",
   "execution_count": 2,
   "metadata": {},
   "outputs": [],
   "source": [
    "url = r\"\\bhttps?://[\\w.-]+(?:\\.[a-zA-Z]{2,})?(?:/\\S*/?)?\"\n",
    "\n",
    "emojis = sorted(emoji.EMOJI_DATA, key=len, reverse=True)\n",
    "pattern_emoji = \"(\" + \"|\".join(re.escape(u) for u in emojis) + \")\"\n",
    "\n",
    "pattern_all = r\"|\".join(\n",
    "    [\n",
    "        url,\n",
    "        pattern_emoji,\n",
    "    ]\n",
    ")\n",
    "\n",
    "re_all = re.compile(pattern_all, re.U)"
   ]
  },
  {
   "cell_type": "code",
   "execution_count": 3,
   "metadata": {},
   "outputs": [],
   "source": [
    "file_train = \"data/EXIST 2025 Tweets Dataset/training/EXIST2025_training.json\"\n",
    "file_dev = \"data/EXIST 2025 Tweets Dataset/dev/EXIST2025_dev.json\"\n",
    "file_test = \"data/EXIST 2025 Tweets Dataset/test/EXIST2025_test_clean.json\"\n",
    "\n",
    "reader_train = EXISTReader(file_train)\n",
    "reader_dev = EXISTReader(file_dev)\n",
    "reader_test = EXISTReader(file_test, is_test=True)\n",
    "\n",
    "EnTrainTask1, EnDevTask1, EnTestTask1 = reader_train.get(lang=\"EN\", subtask=\"1\", regular_exp=re_all, preprocess=True), reader_dev.get(lang=\"EN\", subtask=\"1\", regular_exp=re_all, preprocess=True), reader_test.get(lang=\"EN\", subtask=\"1\", regular_exp=re_all, preprocess=True)\n",
    "SpTrainTask1, SpDevTask1, SpTestTask1 = reader_train.get(lang=\"ES\", subtask=\"1\", regular_exp=re_all, preprocess=True), reader_dev.get(lang=\"ES\", subtask=\"1\", regular_exp=re_all, preprocess=True), reader_test.get(lang=\"ES\", subtask=\"1\", regular_exp=re_all, preprocess=True)"
   ]
  },
  {
   "cell_type": "markdown",
   "metadata": {},
   "source": [
    "## Set seed"
   ]
  },
  {
   "cell_type": "code",
   "execution_count": 4,
   "metadata": {},
   "outputs": [],
   "source": [
    "def set_seed(seed=1234):\n",
    "    \"\"\"\n",
    "    Sets the seed to make everything deterministic, for reproducibility of experiments\n",
    "    Parameters:\n",
    "    seed: the number to set the seed to\n",
    "    Return: None\n",
    "    \"\"\"\n",
    "    # Random seed\n",
    "    random.seed(seed)\n",
    "    # Numpy seed\n",
    "    np.random.seed(seed)\n",
    "    # Torch seed\n",
    "    torch.manual_seed(seed)\n",
    "    torch.cuda.manual_seed(seed)\n",
    "    torch.backends.cudnn.deterministic = True\n",
    "    torch.backends.cudnn.benchmark = True\n",
    "    # os seed\n",
    "    os.environ['PYTHONHASHSEED'] = str(seed)"
   ]
  },
  {
   "cell_type": "markdown",
   "metadata": {},
   "source": [
    "## Dataset class"
   ]
  },
  {
   "cell_type": "code",
   "execution_count": 5,
   "metadata": {},
   "outputs": [],
   "source": [
    "class SexismDataset(Dataset):\n",
    "    def __init__(self, texts, labels, ids, tokenizer, max_len=128, pad=\"max_length\", trunc=True,rt='pt'):\n",
    "        self.texts = texts.tolist()\n",
    "        self.labels = labels\n",
    "        self.ids = ids\n",
    "        self.tokenizer = tokenizer\n",
    "        self.max_len = max_len\n",
    "        self.pad = pad\n",
    "        self.trunc = trunc\n",
    "        self.rt = rt\n",
    "\n",
    "    def __len__(self):\n",
    "        return len(self.texts)\n",
    "\n",
    "    def __getitem__(self, idx):\n",
    "        text = str(self.texts[idx])\n",
    "        inputs = self.tokenizer.encode_plus(\n",
    "            text,\n",
    "            add_special_tokens=True,\n",
    "            max_length=self.max_len,padding=self.pad, truncation=self.trunc,\n",
    "            return_tensors=self.rt\n",
    "        )\n",
    "\n",
    "        return {\n",
    "            'input_ids': inputs['input_ids'].flatten(),\n",
    "            'attention_mask': inputs['attention_mask'].flatten(),\n",
    "            'labels': torch.tensor(self.labels[idx], dtype=torch.long),\n",
    "            'id': torch.tensor(self.ids[idx], dtype=torch.long)\n",
    "        }"
   ]
  },
  {
   "cell_type": "markdown",
   "metadata": {},
   "source": [
    "## Metrics"
   ]
  },
  {
   "cell_type": "code",
   "execution_count": 6,
   "metadata": {},
   "outputs": [],
   "source": [
    "def compute_metrics_1(pred):\n",
    "    labels = pred.label_ids\n",
    "    preds = pred.predictions.argmax(-1)\n",
    "    precision, recall, f1, _ = precision_recall_fscore_support(\n",
    "        labels, preds, average='binary', zero_division=0\n",
    "    )\n",
    "    acc = accuracy_score(labels, preds)\n",
    "    return {\n",
    "        'accuracy': acc,\n",
    "        'f1': f1,\n",
    "        'precision': precision,\n",
    "        'recall': recall\n",
    "    }"
   ]
  },
  {
   "cell_type": "markdown",
   "metadata": {},
   "source": [
    "## Pipeline"
   ]
  },
  {
   "cell_type": "code",
   "execution_count": 7,
   "metadata": {},
   "outputs": [],
   "source": [
    "def sexism_classification_pipeline_task1(trainInfo, devInfo, testInfo=None, model_name='roberta-base', nlabels=2, ptype=\"single_label_classification\", **args):\n",
    "    # Model and Tokenizer\n",
    "    labelEnc= LabelEncoder()\n",
    "    tokenizer = AutoTokenizer.from_pretrained(model_name)\n",
    "    model = AutoModelForSequenceClassification.from_pretrained(\n",
    "        model_name,\n",
    "        num_labels=nlabels,\n",
    "        problem_type=ptype,\n",
    "        force_download=args.get(\"force_download\"),\n",
    "        ignore_mismatched_sizes=args.get(\"ignore_mismatched_sizes\", False)\n",
    "    )\n",
    "\n",
    "    # Prepare datasets\n",
    "    train_dataset = SexismDataset(trainInfo[1], labelEnc.fit_transform(trainInfo[2]),[int(x) for x in trainInfo[0]], tokenizer )\n",
    "    val_dataset = SexismDataset(devInfo[1], labelEnc.transform(devInfo[2]), [int(x) for x in devInfo[0]], tokenizer)\n",
    "\n",
    "    # Training Arguments\n",
    "    training_args = TrainingArguments(\n",
    "        report_to=\"none\", # alt: \"wandb\", \"tensorboard\" \"comet_ml\" \"mlflow\" \"clearml\"\n",
    "        output_dir= args.get('output_dir', './results'), # Cambiar si queremos mantener todos los modelos y no se sobreescriban.\n",
    "        num_train_epochs= args.get('num_train_epochs', 5),\n",
    "        learning_rate=args.get('learning_rate', 5e-5),\n",
    "        per_device_train_batch_size=args.get('per_device_train_batch_size', 16),\n",
    "        per_device_eval_batch_size=args.get('per_device_eval_batch_size', 64),\n",
    "        #warmup_steps=args.get('warmup_steps', 500),\n",
    "        warmup_ratio=args.get(\"warmup_ratio\", 0.1),\n",
    "        weight_decay=args.get('weight_decay',0.01),\n",
    "        lr_scheduler_type=args.get(\"scheduler_type\", \"linear\"),\n",
    "        logging_dir=args.get('logging_dir', './logs'),\n",
    "        logging_steps=args.get('logging_steps', 10),\n",
    "        eval_strategy=args.get('eval_strategy','epoch'),\n",
    "        save_strategy=args.get('save_strategy', \"epoch\"),\n",
    "        load_best_model_at_end=args.get('load_best_model_at_end', True),\n",
    "        metric_for_best_model=args.get('metric_for_best_model',\"f1\")\n",
    "    )\n",
    "\n",
    "    # Initialize Trainer\n",
    "    trainer = Trainer(\n",
    "        model=model,\n",
    "        args=training_args,\n",
    "        train_dataset=train_dataset,\n",
    "        eval_dataset=val_dataset,\n",
    "        compute_metrics=compute_metrics_1,\n",
    "        callbacks=[EarlyStoppingCallback(early_stopping_patience=args.get(\"early_stopping_patience\",3))]\n",
    "    )\n",
    "\n",
    "    # Fine-tune the model\n",
    "    trainer.train()\n",
    "\n",
    "    # Evaluate on validation set\n",
    "    eval_results = trainer.evaluate()\n",
    "    print(\"Validation Results:\", eval_results)\n",
    "\n",
    "    # If there is a test dataset\n",
    "    if testInfo is not None:\n",
    "        # Prepare test dataset for prediction\n",
    "        test_dataset = SexismDataset(testInfo[1], [0] * len(testInfo[1]),  [int(x) for x in testInfo[0]],   tokenizer)\n",
    "        output_type = args.get(\"output_type\", \"hard\")\n",
    "        predictions = trainer.predict(test_dataset)\n",
    "\n",
    "        # Predict test set labels\n",
    "        if output_type == \"hard\":\n",
    "            predicted_labels = np.argmax(predictions.predictions, axis=1)\n",
    "            # Create submission DataFrame\n",
    "            submission_df = pd.DataFrame({\n",
    "                'id': testInfo[0],\n",
    "                'label': labelEnc.inverse_transform(predicted_labels),\n",
    "                \"test_case\": [\"EXIST2025\"]*len(predicted_labels)\n",
    "            })\n",
    "\n",
    "        elif output_type == \"soft\":\n",
    "            probabilities = torch.softmax(torch.tensor(predictions.predictions), axis=1)\n",
    "            submission_data = {\n",
    "                'id': testInfo[0],\n",
    "                \"test_case\": [\"EXIST2025\"] * len(probabilities)\n",
    "            }\n",
    "            list_probabilities = []\n",
    "            for i in range(probabilities.shape[0]):\n",
    "                value = {}\n",
    "                for c in range(probabilities.shape[1]):\n",
    "                    original_label = labelEnc.inverse_transform([c])[0]\n",
    "                    value[original_label] = probabilities[i, c].item()\n",
    "                list_probabilities.append(value)\n",
    "\n",
    "            submission_data[\"value\"] = list_probabilities\n",
    "            submission_df = pd.DataFrame(submission_data)\n",
    "\n",
    "\n",
    "        language = args.get(\"language\", \"english\")\n",
    "        submission_df.to_csv(f'sexism_predictions_task1_{output_type}_{language}.csv', index=False)\n",
    "        print(f\"Prediction for TASK 1 completed. Results saved to sexism_predictions_task1_{output_type}_{language}.csv\")\n",
    "        return model, submission_df\n",
    "    return model, eval_results"
   ]
  },
  {
   "cell_type": "markdown",
   "metadata": {},
   "source": [
    "## Run id"
   ]
  },
  {
   "cell_type": "markdown",
   "metadata": {},
   "source": [
    "Before training, we specify the `run_id` to create the predictions."
   ]
  },
  {
   "cell_type": "code",
   "execution_count": 8,
   "metadata": {},
   "outputs": [],
   "source": [
    "run_id = 2"
   ]
  },
  {
   "cell_type": "markdown",
   "metadata": {},
   "source": [
    "## Training soft"
   ]
  },
  {
   "cell_type": "code",
   "execution_count": 9,
   "metadata": {},
   "outputs": [
    {
     "name": "stderr",
     "output_type": "stream",
     "text": [
      "Some weights of the model checkpoint at cardiffnlp/twitter-roberta-base-sentiment-latest were not used when initializing RobertaForSequenceClassification: ['roberta.pooler.dense.bias', 'roberta.pooler.dense.weight']\n",
      "- This IS expected if you are initializing RobertaForSequenceClassification from the checkpoint of a model trained on another task or with another architecture (e.g. initializing a BertForSequenceClassification model from a BertForPreTraining model).\n",
      "- This IS NOT expected if you are initializing RobertaForSequenceClassification from the checkpoint of a model that you expect to be exactly identical (initializing a BertForSequenceClassification model from a BertForSequenceClassification model).\n",
      "Some weights of RobertaForSequenceClassification were not initialized from the model checkpoint at cardiffnlp/twitter-roberta-base-sentiment-latest and are newly initialized because the shapes did not match:\n",
      "- classifier.out_proj.weight: found shape torch.Size([3, 768]) in the checkpoint and torch.Size([2, 768]) in the model instantiated\n",
      "- classifier.out_proj.bias: found shape torch.Size([3]) in the checkpoint and torch.Size([2]) in the model instantiated\n",
      "You should probably TRAIN this model on a down-stream task to be able to use it for predictions and inference.\n"
     ]
    },
    {
     "data": {
      "text/html": [
       "\n",
       "    <div>\n",
       "      \n",
       "      <progress value='450' max='450' style='width:300px; height:20px; vertical-align: middle;'></progress>\n",
       "      [450/450 06:33, Epoch 10/10]\n",
       "    </div>\n",
       "    <table border=\"1\" class=\"dataframe\">\n",
       "  <thead>\n",
       " <tr style=\"text-align: left;\">\n",
       "      <th>Epoch</th>\n",
       "      <th>Training Loss</th>\n",
       "      <th>Validation Loss</th>\n",
       "      <th>Accuracy</th>\n",
       "      <th>F1</th>\n",
       "      <th>Precision</th>\n",
       "      <th>Recall</th>\n",
       "    </tr>\n",
       "  </thead>\n",
       "  <tbody>\n",
       "    <tr>\n",
       "      <td>1</td>\n",
       "      <td>0.581200</td>\n",
       "      <td>0.491512</td>\n",
       "      <td>0.759009</td>\n",
       "      <td>0.761693</td>\n",
       "      <td>0.670588</td>\n",
       "      <td>0.881443</td>\n",
       "    </tr>\n",
       "    <tr>\n",
       "      <td>2</td>\n",
       "      <td>0.399500</td>\n",
       "      <td>0.335839</td>\n",
       "      <td>0.849099</td>\n",
       "      <td>0.828645</td>\n",
       "      <td>0.822335</td>\n",
       "      <td>0.835052</td>\n",
       "    </tr>\n",
       "    <tr>\n",
       "      <td>3</td>\n",
       "      <td>0.254800</td>\n",
       "      <td>0.377597</td>\n",
       "      <td>0.851351</td>\n",
       "      <td>0.833333</td>\n",
       "      <td>0.816832</td>\n",
       "      <td>0.850515</td>\n",
       "    </tr>\n",
       "    <tr>\n",
       "      <td>4</td>\n",
       "      <td>0.161000</td>\n",
       "      <td>0.409763</td>\n",
       "      <td>0.862613</td>\n",
       "      <td>0.839050</td>\n",
       "      <td>0.859459</td>\n",
       "      <td>0.819588</td>\n",
       "    </tr>\n",
       "    <tr>\n",
       "      <td>5</td>\n",
       "      <td>0.108200</td>\n",
       "      <td>0.521333</td>\n",
       "      <td>0.846847</td>\n",
       "      <td>0.834951</td>\n",
       "      <td>0.788991</td>\n",
       "      <td>0.886598</td>\n",
       "    </tr>\n",
       "    <tr>\n",
       "      <td>6</td>\n",
       "      <td>0.086000</td>\n",
       "      <td>0.586759</td>\n",
       "      <td>0.844595</td>\n",
       "      <td>0.814016</td>\n",
       "      <td>0.853107</td>\n",
       "      <td>0.778351</td>\n",
       "    </tr>\n",
       "    <tr>\n",
       "      <td>7</td>\n",
       "      <td>0.052100</td>\n",
       "      <td>0.596712</td>\n",
       "      <td>0.858108</td>\n",
       "      <td>0.840506</td>\n",
       "      <td>0.825871</td>\n",
       "      <td>0.855670</td>\n",
       "    </tr>\n",
       "    <tr>\n",
       "      <td>8</td>\n",
       "      <td>0.030400</td>\n",
       "      <td>0.707437</td>\n",
       "      <td>0.849099</td>\n",
       "      <td>0.832080</td>\n",
       "      <td>0.809756</td>\n",
       "      <td>0.855670</td>\n",
       "    </tr>\n",
       "    <tr>\n",
       "      <td>9</td>\n",
       "      <td>0.011100</td>\n",
       "      <td>0.826547</td>\n",
       "      <td>0.844595</td>\n",
       "      <td>0.822622</td>\n",
       "      <td>0.820513</td>\n",
       "      <td>0.824742</td>\n",
       "    </tr>\n",
       "    <tr>\n",
       "      <td>10</td>\n",
       "      <td>0.005100</td>\n",
       "      <td>0.854280</td>\n",
       "      <td>0.835586</td>\n",
       "      <td>0.808399</td>\n",
       "      <td>0.823529</td>\n",
       "      <td>0.793814</td>\n",
       "    </tr>\n",
       "  </tbody>\n",
       "</table><p>"
      ],
      "text/plain": [
       "<IPython.core.display.HTML object>"
      ]
     },
     "metadata": {},
     "output_type": "display_data"
    },
    {
     "data": {
      "text/html": [],
      "text/plain": [
       "<IPython.core.display.HTML object>"
      ]
     },
     "metadata": {},
     "output_type": "display_data"
    },
    {
     "name": "stdout",
     "output_type": "stream",
     "text": [
      "Validation Results: {'eval_loss': 0.5967118144035339, 'eval_accuracy': 0.8581081081081081, 'eval_f1': 0.8405063291139241, 'eval_precision': 0.8258706467661692, 'eval_recall': 0.8556701030927835, 'eval_runtime': 1.8047, 'eval_samples_per_second': 246.022, 'eval_steps_per_second': 3.879, 'epoch': 10.0}\n",
      "Prediction for TASK 1 completed. Results saved to sexism_predictions_task1_soft_english.csv\n"
     ]
    }
   ],
   "source": [
    "modelname = \"cardiffnlp/twitter-roberta-base-sentiment-latest\"\n",
    "params = {\"num_train_epochs\": 10,\n",
    "          \"learning_rate\": 3e-5,\n",
    "          \"scheduler_type\": \"linear\",\n",
    "          \"per_device_train_batch_size\": 64,\n",
    "          \"warmup_ratio\": 0.15,\n",
    "          \"early_stopping_patience\": 5,\n",
    "          \"ignore_mismatched_sizes\": True,\n",
    "          \"logging_dir\": None,\n",
    "          \"output_dir\": None,\n",
    "          \"language\": \"english\",\n",
    "          \"output_type\": \"soft\"\n",
    "          }\n",
    "\n",
    "_, eval_results = sexism_classification_pipeline_task1(EnTrainTask1, EnDevTask1, EnTestTask1, modelname, 2, \"single_label_classification\", **params)"
   ]
  },
  {
   "cell_type": "code",
   "execution_count": 10,
   "metadata": {},
   "outputs": [
    {
     "name": "stderr",
     "output_type": "stream",
     "text": [
      "Some weights of RobertaForSequenceClassification were not initialized from the model checkpoint at pysentimiento/robertuito-sentiment-analysis and are newly initialized because the shapes did not match:\n",
      "- classifier.out_proj.bias: found shape torch.Size([3]) in the checkpoint and torch.Size([2]) in the model instantiated\n",
      "- classifier.out_proj.weight: found shape torch.Size([3, 768]) in the checkpoint and torch.Size([2, 768]) in the model instantiated\n",
      "You should probably TRAIN this model on a down-stream task to be able to use it for predictions and inference.\n"
     ]
    },
    {
     "data": {
      "text/html": [
       "\n",
       "    <div>\n",
       "      \n",
       "      <progress value='400' max='500' style='width:300px; height:20px; vertical-align: middle;'></progress>\n",
       "      [400/500 05:36 < 01:24, 1.18 it/s, Epoch 8/10]\n",
       "    </div>\n",
       "    <table border=\"1\" class=\"dataframe\">\n",
       "  <thead>\n",
       " <tr style=\"text-align: left;\">\n",
       "      <th>Epoch</th>\n",
       "      <th>Training Loss</th>\n",
       "      <th>Validation Loss</th>\n",
       "      <th>Accuracy</th>\n",
       "      <th>F1</th>\n",
       "      <th>Precision</th>\n",
       "      <th>Recall</th>\n",
       "    </tr>\n",
       "  </thead>\n",
       "  <tbody>\n",
       "    <tr>\n",
       "      <td>1</td>\n",
       "      <td>0.613300</td>\n",
       "      <td>0.570155</td>\n",
       "      <td>0.700000</td>\n",
       "      <td>0.744348</td>\n",
       "      <td>0.681529</td>\n",
       "      <td>0.819923</td>\n",
       "    </tr>\n",
       "    <tr>\n",
       "      <td>2</td>\n",
       "      <td>0.357900</td>\n",
       "      <td>0.350390</td>\n",
       "      <td>0.848980</td>\n",
       "      <td>0.848980</td>\n",
       "      <td>0.908297</td>\n",
       "      <td>0.796935</td>\n",
       "    </tr>\n",
       "    <tr>\n",
       "      <td>3</td>\n",
       "      <td>0.256800</td>\n",
       "      <td>0.327630</td>\n",
       "      <td>0.848980</td>\n",
       "      <td>0.856031</td>\n",
       "      <td>0.869565</td>\n",
       "      <td>0.842912</td>\n",
       "    </tr>\n",
       "    <tr>\n",
       "      <td>4</td>\n",
       "      <td>0.128600</td>\n",
       "      <td>0.451355</td>\n",
       "      <td>0.826531</td>\n",
       "      <td>0.826176</td>\n",
       "      <td>0.885965</td>\n",
       "      <td>0.773946</td>\n",
       "    </tr>\n",
       "    <tr>\n",
       "      <td>5</td>\n",
       "      <td>0.062300</td>\n",
       "      <td>0.464666</td>\n",
       "      <td>0.838776</td>\n",
       "      <td>0.844181</td>\n",
       "      <td>0.869919</td>\n",
       "      <td>0.819923</td>\n",
       "    </tr>\n",
       "    <tr>\n",
       "      <td>6</td>\n",
       "      <td>0.023700</td>\n",
       "      <td>0.666076</td>\n",
       "      <td>0.824490</td>\n",
       "      <td>0.825203</td>\n",
       "      <td>0.878788</td>\n",
       "      <td>0.777778</td>\n",
       "    </tr>\n",
       "    <tr>\n",
       "      <td>7</td>\n",
       "      <td>0.016100</td>\n",
       "      <td>0.699916</td>\n",
       "      <td>0.844898</td>\n",
       "      <td>0.852140</td>\n",
       "      <td>0.865613</td>\n",
       "      <td>0.839080</td>\n",
       "    </tr>\n",
       "    <tr>\n",
       "      <td>8</td>\n",
       "      <td>0.008900</td>\n",
       "      <td>0.818438</td>\n",
       "      <td>0.824490</td>\n",
       "      <td>0.824490</td>\n",
       "      <td>0.882096</td>\n",
       "      <td>0.773946</td>\n",
       "    </tr>\n",
       "  </tbody>\n",
       "</table><p>"
      ],
      "text/plain": [
       "<IPython.core.display.HTML object>"
      ]
     },
     "metadata": {},
     "output_type": "display_data"
    },
    {
     "data": {
      "text/html": [],
      "text/plain": [
       "<IPython.core.display.HTML object>"
      ]
     },
     "metadata": {},
     "output_type": "display_data"
    },
    {
     "name": "stdout",
     "output_type": "stream",
     "text": [
      "Validation Results: {'eval_loss': 0.32763049006462097, 'eval_accuracy': 0.8489795918367347, 'eval_f1': 0.8560311284046692, 'eval_precision': 0.8695652173913043, 'eval_recall': 0.842911877394636, 'eval_runtime': 1.9838, 'eval_samples_per_second': 247.001, 'eval_steps_per_second': 4.033, 'epoch': 8.0}\n",
      "Prediction for TASK 1 completed. Results saved to sexism_predictions_task1_soft_spanish.csv\n"
     ]
    }
   ],
   "source": [
    "modelname = \"pysentimiento/robertuito-sentiment-analysis\"\n",
    "params = {\"num_train_epochs\": 10,\n",
    "          \"learning_rate\": 3e-5,\n",
    "          \"scheduler_type\": \"linear\",\n",
    "          \"per_device_train_batch_size\": 64,\n",
    "          \"warmup_ratio\": 0.15,\n",
    "          \"early_stopping_patience\": 5, \n",
    "          \"logging_dir\": None,\n",
    "          \"output_dir\": None,\n",
    "          \"ignore_mismatched_sizes\": True,\n",
    "          \"language\": \"spanish\",\n",
    "          \"output_type\": \"soft\"\n",
    "          }\n",
    "\n",
    "_, eval_results = sexism_classification_pipeline_task1(SpTrainTask1, SpDevTask1, SpTestTask1, modelname, 2, \"single_label_classification\", **params)"
   ]
  },
  {
   "cell_type": "markdown",
   "metadata": {},
   "source": [
    "## Save predictions"
   ]
  },
  {
   "cell_type": "code",
   "execution_count": 11,
   "metadata": {},
   "outputs": [
    {
     "name": "stdout",
     "output_type": "stream",
     "text": [
      "Predictions saved\n"
     ]
    }
   ],
   "source": [
    "if create_submision_file(\"ArPa Project\", 1, \"soft\", run_id, 1, \".\", \"exist2025_ArPa Project\"):\n",
    "    print(\"Predictions saved\")"
   ]
  },
  {
   "cell_type": "markdown",
   "metadata": {},
   "source": [
    "## Training hard"
   ]
  },
  {
   "cell_type": "code",
   "execution_count": 12,
   "metadata": {},
   "outputs": [
    {
     "name": "stderr",
     "output_type": "stream",
     "text": [
      "Some weights of the model checkpoint at cardiffnlp/twitter-roberta-base-sentiment-latest were not used when initializing RobertaForSequenceClassification: ['roberta.pooler.dense.bias', 'roberta.pooler.dense.weight']\n",
      "- This IS expected if you are initializing RobertaForSequenceClassification from the checkpoint of a model trained on another task or with another architecture (e.g. initializing a BertForSequenceClassification model from a BertForPreTraining model).\n",
      "- This IS NOT expected if you are initializing RobertaForSequenceClassification from the checkpoint of a model that you expect to be exactly identical (initializing a BertForSequenceClassification model from a BertForSequenceClassification model).\n",
      "Some weights of RobertaForSequenceClassification were not initialized from the model checkpoint at cardiffnlp/twitter-roberta-base-sentiment-latest and are newly initialized because the shapes did not match:\n",
      "- classifier.out_proj.weight: found shape torch.Size([3, 768]) in the checkpoint and torch.Size([2, 768]) in the model instantiated\n",
      "- classifier.out_proj.bias: found shape torch.Size([3]) in the checkpoint and torch.Size([2]) in the model instantiated\n",
      "You should probably TRAIN this model on a down-stream task to be able to use it for predictions and inference.\n"
     ]
    },
    {
     "data": {
      "text/html": [
       "\n",
       "    <div>\n",
       "      \n",
       "      <progress value='360' max='450' style='width:300px; height:20px; vertical-align: middle;'></progress>\n",
       "      [360/450 05:36 < 01:24, 1.06 it/s, Epoch 8/10]\n",
       "    </div>\n",
       "    <table border=\"1\" class=\"dataframe\">\n",
       "  <thead>\n",
       " <tr style=\"text-align: left;\">\n",
       "      <th>Epoch</th>\n",
       "      <th>Training Loss</th>\n",
       "      <th>Validation Loss</th>\n",
       "      <th>Accuracy</th>\n",
       "      <th>F1</th>\n",
       "      <th>Precision</th>\n",
       "      <th>Recall</th>\n",
       "    </tr>\n",
       "  </thead>\n",
       "  <tbody>\n",
       "    <tr>\n",
       "      <td>1</td>\n",
       "      <td>0.570600</td>\n",
       "      <td>0.488930</td>\n",
       "      <td>0.759009</td>\n",
       "      <td>0.674772</td>\n",
       "      <td>0.822222</td>\n",
       "      <td>0.572165</td>\n",
       "    </tr>\n",
       "    <tr>\n",
       "      <td>2</td>\n",
       "      <td>0.405200</td>\n",
       "      <td>0.335848</td>\n",
       "      <td>0.858108</td>\n",
       "      <td>0.832891</td>\n",
       "      <td>0.857923</td>\n",
       "      <td>0.809278</td>\n",
       "    </tr>\n",
       "    <tr>\n",
       "      <td>3</td>\n",
       "      <td>0.247400</td>\n",
       "      <td>0.360473</td>\n",
       "      <td>0.849099</td>\n",
       "      <td>0.833747</td>\n",
       "      <td>0.803828</td>\n",
       "      <td>0.865979</td>\n",
       "    </tr>\n",
       "    <tr>\n",
       "      <td>4</td>\n",
       "      <td>0.150600</td>\n",
       "      <td>0.473865</td>\n",
       "      <td>0.851351</td>\n",
       "      <td>0.833333</td>\n",
       "      <td>0.816832</td>\n",
       "      <td>0.850515</td>\n",
       "    </tr>\n",
       "    <tr>\n",
       "      <td>5</td>\n",
       "      <td>0.099600</td>\n",
       "      <td>0.564318</td>\n",
       "      <td>0.840090</td>\n",
       "      <td>0.809651</td>\n",
       "      <td>0.843575</td>\n",
       "      <td>0.778351</td>\n",
       "    </tr>\n",
       "    <tr>\n",
       "      <td>6</td>\n",
       "      <td>0.042600</td>\n",
       "      <td>0.631383</td>\n",
       "      <td>0.828829</td>\n",
       "      <td>0.811881</td>\n",
       "      <td>0.780952</td>\n",
       "      <td>0.845361</td>\n",
       "    </tr>\n",
       "    <tr>\n",
       "      <td>7</td>\n",
       "      <td>0.057900</td>\n",
       "      <td>0.687715</td>\n",
       "      <td>0.842342</td>\n",
       "      <td>0.818653</td>\n",
       "      <td>0.822917</td>\n",
       "      <td>0.814433</td>\n",
       "    </tr>\n",
       "    <tr>\n",
       "      <td>8</td>\n",
       "      <td>0.021100</td>\n",
       "      <td>0.695373</td>\n",
       "      <td>0.844595</td>\n",
       "      <td>0.828784</td>\n",
       "      <td>0.799043</td>\n",
       "      <td>0.860825</td>\n",
       "    </tr>\n",
       "  </tbody>\n",
       "</table><p>"
      ],
      "text/plain": [
       "<IPython.core.display.HTML object>"
      ]
     },
     "metadata": {},
     "output_type": "display_data"
    },
    {
     "data": {
      "text/html": [],
      "text/plain": [
       "<IPython.core.display.HTML object>"
      ]
     },
     "metadata": {},
     "output_type": "display_data"
    },
    {
     "name": "stdout",
     "output_type": "stream",
     "text": [
      "Validation Results: {'eval_loss': 0.3604733645915985, 'eval_accuracy': 0.8490990990990991, 'eval_f1': 0.8337468982630273, 'eval_precision': 0.8038277511961722, 'eval_recall': 0.865979381443299, 'eval_runtime': 2.0098, 'eval_samples_per_second': 220.921, 'eval_steps_per_second': 3.483, 'epoch': 8.0}\n",
      "Prediction for TASK 1 completed. Results saved to sexism_predictions_task1_hard_english.csv\n"
     ]
    }
   ],
   "source": [
    "modelname = \"cardiffnlp/twitter-roberta-base-sentiment-latest\"\n",
    "params = {\"num_train_epochs\": 10,\n",
    "          \"learning_rate\": 3e-5,\n",
    "          \"scheduler_type\": \"linear\",\n",
    "          \"per_device_train_batch_size\": 64,\n",
    "          \"warmup_ratio\": 0.15,\n",
    "          \"early_stopping_patience\": 5,\n",
    "          \"ignore_mismatched_sizes\": True,\n",
    "          \"logging_dir\": None,\n",
    "          \"output_dir\": None,\n",
    "          \"language\": \"english\"\n",
    "          }\n",
    "\n",
    "_, eval_results = sexism_classification_pipeline_task1(EnTrainTask1, EnDevTask1, EnTestTask1, modelname, 2, \"single_label_classification\", **params)"
   ]
  },
  {
   "cell_type": "code",
   "execution_count": 13,
   "metadata": {},
   "outputs": [
    {
     "name": "stderr",
     "output_type": "stream",
     "text": [
      "Some weights of RobertaForSequenceClassification were not initialized from the model checkpoint at pysentimiento/robertuito-sentiment-analysis and are newly initialized because the shapes did not match:\n",
      "- classifier.out_proj.bias: found shape torch.Size([3]) in the checkpoint and torch.Size([2]) in the model instantiated\n",
      "- classifier.out_proj.weight: found shape torch.Size([3, 768]) in the checkpoint and torch.Size([2, 768]) in the model instantiated\n",
      "You should probably TRAIN this model on a down-stream task to be able to use it for predictions and inference.\n"
     ]
    },
    {
     "data": {
      "text/html": [
       "\n",
       "    <div>\n",
       "      \n",
       "      <progress value='500' max='500' style='width:300px; height:20px; vertical-align: middle;'></progress>\n",
       "      [500/500 08:01, Epoch 10/10]\n",
       "    </div>\n",
       "    <table border=\"1\" class=\"dataframe\">\n",
       "  <thead>\n",
       " <tr style=\"text-align: left;\">\n",
       "      <th>Epoch</th>\n",
       "      <th>Training Loss</th>\n",
       "      <th>Validation Loss</th>\n",
       "      <th>Accuracy</th>\n",
       "      <th>F1</th>\n",
       "      <th>Precision</th>\n",
       "      <th>Recall</th>\n",
       "    </tr>\n",
       "  </thead>\n",
       "  <tbody>\n",
       "    <tr>\n",
       "      <td>1</td>\n",
       "      <td>0.604700</td>\n",
       "      <td>0.556066</td>\n",
       "      <td>0.708163</td>\n",
       "      <td>0.748682</td>\n",
       "      <td>0.691558</td>\n",
       "      <td>0.816092</td>\n",
       "    </tr>\n",
       "    <tr>\n",
       "      <td>2</td>\n",
       "      <td>0.346000</td>\n",
       "      <td>0.334451</td>\n",
       "      <td>0.857143</td>\n",
       "      <td>0.861111</td>\n",
       "      <td>0.893004</td>\n",
       "      <td>0.831418</td>\n",
       "    </tr>\n",
       "    <tr>\n",
       "      <td>3</td>\n",
       "      <td>0.253300</td>\n",
       "      <td>0.339759</td>\n",
       "      <td>0.846939</td>\n",
       "      <td>0.854369</td>\n",
       "      <td>0.866142</td>\n",
       "      <td>0.842912</td>\n",
       "    </tr>\n",
       "    <tr>\n",
       "      <td>4</td>\n",
       "      <td>0.129800</td>\n",
       "      <td>0.442475</td>\n",
       "      <td>0.834694</td>\n",
       "      <td>0.832298</td>\n",
       "      <td>0.905405</td>\n",
       "      <td>0.770115</td>\n",
       "    </tr>\n",
       "    <tr>\n",
       "      <td>5</td>\n",
       "      <td>0.049700</td>\n",
       "      <td>0.490336</td>\n",
       "      <td>0.859184</td>\n",
       "      <td>0.867052</td>\n",
       "      <td>0.872093</td>\n",
       "      <td>0.862069</td>\n",
       "    </tr>\n",
       "    <tr>\n",
       "      <td>6</td>\n",
       "      <td>0.020900</td>\n",
       "      <td>0.670433</td>\n",
       "      <td>0.840816</td>\n",
       "      <td>0.841463</td>\n",
       "      <td>0.896104</td>\n",
       "      <td>0.793103</td>\n",
       "    </tr>\n",
       "    <tr>\n",
       "      <td>7</td>\n",
       "      <td>0.017700</td>\n",
       "      <td>0.689831</td>\n",
       "      <td>0.851020</td>\n",
       "      <td>0.858252</td>\n",
       "      <td>0.870079</td>\n",
       "      <td>0.846743</td>\n",
       "    </tr>\n",
       "    <tr>\n",
       "      <td>8</td>\n",
       "      <td>0.010900</td>\n",
       "      <td>0.839727</td>\n",
       "      <td>0.840816</td>\n",
       "      <td>0.841463</td>\n",
       "      <td>0.896104</td>\n",
       "      <td>0.793103</td>\n",
       "    </tr>\n",
       "    <tr>\n",
       "      <td>9</td>\n",
       "      <td>0.005900</td>\n",
       "      <td>0.835362</td>\n",
       "      <td>0.844898</td>\n",
       "      <td>0.846154</td>\n",
       "      <td>0.896996</td>\n",
       "      <td>0.800766</td>\n",
       "    </tr>\n",
       "    <tr>\n",
       "      <td>10</td>\n",
       "      <td>0.001300</td>\n",
       "      <td>0.815138</td>\n",
       "      <td>0.844898</td>\n",
       "      <td>0.848000</td>\n",
       "      <td>0.887029</td>\n",
       "      <td>0.812261</td>\n",
       "    </tr>\n",
       "  </tbody>\n",
       "</table><p>"
      ],
      "text/plain": [
       "<IPython.core.display.HTML object>"
      ]
     },
     "metadata": {},
     "output_type": "display_data"
    },
    {
     "data": {
      "text/html": [],
      "text/plain": [
       "<IPython.core.display.HTML object>"
      ]
     },
     "metadata": {},
     "output_type": "display_data"
    },
    {
     "name": "stdout",
     "output_type": "stream",
     "text": [
      "Validation Results: {'eval_loss': 0.49033576250076294, 'eval_accuracy': 0.8591836734693877, 'eval_f1': 0.8670520231213873, 'eval_precision': 0.872093023255814, 'eval_recall': 0.8620689655172413, 'eval_runtime': 2.2335, 'eval_samples_per_second': 219.389, 'eval_steps_per_second': 3.582, 'epoch': 10.0}\n",
      "Prediction for TASK 1 completed. Results saved to sexism_predictions_task1_hard_spanish.csv\n"
     ]
    }
   ],
   "source": [
    "modelname = \"pysentimiento/robertuito-sentiment-analysis\"\n",
    "params = {\"num_train_epochs\": 10,\n",
    "          \"learning_rate\": 3e-5,\n",
    "          \"scheduler_type\": \"linear\",\n",
    "          \"per_device_train_batch_size\": 64,\n",
    "          \"warmup_ratio\": 0.15,\n",
    "          \"early_stopping_patience\": 5, \n",
    "          \"logging_dir\": None,\n",
    "          \"output_dir\": None,\n",
    "          \"ignore_mismatched_sizes\": True,\n",
    "          \"language\": \"spanish\"\n",
    "          }\n",
    "\n",
    "_, eval_results = sexism_classification_pipeline_task1(SpTrainTask1, SpDevTask1, SpTestTask1, modelname, 2, \"single_label_classification\", **params)"
   ]
  },
  {
   "cell_type": "markdown",
   "metadata": {},
   "source": [
    "## Save predictions"
   ]
  },
  {
   "cell_type": "code",
   "execution_count": 14,
   "metadata": {},
   "outputs": [
    {
     "name": "stdout",
     "output_type": "stream",
     "text": [
      "Predictions saved\n"
     ]
    }
   ],
   "source": [
    "if create_submision_file(\"ArPa Project\", 1, \"hard\", run_id, 1, \".\", \"exist2025_ArPa Project\"):\n",
    "    print(\"Predictions saved\")"
   ]
  }
 ],
 "metadata": {
  "kernelspec": {
   "display_name": "transformers",
   "language": "python",
   "name": "python3"
  },
  "language_info": {
   "codemirror_mode": {
    "name": "ipython",
    "version": 3
   },
   "file_extension": ".py",
   "mimetype": "text/x-python",
   "name": "python",
   "nbconvert_exporter": "python",
   "pygments_lexer": "ipython3",
   "version": "3.12.9"
  }
 },
 "nbformat": 4,
 "nbformat_minor": 2
}
