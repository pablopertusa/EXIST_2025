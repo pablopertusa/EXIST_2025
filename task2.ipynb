{
 "cells": [
  {
   "cell_type": "markdown",
   "metadata": {},
   "source": [
    "<h1 align=\"center\">Exists2025:  Sexism Identification in Twitter</h1>\n",
    "<h2 align=\"center\">Task 1. Fine-tuning for binary classification\n",
    "<h3 style=\"display:block; margin-top:5px;\" align=\"center\">ETSInf. Universitat Politècnica de València</h3>\n",
    "<br>"
   ]
  },
  {
   "cell_type": "markdown",
   "metadata": {},
   "source": [
    "## Libraries"
   ]
  },
  {
   "cell_type": "code",
   "execution_count": 1,
   "metadata": {},
   "outputs": [],
   "source": [
    "import numpy as np\n",
    "import torch\n",
    "from torch.utils.data import Dataset, DataLoader\n",
    "from transformers import  AutoTokenizer, AutoModelForSequenceClassification,  Trainer, TrainingArguments,  EarlyStoppingCallback, AutoConfig\n",
    "from sklearn.metrics import accuracy_score, precision_recall_fscore_support\n",
    "from sklearn.preprocessing import LabelEncoder\n",
    "import random\n",
    "import os\n",
    "import pandas as pd\n",
    "from readerEXIST2025 import EXISTReader\n",
    "import re\n",
    "import emoji\n",
    "from create_submision_folder import create_submision_file"
   ]
  },
  {
   "cell_type": "markdown",
   "metadata": {},
   "source": [
    "## Read data"
   ]
  },
  {
   "cell_type": "code",
   "execution_count": 2,
   "metadata": {},
   "outputs": [],
   "source": [
    "url = r\"\\bhttps?://[\\w.-]+(?:\\.[a-zA-Z]{2,})?(?:/\\S*/?)?\"\n",
    "\n",
    "emojis = sorted(emoji.EMOJI_DATA, key=len, reverse=True)\n",
    "pattern_emoji = \"(\" + \"|\".join(re.escape(u) for u in emojis) + \")\"\n",
    "\n",
    "pattern_all = r\"|\".join(\n",
    "    [\n",
    "        url,\n",
    "        pattern_emoji,\n",
    "    ]\n",
    ")\n",
    "\n",
    "re_all = re.compile(pattern_all, re.U)"
   ]
  },
  {
   "cell_type": "code",
   "execution_count": 3,
   "metadata": {},
   "outputs": [],
   "source": [
    "file_train = \"data/EXIST 2025 Tweets Dataset/training/EXIST2025_training.json\"\n",
    "file_dev = \"data/EXIST 2025 Tweets Dataset/dev/EXIST2025_dev.json\"\n",
    "file_test = \"data/EXIST 2025 Tweets Dataset/test/EXIST2025_test_clean.json\"\n",
    "\n",
    "reader_train = EXISTReader(file_train)\n",
    "reader_dev = EXISTReader(file_dev)\n",
    "reader_test = EXISTReader(file_test, is_test=True)\n",
    "\n",
    "EnTrainTask2, EnDevTask2, EnTestTask2 = reader_train.get(lang=\"EN\", subtask=\"2\", regular_exp=re_all, preprocess=True), reader_dev.get(lang=\"EN\", subtask=\"2\", regular_exp=re_all, preprocess=True), reader_test.get(lang=\"EN\", subtask=\"2\", regular_exp=re_all, preprocess=True)\n",
    "SpTrainTask2, SpDevTask2, SpTestTask2 = reader_train.get(lang=\"ES\", subtask=\"2\", regular_exp=re_all, preprocess=True), reader_dev.get(lang=\"ES\", subtask=\"2\", regular_exp=re_all, preprocess=True), reader_test.get(lang=\"ES\", subtask=\"2\", regular_exp=re_all, preprocess=True)"
   ]
  },
  {
   "cell_type": "code",
   "execution_count": 4,
   "metadata": {},
   "outputs": [
    {
     "data": {
      "text/plain": [
       "array(['REPORTED', 'NO', 'JUDGEMENTAL', 'DIRECT'], dtype=object)"
      ]
     },
     "execution_count": 4,
     "metadata": {},
     "output_type": "execute_result"
    }
   ],
   "source": [
    "EnTrainTask2[2].unique()"
   ]
  },
  {
   "cell_type": "markdown",
   "metadata": {},
   "source": [
    "Ahora tenemos 4 labels, incluyendo al NO también."
   ]
  },
  {
   "cell_type": "code",
   "execution_count": 5,
   "metadata": {},
   "outputs": [
    {
     "data": {
      "text/plain": [
       "True"
      ]
     },
     "execution_count": 5,
     "metadata": {},
     "output_type": "execute_result"
    }
   ],
   "source": [
    "torch.cuda.is_available()"
   ]
  },
  {
   "cell_type": "markdown",
   "metadata": {},
   "source": [
    "## Set seed"
   ]
  },
  {
   "cell_type": "code",
   "execution_count": 6,
   "metadata": {},
   "outputs": [],
   "source": [
    "def set_seed(seed=1234):\n",
    "    \"\"\"\n",
    "    Sets the seed to make everything deterministic, for reproducibility of experiments\n",
    "    Parameters:\n",
    "    seed: the number to set the seed to\n",
    "    Return: None\n",
    "    \"\"\"\n",
    "    # Random seed\n",
    "    random.seed(seed)\n",
    "    # Numpy seed\n",
    "    np.random.seed(seed)\n",
    "    # Torch seed\n",
    "    torch.manual_seed(seed)\n",
    "    torch.cuda.manual_seed(seed)\n",
    "    torch.backends.cudnn.deterministic = True\n",
    "    torch.backends.cudnn.benchmark = True\n",
    "    # os seed\n",
    "    os.environ['PYTHONHASHSEED'] = str(seed)"
   ]
  },
  {
   "cell_type": "markdown",
   "metadata": {},
   "source": [
    "## Dataset class"
   ]
  },
  {
   "cell_type": "code",
   "execution_count": 7,
   "metadata": {},
   "outputs": [],
   "source": [
    "class SexismDataset(Dataset):\n",
    "    def __init__(self, texts, labels, ids, tokenizer, max_len=128, pad=\"max_length\", trunc=True,rt='pt'):\n",
    "        self.texts = texts.tolist()\n",
    "        self.labels = labels\n",
    "        self.ids = ids\n",
    "        self.tokenizer = tokenizer\n",
    "        self.max_len = max_len\n",
    "        self.pad = pad\n",
    "        self.trunc = trunc\n",
    "        self.rt = rt\n",
    "\n",
    "    def __len__(self):\n",
    "        return len(self.texts)\n",
    "\n",
    "    def __getitem__(self, idx):\n",
    "        text = str(self.texts[idx])\n",
    "        inputs = self.tokenizer.encode_plus(\n",
    "            text,\n",
    "            add_special_tokens=True,\n",
    "            max_length=self.max_len,padding=self.pad, truncation=self.trunc,\n",
    "            return_tensors=self.rt\n",
    "        )\n",
    "\n",
    "        return {\n",
    "            'input_ids': inputs['input_ids'].flatten(),\n",
    "            'attention_mask': inputs['attention_mask'].flatten(),\n",
    "            'labels': torch.tensor(self.labels[idx], dtype=torch.long),\n",
    "            'id': torch.tensor(self.ids[idx], dtype=torch.long)\n",
    "        }"
   ]
  },
  {
   "cell_type": "markdown",
   "metadata": {},
   "source": [
    "## Metrics"
   ]
  },
  {
   "cell_type": "code",
   "execution_count": 8,
   "metadata": {},
   "outputs": [],
   "source": [
    "def compute_metrics_2(pred):\n",
    "    labels = pred.label_ids\n",
    "    preds = pred.predictions.argmax(-1)\n",
    "    precision, recall, f1, _ = precision_recall_fscore_support(\n",
    "        labels, preds, average='macro', zero_division=0\n",
    "    )\n",
    "    acc = accuracy_score(labels, preds)\n",
    "    return {\n",
    "        'accuracy': acc,\n",
    "        'f1': f1,\n",
    "        'precision': precision,\n",
    "        'recall': recall\n",
    "    }"
   ]
  },
  {
   "cell_type": "markdown",
   "metadata": {},
   "source": [
    "## Pipeline"
   ]
  },
  {
   "cell_type": "code",
   "execution_count": 9,
   "metadata": {},
   "outputs": [],
   "source": [
    "def sexism_classification_pipeline_task2(trainInfo, devInfo, testInfo=None, model_name='bert-base-uncased', nlabels=3, ptype=\"single_label_classification\", **args):\n",
    "    # Model and Tokenizer\n",
    "    labelEnc= LabelEncoder()\n",
    "    tokenizer = AutoTokenizer.from_pretrained(model_name)\n",
    "    model = AutoModelForSequenceClassification.from_pretrained(\n",
    "        model_name,\n",
    "        num_labels=nlabels,\n",
    "        problem_type=ptype,\n",
    "        ignore_mismatched_sizes=args.get(\"ignore_mismatched_sizes\", False)\n",
    "    )\n",
    "\n",
    "    # Prepare datasets\n",
    "    train_dataset = SexismDataset(trainInfo[1], labelEnc.fit_transform(trainInfo[2]),[int(x) for x in trainInfo[0]], tokenizer )\n",
    "    val_dataset = SexismDataset(devInfo[1], labelEnc.transform(devInfo[2]), [int(x) for x in devInfo[0]], tokenizer)\n",
    "\n",
    "    # Training Arguments\n",
    "    training_args = TrainingArguments(\n",
    "        report_to=\"none\", # alt: \"wandb\", \"tensorboard\" \"comet_ml\" \"mlflow\" \"clearml\"\n",
    "        output_dir= args.get('output_dir', './results'),\n",
    "        num_train_epochs= args.get('num_train_epochs', 5),\n",
    "        learning_rate=args.get('learning_rate', 5e-5),\n",
    "        per_device_train_batch_size=args.get('per_device_train_batch_size', 16),\n",
    "        per_device_eval_batch_size=args.get('per_device_eval_batch_size', 64),\n",
    "        #warmup_steps=args.get('warmup_steps', 500),\n",
    "        warmup_ratio=args.get(\"warmup_ratio\", 0.1),\n",
    "        weight_decay=args.get('weight_decay',0.01),\n",
    "        lr_scheduler_type=args.get(\"scheduler_type\", \"linear\"),\n",
    "        logging_dir=args.get('logging_dir', './logs'),\n",
    "        logging_steps=args.get('logging_steps', 10),\n",
    "        eval_strategy=args.get('eval_strategy','epoch'),\n",
    "        save_strategy=args.get('save_strategy', \"epoch\"),\n",
    "        save_total_limit=args.get('save_total_limit', 1),\n",
    "        load_best_model_at_end=args.get('load_best_model_at_end', True),\n",
    "        #metric_for_best_model=args.get('metric_for_best_model',\"ICM\")\n",
    "        metric_for_best_model=args.get('metric_for_best_model',\"f1\")\n",
    "    )\n",
    "\n",
    "    # Initialize Trainer\n",
    "    trainer = Trainer(\n",
    "        model=model,\n",
    "        args=training_args,\n",
    "        train_dataset=train_dataset,\n",
    "        eval_dataset=val_dataset,\n",
    "        compute_metrics=compute_metrics_2,\n",
    "        callbacks=[EarlyStoppingCallback(early_stopping_patience=args.get(\"early_stopping_patience\",3))]\n",
    "    )\n",
    "\n",
    "    # Fine-tune the model\n",
    "    trainer.train()\n",
    "\n",
    "    # Evaluate on validation set\n",
    "    eval_results = trainer.evaluate()\n",
    "    print(\"Validation Results:\", eval_results)\n",
    "\n",
    "    # If there is a test dataset\n",
    "    if testInfo is not None:\n",
    "        # Prepare test dataset for prediction\n",
    "        test_dataset = SexismDataset(testInfo[1], [0] * len(testInfo[1]),  [int(x) for x in testInfo[0]],   tokenizer)\n",
    "        output_type = args.get(\"output_type\", \"hard\")\n",
    "        predictions = trainer.predict(test_dataset)\n",
    "\n",
    "        # Predict test set labels\n",
    "        if output_type == \"hard\":\n",
    "            predicted_labels = np.argmax(predictions.predictions, axis=1)\n",
    "            # Create submission DataFrame\n",
    "            submission_df = pd.DataFrame({\n",
    "                'id': testInfo[0],\n",
    "                'label': labelEnc.inverse_transform(predicted_labels),\n",
    "                \"test_case\": [\"EXIST2025\"]*len(predicted_labels)\n",
    "            })\n",
    "\n",
    "        elif output_type == \"soft\":\n",
    "            probabilities = torch.softmax(torch.tensor(predictions.predictions), axis=1)\n",
    "            submission_data = {\n",
    "                'id': testInfo[0],\n",
    "                \"test_case\": [\"EXIST2025\"] * len(probabilities)\n",
    "            }\n",
    "            list_probabilities = []\n",
    "            for i in range(probabilities.shape[0]):\n",
    "                value = {}\n",
    "                for c in range(probabilities.shape[1]):\n",
    "                    original_label = labelEnc.inverse_transform([c])[0]\n",
    "                    value[original_label] = probabilities[i, c].item()\n",
    "                list_probabilities.append(value)\n",
    "\n",
    "            submission_data[\"value\"] = list_probabilities\n",
    "            submission_df = pd.DataFrame(submission_data)\n",
    "\n",
    "        language = args.get(\"language\", \"english\")\n",
    "        submission_df.to_csv(f'sexism_predictions_task2_{output_type}_{language}.csv', index=False)\n",
    "        print(f\"Prediction TASK2 completed. Results saved to sexism_predictions_task2_{output_type}_{language}.csv\")\n",
    "        return model, submission_df\n",
    "    return model, eval_results\n"
   ]
  },
  {
   "cell_type": "markdown",
   "metadata": {},
   "source": [
    "## Run id"
   ]
  },
  {
   "cell_type": "markdown",
   "metadata": {},
   "source": [
    "Before training, we specify the `run_id` for the predictions."
   ]
  },
  {
   "cell_type": "code",
   "execution_count": 10,
   "metadata": {},
   "outputs": [],
   "source": [
    "run_id = 3"
   ]
  },
  {
   "cell_type": "markdown",
   "metadata": {},
   "source": [
    "## Training soft"
   ]
  },
  {
   "cell_type": "code",
   "execution_count": 11,
   "metadata": {},
   "outputs": [
    {
     "name": "stderr",
     "output_type": "stream",
     "text": [
      "Some weights of the model checkpoint at cardiffnlp/twitter-roberta-base-sentiment-latest were not used when initializing RobertaForSequenceClassification: ['roberta.pooler.dense.bias', 'roberta.pooler.dense.weight']\n",
      "- This IS expected if you are initializing RobertaForSequenceClassification from the checkpoint of a model trained on another task or with another architecture (e.g. initializing a BertForSequenceClassification model from a BertForPreTraining model).\n",
      "- This IS NOT expected if you are initializing RobertaForSequenceClassification from the checkpoint of a model that you expect to be exactly identical (initializing a BertForSequenceClassification model from a BertForSequenceClassification model).\n",
      "Some weights of RobertaForSequenceClassification were not initialized from the model checkpoint at cardiffnlp/twitter-roberta-base-sentiment-latest and are newly initialized because the shapes did not match:\n",
      "- classifier.out_proj.weight: found shape torch.Size([3, 768]) in the checkpoint and torch.Size([4, 768]) in the model instantiated\n",
      "- classifier.out_proj.bias: found shape torch.Size([3]) in the checkpoint and torch.Size([4]) in the model instantiated\n",
      "You should probably TRAIN this model on a down-stream task to be able to use it for predictions and inference.\n"
     ]
    },
    {
     "data": {
      "text/html": [
       "\n",
       "    <div>\n",
       "      \n",
       "      <progress value='410' max='410' style='width:300px; height:20px; vertical-align: middle;'></progress>\n",
       "      [410/410 06:33, Epoch 10/10]\n",
       "    </div>\n",
       "    <table border=\"1\" class=\"dataframe\">\n",
       "  <thead>\n",
       " <tr style=\"text-align: left;\">\n",
       "      <th>Epoch</th>\n",
       "      <th>Training Loss</th>\n",
       "      <th>Validation Loss</th>\n",
       "      <th>Accuracy</th>\n",
       "      <th>F1</th>\n",
       "      <th>Precision</th>\n",
       "      <th>Recall</th>\n",
       "    </tr>\n",
       "  </thead>\n",
       "  <tbody>\n",
       "    <tr>\n",
       "      <td>1</td>\n",
       "      <td>0.849100</td>\n",
       "      <td>0.859978</td>\n",
       "      <td>0.712121</td>\n",
       "      <td>0.345647</td>\n",
       "      <td>0.335255</td>\n",
       "      <td>0.365471</td>\n",
       "    </tr>\n",
       "    <tr>\n",
       "      <td>2</td>\n",
       "      <td>0.633400</td>\n",
       "      <td>0.676770</td>\n",
       "      <td>0.734848</td>\n",
       "      <td>0.475895</td>\n",
       "      <td>0.452461</td>\n",
       "      <td>0.523893</td>\n",
       "    </tr>\n",
       "    <tr>\n",
       "      <td>3</td>\n",
       "      <td>0.495200</td>\n",
       "      <td>0.669254</td>\n",
       "      <td>0.770202</td>\n",
       "      <td>0.483698</td>\n",
       "      <td>0.480643</td>\n",
       "      <td>0.490674</td>\n",
       "    </tr>\n",
       "    <tr>\n",
       "      <td>4</td>\n",
       "      <td>0.406000</td>\n",
       "      <td>0.724687</td>\n",
       "      <td>0.729798</td>\n",
       "      <td>0.502441</td>\n",
       "      <td>0.522433</td>\n",
       "      <td>0.559570</td>\n",
       "    </tr>\n",
       "    <tr>\n",
       "      <td>5</td>\n",
       "      <td>0.373500</td>\n",
       "      <td>0.684532</td>\n",
       "      <td>0.765152</td>\n",
       "      <td>0.529355</td>\n",
       "      <td>0.540138</td>\n",
       "      <td>0.524119</td>\n",
       "    </tr>\n",
       "    <tr>\n",
       "      <td>6</td>\n",
       "      <td>0.218000</td>\n",
       "      <td>0.867907</td>\n",
       "      <td>0.755051</td>\n",
       "      <td>0.518510</td>\n",
       "      <td>0.559958</td>\n",
       "      <td>0.531032</td>\n",
       "    </tr>\n",
       "    <tr>\n",
       "      <td>7</td>\n",
       "      <td>0.145900</td>\n",
       "      <td>0.928223</td>\n",
       "      <td>0.750000</td>\n",
       "      <td>0.508224</td>\n",
       "      <td>0.525847</td>\n",
       "      <td>0.499132</td>\n",
       "    </tr>\n",
       "    <tr>\n",
       "      <td>8</td>\n",
       "      <td>0.142100</td>\n",
       "      <td>0.973566</td>\n",
       "      <td>0.752525</td>\n",
       "      <td>0.537099</td>\n",
       "      <td>0.538961</td>\n",
       "      <td>0.544385</td>\n",
       "    </tr>\n",
       "    <tr>\n",
       "      <td>9</td>\n",
       "      <td>0.122200</td>\n",
       "      <td>0.982749</td>\n",
       "      <td>0.752525</td>\n",
       "      <td>0.538542</td>\n",
       "      <td>0.552366</td>\n",
       "      <td>0.533787</td>\n",
       "    </tr>\n",
       "    <tr>\n",
       "      <td>10</td>\n",
       "      <td>0.072900</td>\n",
       "      <td>0.987804</td>\n",
       "      <td>0.760101</td>\n",
       "      <td>0.550725</td>\n",
       "      <td>0.563616</td>\n",
       "      <td>0.543363</td>\n",
       "    </tr>\n",
       "  </tbody>\n",
       "</table><p>"
      ],
      "text/plain": [
       "<IPython.core.display.HTML object>"
      ]
     },
     "metadata": {},
     "output_type": "display_data"
    },
    {
     "data": {
      "text/html": [],
      "text/plain": [
       "<IPython.core.display.HTML object>"
      ]
     },
     "metadata": {},
     "output_type": "display_data"
    },
    {
     "name": "stdout",
     "output_type": "stream",
     "text": [
      "Validation Results: {'eval_loss': 0.9878035187721252, 'eval_accuracy': 0.76010101010101, 'eval_f1': 0.5507246479390469, 'eval_precision': 0.5636160714285714, 'eval_recall': 0.5433627450980393, 'eval_runtime': 2.8465, 'eval_samples_per_second': 139.119, 'eval_steps_per_second': 2.459, 'epoch': 10.0}\n",
      "Prediction TASK2 completed. Results saved to sexism_predictions_task2_soft_english.csv\n"
     ]
    }
   ],
   "source": [
    "modelname = \"cardiffnlp/twitter-roberta-base-sentiment-latest\"\n",
    "params = {\"num_train_epochs\": 10,\n",
    "          \"learning_rate\": 3e-5,\n",
    "          \"scheduler_type\": \"linear\",\n",
    "          \"per_device_train_batch_size\": 64,\n",
    "          \"warmup_ratio\": 0.15,\n",
    "          \"early_stopping_patience\": 5,\n",
    "          \"ignore_mismatched_sizes\": True,\n",
    "          \"output_dir\": None,\n",
    "          \"logging_dir\": None,\n",
    "          \"language\": \"english\",\n",
    "          \"output_type\": \"soft\"\n",
    "          }\n",
    "\n",
    "_, eval_results = sexism_classification_pipeline_task2(EnTrainTask2, EnDevTask2, EnTestTask2, modelname, 4, \"single_label_classification\", **params)"
   ]
  },
  {
   "cell_type": "code",
   "execution_count": 12,
   "metadata": {},
   "outputs": [
    {
     "name": "stderr",
     "output_type": "stream",
     "text": [
      "Some weights of RobertaForSequenceClassification were not initialized from the model checkpoint at pysentimiento/robertuito-sentiment-analysis and are newly initialized because the shapes did not match:\n",
      "- classifier.out_proj.bias: found shape torch.Size([3]) in the checkpoint and torch.Size([4]) in the model instantiated\n",
      "- classifier.out_proj.weight: found shape torch.Size([3, 768]) in the checkpoint and torch.Size([4, 768]) in the model instantiated\n",
      "You should probably TRAIN this model on a down-stream task to be able to use it for predictions and inference.\n"
     ]
    },
    {
     "data": {
      "text/html": [
       "\n",
       "    <div>\n",
       "      \n",
       "      <progress value='405' max='450' style='width:300px; height:20px; vertical-align: middle;'></progress>\n",
       "      [405/450 06:19 < 00:42, 1.06 it/s, Epoch 9/10]\n",
       "    </div>\n",
       "    <table border=\"1\" class=\"dataframe\">\n",
       "  <thead>\n",
       " <tr style=\"text-align: left;\">\n",
       "      <th>Epoch</th>\n",
       "      <th>Training Loss</th>\n",
       "      <th>Validation Loss</th>\n",
       "      <th>Accuracy</th>\n",
       "      <th>F1</th>\n",
       "      <th>Precision</th>\n",
       "      <th>Recall</th>\n",
       "    </tr>\n",
       "  </thead>\n",
       "  <tbody>\n",
       "    <tr>\n",
       "      <td>1</td>\n",
       "      <td>0.983500</td>\n",
       "      <td>1.076162</td>\n",
       "      <td>0.584862</td>\n",
       "      <td>0.308207</td>\n",
       "      <td>0.278284</td>\n",
       "      <td>0.346446</td>\n",
       "    </tr>\n",
       "    <tr>\n",
       "      <td>2</td>\n",
       "      <td>0.700600</td>\n",
       "      <td>0.778490</td>\n",
       "      <td>0.701835</td>\n",
       "      <td>0.420658</td>\n",
       "      <td>0.738648</td>\n",
       "      <td>0.452249</td>\n",
       "    </tr>\n",
       "    <tr>\n",
       "      <td>3</td>\n",
       "      <td>0.558100</td>\n",
       "      <td>0.668876</td>\n",
       "      <td>0.720183</td>\n",
       "      <td>0.537833</td>\n",
       "      <td>0.580084</td>\n",
       "      <td>0.539522</td>\n",
       "    </tr>\n",
       "    <tr>\n",
       "      <td>4</td>\n",
       "      <td>0.326500</td>\n",
       "      <td>0.708268</td>\n",
       "      <td>0.752294</td>\n",
       "      <td>0.602231</td>\n",
       "      <td>0.681216</td>\n",
       "      <td>0.580699</td>\n",
       "    </tr>\n",
       "    <tr>\n",
       "      <td>5</td>\n",
       "      <td>0.198200</td>\n",
       "      <td>0.802970</td>\n",
       "      <td>0.743119</td>\n",
       "      <td>0.565107</td>\n",
       "      <td>0.640560</td>\n",
       "      <td>0.553186</td>\n",
       "    </tr>\n",
       "    <tr>\n",
       "      <td>6</td>\n",
       "      <td>0.133400</td>\n",
       "      <td>0.805781</td>\n",
       "      <td>0.738532</td>\n",
       "      <td>0.590011</td>\n",
       "      <td>0.609761</td>\n",
       "      <td>0.588066</td>\n",
       "    </tr>\n",
       "    <tr>\n",
       "      <td>7</td>\n",
       "      <td>0.098500</td>\n",
       "      <td>0.858299</td>\n",
       "      <td>0.731651</td>\n",
       "      <td>0.585645</td>\n",
       "      <td>0.596692</td>\n",
       "      <td>0.586474</td>\n",
       "    </tr>\n",
       "    <tr>\n",
       "      <td>8</td>\n",
       "      <td>0.055800</td>\n",
       "      <td>0.941734</td>\n",
       "      <td>0.733945</td>\n",
       "      <td>0.593762</td>\n",
       "      <td>0.631564</td>\n",
       "      <td>0.582407</td>\n",
       "    </tr>\n",
       "    <tr>\n",
       "      <td>9</td>\n",
       "      <td>0.049200</td>\n",
       "      <td>0.975099</td>\n",
       "      <td>0.743119</td>\n",
       "      <td>0.585613</td>\n",
       "      <td>0.620620</td>\n",
       "      <td>0.578090</td>\n",
       "    </tr>\n",
       "  </tbody>\n",
       "</table><p>"
      ],
      "text/plain": [
       "<IPython.core.display.HTML object>"
      ]
     },
     "metadata": {},
     "output_type": "display_data"
    },
    {
     "data": {
      "text/html": [],
      "text/plain": [
       "<IPython.core.display.HTML object>"
      ]
     },
     "metadata": {},
     "output_type": "display_data"
    },
    {
     "name": "stdout",
     "output_type": "stream",
     "text": [
      "Validation Results: {'eval_loss': 0.7082683444023132, 'eval_accuracy': 0.7522935779816514, 'eval_f1': 0.6022310843082902, 'eval_precision': 0.6812157416923604, 'eval_recall': 0.5806986493588552, 'eval_runtime': 1.9767, 'eval_samples_per_second': 220.575, 'eval_steps_per_second': 3.541, 'epoch': 9.0}\n",
      "Prediction TASK2 completed. Results saved to sexism_predictions_task2_soft_spanish.csv\n"
     ]
    }
   ],
   "source": [
    "modelname = \"pysentimiento/robertuito-sentiment-analysis\"\n",
    "params = {\"num_train_epochs\": 10,\n",
    "          \"learning_rate\": 3e-5,\n",
    "          \"scheduler_type\": \"linear\",\n",
    "          \"per_device_train_batch_size\": 64,\n",
    "          \"warmup_ratio\": 0.15,\n",
    "          \"early_stopping_patience\": 5, \n",
    "          \"ignore_mismatched_sizes\": True,\n",
    "          \"output_dir\": None,\n",
    "          \"logging_dir\": None,\n",
    "          \"language\": \"spanish\",\n",
    "          \"output_type\": \"soft\"\n",
    "          }\n",
    "\n",
    "_, eval_results = sexism_classification_pipeline_task2(SpTrainTask2, SpDevTask2, SpTestTask2, modelname, 4, \"single_label_classification\", **params)"
   ]
  },
  {
   "cell_type": "markdown",
   "metadata": {},
   "source": [
    "## Save predictions"
   ]
  },
  {
   "cell_type": "code",
   "execution_count": 13,
   "metadata": {},
   "outputs": [
    {
     "name": "stdout",
     "output_type": "stream",
     "text": [
      "Predictions saved\n"
     ]
    }
   ],
   "source": [
    "if create_submision_file(\"ArPa Project\", 1, \"soft\", run_id, 2, \".\", \"exist2025_ArPa Project\"):\n",
    "    print(\"Predictions saved\")"
   ]
  },
  {
   "cell_type": "markdown",
   "metadata": {},
   "source": [
    "## Training hard"
   ]
  },
  {
   "cell_type": "code",
   "execution_count": 14,
   "metadata": {},
   "outputs": [
    {
     "name": "stderr",
     "output_type": "stream",
     "text": [
      "Some weights of the model checkpoint at cardiffnlp/twitter-roberta-base-sentiment-latest were not used when initializing RobertaForSequenceClassification: ['roberta.pooler.dense.bias', 'roberta.pooler.dense.weight']\n",
      "- This IS expected if you are initializing RobertaForSequenceClassification from the checkpoint of a model trained on another task or with another architecture (e.g. initializing a BertForSequenceClassification model from a BertForPreTraining model).\n",
      "- This IS NOT expected if you are initializing RobertaForSequenceClassification from the checkpoint of a model that you expect to be exactly identical (initializing a BertForSequenceClassification model from a BertForSequenceClassification model).\n",
      "Some weights of RobertaForSequenceClassification were not initialized from the model checkpoint at cardiffnlp/twitter-roberta-base-sentiment-latest and are newly initialized because the shapes did not match:\n",
      "- classifier.out_proj.weight: found shape torch.Size([3, 768]) in the checkpoint and torch.Size([4, 768]) in the model instantiated\n",
      "- classifier.out_proj.bias: found shape torch.Size([3]) in the checkpoint and torch.Size([4]) in the model instantiated\n",
      "You should probably TRAIN this model on a down-stream task to be able to use it for predictions and inference.\n"
     ]
    },
    {
     "data": {
      "text/html": [
       "\n",
       "    <div>\n",
       "      \n",
       "      <progress value='369' max='410' style='width:300px; height:20px; vertical-align: middle;'></progress>\n",
       "      [369/410 05:36 < 00:37, 1.09 it/s, Epoch 9/10]\n",
       "    </div>\n",
       "    <table border=\"1\" class=\"dataframe\">\n",
       "  <thead>\n",
       " <tr style=\"text-align: left;\">\n",
       "      <th>Epoch</th>\n",
       "      <th>Training Loss</th>\n",
       "      <th>Validation Loss</th>\n",
       "      <th>Accuracy</th>\n",
       "      <th>F1</th>\n",
       "      <th>Precision</th>\n",
       "      <th>Recall</th>\n",
       "    </tr>\n",
       "  </thead>\n",
       "  <tbody>\n",
       "    <tr>\n",
       "      <td>1</td>\n",
       "      <td>0.848200</td>\n",
       "      <td>0.829997</td>\n",
       "      <td>0.714646</td>\n",
       "      <td>0.348852</td>\n",
       "      <td>0.338776</td>\n",
       "      <td>0.368412</td>\n",
       "    </tr>\n",
       "    <tr>\n",
       "      <td>2</td>\n",
       "      <td>0.639600</td>\n",
       "      <td>0.669174</td>\n",
       "      <td>0.742424</td>\n",
       "      <td>0.473641</td>\n",
       "      <td>0.460286</td>\n",
       "      <td>0.515246</td>\n",
       "    </tr>\n",
       "    <tr>\n",
       "      <td>3</td>\n",
       "      <td>0.502800</td>\n",
       "      <td>0.671299</td>\n",
       "      <td>0.762626</td>\n",
       "      <td>0.462646</td>\n",
       "      <td>0.469053</td>\n",
       "      <td>0.465253</td>\n",
       "    </tr>\n",
       "    <tr>\n",
       "      <td>4</td>\n",
       "      <td>0.405800</td>\n",
       "      <td>0.747266</td>\n",
       "      <td>0.737374</td>\n",
       "      <td>0.564501</td>\n",
       "      <td>0.572892</td>\n",
       "      <td>0.608037</td>\n",
       "    </tr>\n",
       "    <tr>\n",
       "      <td>5</td>\n",
       "      <td>0.334000</td>\n",
       "      <td>0.701140</td>\n",
       "      <td>0.772727</td>\n",
       "      <td>0.558233</td>\n",
       "      <td>0.570323</td>\n",
       "      <td>0.562843</td>\n",
       "    </tr>\n",
       "    <tr>\n",
       "      <td>6</td>\n",
       "      <td>0.208800</td>\n",
       "      <td>0.865906</td>\n",
       "      <td>0.752525</td>\n",
       "      <td>0.518156</td>\n",
       "      <td>0.540531</td>\n",
       "      <td>0.505682</td>\n",
       "    </tr>\n",
       "    <tr>\n",
       "      <td>7</td>\n",
       "      <td>0.130500</td>\n",
       "      <td>0.914676</td>\n",
       "      <td>0.747475</td>\n",
       "      <td>0.547845</td>\n",
       "      <td>0.547596</td>\n",
       "      <td>0.554632</td>\n",
       "    </tr>\n",
       "    <tr>\n",
       "      <td>8</td>\n",
       "      <td>0.122100</td>\n",
       "      <td>0.979074</td>\n",
       "      <td>0.744949</td>\n",
       "      <td>0.552096</td>\n",
       "      <td>0.555825</td>\n",
       "      <td>0.553523</td>\n",
       "    </tr>\n",
       "    <tr>\n",
       "      <td>9</td>\n",
       "      <td>0.097300</td>\n",
       "      <td>1.005615</td>\n",
       "      <td>0.744949</td>\n",
       "      <td>0.542460</td>\n",
       "      <td>0.545460</td>\n",
       "      <td>0.541561</td>\n",
       "    </tr>\n",
       "  </tbody>\n",
       "</table><p>"
      ],
      "text/plain": [
       "<IPython.core.display.HTML object>"
      ]
     },
     "metadata": {},
     "output_type": "display_data"
    },
    {
     "data": {
      "text/html": [],
      "text/plain": [
       "<IPython.core.display.HTML object>"
      ]
     },
     "metadata": {},
     "output_type": "display_data"
    },
    {
     "name": "stdout",
     "output_type": "stream",
     "text": [
      "Validation Results: {'eval_loss': 0.7472657561302185, 'eval_accuracy': 0.7373737373737373, 'eval_f1': 0.564501364775285, 'eval_precision': 0.5728924052991485, 'eval_recall': 0.6080366692131398, 'eval_runtime': 1.6418, 'eval_samples_per_second': 241.192, 'eval_steps_per_second': 4.263, 'epoch': 9.0}\n",
      "Prediction TASK2 completed. Results saved to sexism_predictions_task2_hard_english.csv\n"
     ]
    }
   ],
   "source": [
    "modelname = \"cardiffnlp/twitter-roberta-base-sentiment-latest\"\n",
    "params = {\"num_train_epochs\": 10,\n",
    "          \"learning_rate\": 3e-5,\n",
    "          \"scheduler_type\": \"linear\",\n",
    "          \"per_device_train_batch_size\": 64,\n",
    "          \"warmup_ratio\": 0.15,\n",
    "          \"early_stopping_patience\": 5,\n",
    "          \"ignore_mismatched_sizes\": True,\n",
    "          \"output_dir\": None,\n",
    "          \"logging_dir\": None,\n",
    "          \"language\": \"english\"\n",
    "          }\n",
    "\n",
    "_, eval_results = sexism_classification_pipeline_task2(EnTrainTask2, EnDevTask2, EnTestTask2, modelname, 4, \"single_label_classification\", **params)"
   ]
  },
  {
   "cell_type": "code",
   "execution_count": 15,
   "metadata": {},
   "outputs": [
    {
     "name": "stderr",
     "output_type": "stream",
     "text": [
      "Some weights of RobertaForSequenceClassification were not initialized from the model checkpoint at pysentimiento/robertuito-sentiment-analysis and are newly initialized because the shapes did not match:\n",
      "- classifier.out_proj.bias: found shape torch.Size([3]) in the checkpoint and torch.Size([4]) in the model instantiated\n",
      "- classifier.out_proj.weight: found shape torch.Size([3, 768]) in the checkpoint and torch.Size([4, 768]) in the model instantiated\n",
      "You should probably TRAIN this model on a down-stream task to be able to use it for predictions and inference.\n"
     ]
    },
    {
     "data": {
      "text/html": [
       "\n",
       "    <div>\n",
       "      \n",
       "      <progress value='450' max='450' style='width:300px; height:20px; vertical-align: middle;'></progress>\n",
       "      [450/450 06:25, Epoch 10/10]\n",
       "    </div>\n",
       "    <table border=\"1\" class=\"dataframe\">\n",
       "  <thead>\n",
       " <tr style=\"text-align: left;\">\n",
       "      <th>Epoch</th>\n",
       "      <th>Training Loss</th>\n",
       "      <th>Validation Loss</th>\n",
       "      <th>Accuracy</th>\n",
       "      <th>F1</th>\n",
       "      <th>Precision</th>\n",
       "      <th>Recall</th>\n",
       "    </tr>\n",
       "  </thead>\n",
       "  <tbody>\n",
       "    <tr>\n",
       "      <td>1</td>\n",
       "      <td>0.997400</td>\n",
       "      <td>1.075829</td>\n",
       "      <td>0.575688</td>\n",
       "      <td>0.287219</td>\n",
       "      <td>0.273707</td>\n",
       "      <td>0.320810</td>\n",
       "    </tr>\n",
       "    <tr>\n",
       "      <td>2</td>\n",
       "      <td>0.707400</td>\n",
       "      <td>0.795415</td>\n",
       "      <td>0.678899</td>\n",
       "      <td>0.407306</td>\n",
       "      <td>0.525359</td>\n",
       "      <td>0.438426</td>\n",
       "    </tr>\n",
       "    <tr>\n",
       "      <td>3</td>\n",
       "      <td>0.556300</td>\n",
       "      <td>0.687839</td>\n",
       "      <td>0.711009</td>\n",
       "      <td>0.514818</td>\n",
       "      <td>0.547572</td>\n",
       "      <td>0.523440</td>\n",
       "    </tr>\n",
       "    <tr>\n",
       "      <td>4</td>\n",
       "      <td>0.343100</td>\n",
       "      <td>0.733977</td>\n",
       "      <td>0.733945</td>\n",
       "      <td>0.572346</td>\n",
       "      <td>0.656579</td>\n",
       "      <td>0.549330</td>\n",
       "    </tr>\n",
       "    <tr>\n",
       "      <td>5</td>\n",
       "      <td>0.212400</td>\n",
       "      <td>0.770355</td>\n",
       "      <td>0.750000</td>\n",
       "      <td>0.592712</td>\n",
       "      <td>0.650094</td>\n",
       "      <td>0.577639</td>\n",
       "    </tr>\n",
       "    <tr>\n",
       "      <td>6</td>\n",
       "      <td>0.150700</td>\n",
       "      <td>0.824805</td>\n",
       "      <td>0.745413</td>\n",
       "      <td>0.607194</td>\n",
       "      <td>0.631149</td>\n",
       "      <td>0.599296</td>\n",
       "    </tr>\n",
       "    <tr>\n",
       "      <td>7</td>\n",
       "      <td>0.113600</td>\n",
       "      <td>0.864053</td>\n",
       "      <td>0.747706</td>\n",
       "      <td>0.617053</td>\n",
       "      <td>0.632747</td>\n",
       "      <td>0.608009</td>\n",
       "    </tr>\n",
       "    <tr>\n",
       "      <td>8</td>\n",
       "      <td>0.069500</td>\n",
       "      <td>0.941696</td>\n",
       "      <td>0.754587</td>\n",
       "      <td>0.622907</td>\n",
       "      <td>0.662886</td>\n",
       "      <td>0.602031</td>\n",
       "    </tr>\n",
       "    <tr>\n",
       "      <td>9</td>\n",
       "      <td>0.057600</td>\n",
       "      <td>1.007053</td>\n",
       "      <td>0.743119</td>\n",
       "      <td>0.616354</td>\n",
       "      <td>0.656376</td>\n",
       "      <td>0.592494</td>\n",
       "    </tr>\n",
       "    <tr>\n",
       "      <td>10</td>\n",
       "      <td>0.053600</td>\n",
       "      <td>0.978838</td>\n",
       "      <td>0.750000</td>\n",
       "      <td>0.623801</td>\n",
       "      <td>0.652630</td>\n",
       "      <td>0.604897</td>\n",
       "    </tr>\n",
       "  </tbody>\n",
       "</table><p>"
      ],
      "text/plain": [
       "<IPython.core.display.HTML object>"
      ]
     },
     "metadata": {},
     "output_type": "display_data"
    },
    {
     "data": {
      "text/html": [],
      "text/plain": [
       "<IPython.core.display.HTML object>"
      ]
     },
     "metadata": {},
     "output_type": "display_data"
    },
    {
     "name": "stdout",
     "output_type": "stream",
     "text": [
      "Validation Results: {'eval_loss': 0.9788379073143005, 'eval_accuracy': 0.75, 'eval_f1': 0.6238011502163793, 'eval_precision': 0.6526296371101322, 'eval_recall': 0.6048971813540956, 'eval_runtime': 1.8346, 'eval_samples_per_second': 237.658, 'eval_steps_per_second': 3.816, 'epoch': 10.0}\n",
      "Prediction TASK2 completed. Results saved to sexism_predictions_task2_hard_spanish.csv\n"
     ]
    }
   ],
   "source": [
    "modelname = \"pysentimiento/robertuito-sentiment-analysis\"\n",
    "params = {\"num_train_epochs\": 10,\n",
    "          \"learning_rate\": 3e-5,\n",
    "          \"scheduler_type\": \"linear\",\n",
    "          \"per_device_train_batch_size\": 64,\n",
    "          \"warmup_ratio\": 0.15,\n",
    "          \"early_stopping_patience\": 5, \n",
    "          \"ignore_mismatched_sizes\": True,\n",
    "          \"output_dir\": None,\n",
    "          \"logging_dir\": None,\n",
    "          \"language\": \"spanish\"\n",
    "          }\n",
    "\n",
    "_, eval_results = sexism_classification_pipeline_task2(SpTrainTask2, SpDevTask2, SpTestTask2, modelname, 4, \"single_label_classification\", **params)"
   ]
  },
  {
   "cell_type": "markdown",
   "metadata": {},
   "source": [
    "## Save predictions"
   ]
  },
  {
   "cell_type": "code",
   "execution_count": 16,
   "metadata": {},
   "outputs": [
    {
     "name": "stdout",
     "output_type": "stream",
     "text": [
      "Predictions saved\n"
     ]
    }
   ],
   "source": [
    "if create_submision_file(\"ArPa Project\", 1, \"hard\", run_id, 2, \".\", \"exist2025_ArPa Project\"):\n",
    "    print(\"Predictions saved\")"
   ]
  }
 ],
 "metadata": {
  "kernelspec": {
   "display_name": "transformers",
   "language": "python",
   "name": "python3"
  },
  "language_info": {
   "codemirror_mode": {
    "name": "ipython",
    "version": 3
   },
   "file_extension": ".py",
   "mimetype": "text/x-python",
   "name": "python",
   "nbconvert_exporter": "python",
   "pygments_lexer": "ipython3",
   "version": "3.12.9"
  }
 },
 "nbformat": 4,
 "nbformat_minor": 2
}
