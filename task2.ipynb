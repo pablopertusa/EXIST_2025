{
 "cells": [
  {
   "cell_type": "markdown",
   "metadata": {},
   "source": [
    "<h1 align=\"center\">Exists2025:  Sexism Identification in Twitter</h1>\n",
    "<h2 align=\"center\">Task 1. Fine-tuning for binary classification\n",
    "<h3 style=\"display:block; margin-top:5px;\" align=\"center\">ETSInf. Universitat Politècnica de València</h3>\n",
    "<br>"
   ]
  },
  {
   "cell_type": "markdown",
   "metadata": {},
   "source": [
    "## Libraries"
   ]
  },
  {
   "cell_type": "code",
   "execution_count": 1,
   "metadata": {},
   "outputs": [],
   "source": [
    "import numpy as np\n",
    "import torch\n",
    "from torch.utils.data import Dataset, DataLoader\n",
    "from transformers import  AutoTokenizer, AutoModelForSequenceClassification,  Trainer, TrainingArguments,  EarlyStoppingCallback, AutoConfig\n",
    "from sklearn.metrics import accuracy_score, precision_recall_fscore_support\n",
    "from sklearn.preprocessing import LabelEncoder\n",
    "import random\n",
    "import os\n",
    "import pandas as pd\n",
    "from readerEXIST2025 import EXISTReader\n",
    "import re\n",
    "import emoji\n",
    "from create_submision_folder import create_submision_file"
   ]
  },
  {
   "cell_type": "markdown",
   "metadata": {},
   "source": [
    "## Read data"
   ]
  },
  {
   "cell_type": "code",
   "execution_count": 2,
   "metadata": {},
   "outputs": [],
   "source": [
    "url = r\"\\bhttps?://[\\w.-]+(?:\\.[a-zA-Z]{2,})?(?:/\\S*/?)?\"\n",
    "\n",
    "emojis = sorted(emoji.EMOJI_DATA, key=len, reverse=True)\n",
    "pattern_emoji = \"(\" + \"|\".join(re.escape(u) for u in emojis) + \")\"\n",
    "\n",
    "pattern_all = r\"|\".join(\n",
    "    [\n",
    "        url,\n",
    "        pattern_emoji,\n",
    "    ]\n",
    ")\n",
    "\n",
    "re_all = re.compile(pattern_all, re.U)"
   ]
  },
  {
   "cell_type": "code",
   "execution_count": 3,
   "metadata": {},
   "outputs": [],
   "source": [
    "file_train = \"data/EXIST 2025 Tweets Dataset/training/EXIST2025_training.json\"\n",
    "file_dev = \"data/EXIST 2025 Tweets Dataset/dev/EXIST2025_dev.json\"\n",
    "file_test = \"data/EXIST 2025 Tweets Dataset/test/EXIST2025_test_clean.json\"\n",
    "\n",
    "reader_train = EXISTReader(file_train)\n",
    "reader_dev = EXISTReader(file_dev)\n",
    "reader_test = EXISTReader(file_test, is_test=True)\n",
    "\n",
    "EnTrainTask2, EnDevTask2, EnTestTask2 = reader_train.get(lang=\"EN\", subtask=\"2\", regular_exp=re_all, preprocess=True), reader_dev.get(lang=\"EN\", subtask=\"2\", regular_exp=re_all, preprocess=True), reader_test.get(lang=\"EN\", subtask=\"2\", regular_exp=re_all, preprocess=True)\n",
    "SpTrainTask2, SpDevTask2, SpTestTask2 = reader_train.get(lang=\"ES\", subtask=\"2\", regular_exp=re_all, preprocess=True), reader_dev.get(lang=\"ES\", subtask=\"2\", regular_exp=re_all, preprocess=True), reader_test.get(lang=\"ES\", subtask=\"2\", regular_exp=re_all, preprocess=True)"
   ]
  },
  {
   "cell_type": "code",
   "execution_count": 4,
   "metadata": {},
   "outputs": [
    {
     "data": {
      "text/plain": [
       "array(['REPORTED', 'NO', 'JUDGEMENTAL', 'DIRECT'], dtype=object)"
      ]
     },
     "execution_count": 4,
     "metadata": {},
     "output_type": "execute_result"
    }
   ],
   "source": [
    "EnTrainTask2[2].unique()"
   ]
  },
  {
   "cell_type": "markdown",
   "metadata": {},
   "source": [
    "Ahora tenemos 4 labels, incluyendo al NO también."
   ]
  },
  {
   "cell_type": "code",
   "execution_count": 5,
   "metadata": {},
   "outputs": [
    {
     "data": {
      "text/plain": [
       "True"
      ]
     },
     "execution_count": 5,
     "metadata": {},
     "output_type": "execute_result"
    }
   ],
   "source": [
    "torch.cuda.is_available()"
   ]
  },
  {
   "cell_type": "markdown",
   "metadata": {},
   "source": [
    "## Set seed"
   ]
  },
  {
   "cell_type": "code",
   "execution_count": 6,
   "metadata": {},
   "outputs": [],
   "source": [
    "def set_seed(seed=1234):\n",
    "    \"\"\"\n",
    "    Sets the seed to make everything deterministic, for reproducibility of experiments\n",
    "    Parameters:\n",
    "    seed: the number to set the seed to\n",
    "    Return: None\n",
    "    \"\"\"\n",
    "    # Random seed\n",
    "    random.seed(seed)\n",
    "    # Numpy seed\n",
    "    np.random.seed(seed)\n",
    "    # Torch seed\n",
    "    torch.manual_seed(seed)\n",
    "    torch.cuda.manual_seed(seed)\n",
    "    torch.backends.cudnn.deterministic = True\n",
    "    torch.backends.cudnn.benchmark = True\n",
    "    # os seed\n",
    "    os.environ['PYTHONHASHSEED'] = str(seed)"
   ]
  },
  {
   "cell_type": "markdown",
   "metadata": {},
   "source": [
    "## Dataset class"
   ]
  },
  {
   "cell_type": "code",
   "execution_count": 7,
   "metadata": {},
   "outputs": [],
   "source": [
    "class SexismDataset(Dataset):\n",
    "    def __init__(self, texts, labels, ids, tokenizer, max_len=128, pad=\"max_length\", trunc=True,rt='pt'):\n",
    "        self.texts = texts.tolist()\n",
    "        self.labels = labels\n",
    "        self.ids = ids\n",
    "        self.tokenizer = tokenizer\n",
    "        self.max_len = max_len\n",
    "        self.pad = pad\n",
    "        self.trunc = trunc\n",
    "        self.rt = rt\n",
    "\n",
    "    def __len__(self):\n",
    "        return len(self.texts)\n",
    "\n",
    "    def __getitem__(self, idx):\n",
    "        text = str(self.texts[idx])\n",
    "        inputs = self.tokenizer.encode_plus(\n",
    "            text,\n",
    "            add_special_tokens=True,\n",
    "            max_length=self.max_len,padding=self.pad, truncation=self.trunc,\n",
    "            return_tensors=self.rt\n",
    "        )\n",
    "\n",
    "        return {\n",
    "            'input_ids': inputs['input_ids'].flatten(),\n",
    "            'attention_mask': inputs['attention_mask'].flatten(),\n",
    "            'labels': torch.tensor(self.labels[idx], dtype=torch.long),\n",
    "            'id': torch.tensor(self.ids[idx], dtype=torch.long)\n",
    "        }"
   ]
  },
  {
   "cell_type": "markdown",
   "metadata": {},
   "source": [
    "## Metrics"
   ]
  },
  {
   "cell_type": "code",
   "execution_count": 8,
   "metadata": {},
   "outputs": [],
   "source": [
    "def compute_metrics_2(pred):\n",
    "    labels = pred.label_ids\n",
    "    preds = pred.predictions.argmax(-1)\n",
    "    precision, recall, f1, _ = precision_recall_fscore_support(\n",
    "        labels, preds, average='macro', zero_division=0\n",
    "    )\n",
    "    acc = accuracy_score(labels, preds)\n",
    "    return {\n",
    "        'accuracy': acc,\n",
    "        'f1': f1,\n",
    "        'precision': precision,\n",
    "        'recall': recall\n",
    "    }"
   ]
  },
  {
   "cell_type": "markdown",
   "metadata": {},
   "source": [
    "## Pipeline"
   ]
  },
  {
   "cell_type": "code",
   "execution_count": 9,
   "metadata": {},
   "outputs": [],
   "source": [
    "def sexism_classification_pipeline_task2(trainInfo, devInfo, testInfo=None, model_name='bert-base-uncased', nlabels=3, ptype=\"single_label_classification\", **args):\n",
    "    # Model and Tokenizer\n",
    "    labelEnc= LabelEncoder()\n",
    "    tokenizer = AutoTokenizer.from_pretrained(model_name)\n",
    "    model = AutoModelForSequenceClassification.from_pretrained(\n",
    "        model_name,\n",
    "        num_labels=nlabels,\n",
    "        problem_type=ptype,\n",
    "        ignore_mismatched_sizes=args.get(\"ignore_mismatched_sizes\", False)\n",
    "    )\n",
    "\n",
    "    # Prepare datasets\n",
    "    train_dataset = SexismDataset(trainInfo[1], labelEnc.fit_transform(trainInfo[2]),[int(x) for x in trainInfo[0]], tokenizer )\n",
    "    val_dataset = SexismDataset(devInfo[1], labelEnc.transform(devInfo[2]), [int(x) for x in devInfo[0]], tokenizer)\n",
    "\n",
    "    # Training Arguments\n",
    "    training_args = TrainingArguments(\n",
    "        report_to=\"none\", # alt: \"wandb\", \"tensorboard\" \"comet_ml\" \"mlflow\" \"clearml\"\n",
    "        output_dir= args.get('output_dir', './results'),\n",
    "        num_train_epochs= args.get('num_train_epochs', 5),\n",
    "        learning_rate=args.get('learning_rate', 5e-5),\n",
    "        per_device_train_batch_size=args.get('per_device_train_batch_size', 16),\n",
    "        per_device_eval_batch_size=args.get('per_device_eval_batch_size', 64),\n",
    "        warmup_steps=args.get('warmup_steps', 500),\n",
    "        weight_decay=args.get('weight_decay',0.01),\n",
    "        logging_dir=args.get('logging_dir', './logs'),\n",
    "        logging_steps=args.get('logging_steps', 10),\n",
    "        eval_strategy=args.get('eval_strategy','epoch'),\n",
    "        save_strategy=args.get('save_strategy', \"epoch\"),\n",
    "        save_total_limit=args.get('save_total_limit', 1),\n",
    "        load_best_model_at_end=args.get('load_best_model_at_end', True),\n",
    "        #metric_for_best_model=args.get('metric_for_best_model',\"ICM\")\n",
    "        metric_for_best_model=args.get('metric_for_best_model',\"f1\")\n",
    "    )\n",
    "\n",
    "    # Initialize Trainer\n",
    "    trainer = Trainer(\n",
    "        model=model,\n",
    "        args=training_args,\n",
    "        train_dataset=train_dataset,\n",
    "        eval_dataset=val_dataset,\n",
    "        compute_metrics=compute_metrics_2,\n",
    "        callbacks=[EarlyStoppingCallback(early_stopping_patience=args.get(\"early_stopping_patience\",3))]\n",
    "    )\n",
    "\n",
    "    # Fine-tune the model\n",
    "    trainer.train()\n",
    "\n",
    "    # Evaluate on validation set\n",
    "    eval_results = trainer.evaluate()\n",
    "    print(\"Validation Results:\", eval_results)\n",
    "\n",
    "    # If there is a test dataset\n",
    "    if testInfo is not None:\n",
    "        # Prepare test dataset for prediction\n",
    "        test_dataset = SexismDataset(testInfo[1], [0] * len(testInfo[1]),  [int(x) for x in testInfo[0]],   tokenizer)\n",
    "        output_type = args.get(\"output_type\", \"hard\")\n",
    "        predictions = trainer.predict(test_dataset)\n",
    "\n",
    "        # Predict test set labels\n",
    "        if output_type == \"hard\":\n",
    "            predicted_labels = np.argmax(predictions.predictions, axis=1)\n",
    "            # Create submission DataFrame\n",
    "            submission_df = pd.DataFrame({\n",
    "                'id': testInfo[0],\n",
    "                'label': labelEnc.inverse_transform(predicted_labels),\n",
    "                \"test_case\": [\"EXIST2025\"]*len(predicted_labels)\n",
    "            })\n",
    "\n",
    "        elif output_type == \"soft\":\n",
    "            probabilities = torch.softmax(torch.tensor(predictions.predictions), axis=1)\n",
    "            submission_data = {\n",
    "                'id': testInfo[0],\n",
    "                \"test_case\": [\"EXIST2025\"] * len(probabilities)\n",
    "            }\n",
    "            list_probabilities = []\n",
    "            for i in range(probabilities.shape[0]):\n",
    "                value = {}\n",
    "                for c in range(probabilities.shape[1]):\n",
    "                    original_label = labelEnc.inverse_transform([c])[0]\n",
    "                    value[original_label] = probabilities[i, c].item()\n",
    "                list_probabilities.append(value)\n",
    "\n",
    "            submission_data[\"value\"] = list_probabilities\n",
    "            submission_df = pd.DataFrame(submission_data)\n",
    "\n",
    "        language = args.get(\"language\", \"english\")\n",
    "        submission_df.to_csv(f'sexism_predictions_task2_{output_type}_{language}.csv', index=False)\n",
    "        print(f\"Prediction TASK2 completed. Results saved to sexism_predictions_task2_{output_type}_{language}.csv\")\n",
    "        return model, submission_df\n",
    "    return model, eval_results\n"
   ]
  },
  {
   "cell_type": "markdown",
   "metadata": {},
   "source": [
    "## Run id"
   ]
  },
  {
   "cell_type": "markdown",
   "metadata": {},
   "source": [
    "Before training, we specify the `run_id` for the predictions."
   ]
  },
  {
   "cell_type": "code",
   "execution_count": 10,
   "metadata": {},
   "outputs": [],
   "source": [
    "run_id = 1"
   ]
  },
  {
   "cell_type": "markdown",
   "metadata": {},
   "source": [
    "## Training soft"
   ]
  },
  {
   "cell_type": "code",
   "execution_count": 11,
   "metadata": {},
   "outputs": [
    {
     "name": "stderr",
     "output_type": "stream",
     "text": [
      "Some weights of the model checkpoint at cardiffnlp/twitter-roberta-base-sentiment-latest were not used when initializing RobertaForSequenceClassification: ['roberta.pooler.dense.bias', 'roberta.pooler.dense.weight']\n",
      "- This IS expected if you are initializing RobertaForSequenceClassification from the checkpoint of a model trained on another task or with another architecture (e.g. initializing a BertForSequenceClassification model from a BertForPreTraining model).\n",
      "- This IS NOT expected if you are initializing RobertaForSequenceClassification from the checkpoint of a model that you expect to be exactly identical (initializing a BertForSequenceClassification model from a BertForSequenceClassification model).\n",
      "Some weights of RobertaForSequenceClassification were not initialized from the model checkpoint at cardiffnlp/twitter-roberta-base-sentiment-latest and are newly initialized because the shapes did not match:\n",
      "- classifier.out_proj.weight: found shape torch.Size([3, 768]) in the checkpoint and torch.Size([4, 768]) in the model instantiated\n",
      "- classifier.out_proj.bias: found shape torch.Size([3]) in the checkpoint and torch.Size([4]) in the model instantiated\n",
      "You should probably TRAIN this model on a down-stream task to be able to use it for predictions and inference.\n"
     ]
    },
    {
     "data": {
      "text/html": [
       "\n",
       "    <div>\n",
       "      \n",
       "      <progress value='615' max='820' style='width:300px; height:20px; vertical-align: middle;'></progress>\n",
       "      [615/820 10:02 < 03:21, 1.02 it/s, Epoch 15/20]\n",
       "    </div>\n",
       "    <table border=\"1\" class=\"dataframe\">\n",
       "  <thead>\n",
       " <tr style=\"text-align: left;\">\n",
       "      <th>Epoch</th>\n",
       "      <th>Training Loss</th>\n",
       "      <th>Validation Loss</th>\n",
       "      <th>Accuracy</th>\n",
       "      <th>F1</th>\n",
       "      <th>Precision</th>\n",
       "      <th>Recall</th>\n",
       "    </tr>\n",
       "  </thead>\n",
       "  <tbody>\n",
       "    <tr>\n",
       "      <td>1</td>\n",
       "      <td>0.867900</td>\n",
       "      <td>0.846524</td>\n",
       "      <td>0.661616</td>\n",
       "      <td>0.269826</td>\n",
       "      <td>0.309977</td>\n",
       "      <td>0.293059</td>\n",
       "    </tr>\n",
       "    <tr>\n",
       "      <td>2</td>\n",
       "      <td>0.639300</td>\n",
       "      <td>0.704215</td>\n",
       "      <td>0.722222</td>\n",
       "      <td>0.473463</td>\n",
       "      <td>0.445093</td>\n",
       "      <td>0.528599</td>\n",
       "    </tr>\n",
       "    <tr>\n",
       "      <td>3</td>\n",
       "      <td>0.507000</td>\n",
       "      <td>0.677270</td>\n",
       "      <td>0.772727</td>\n",
       "      <td>0.490979</td>\n",
       "      <td>0.488196</td>\n",
       "      <td>0.497497</td>\n",
       "    </tr>\n",
       "    <tr>\n",
       "      <td>4</td>\n",
       "      <td>0.492800</td>\n",
       "      <td>0.699681</td>\n",
       "      <td>0.765152</td>\n",
       "      <td>0.516041</td>\n",
       "      <td>0.539860</td>\n",
       "      <td>0.521128</td>\n",
       "    </tr>\n",
       "    <tr>\n",
       "      <td>5</td>\n",
       "      <td>0.324000</td>\n",
       "      <td>0.831243</td>\n",
       "      <td>0.772727</td>\n",
       "      <td>0.523301</td>\n",
       "      <td>0.542703</td>\n",
       "      <td>0.535611</td>\n",
       "    </tr>\n",
       "    <tr>\n",
       "      <td>6</td>\n",
       "      <td>0.246500</td>\n",
       "      <td>0.856523</td>\n",
       "      <td>0.757576</td>\n",
       "      <td>0.562291</td>\n",
       "      <td>0.593982</td>\n",
       "      <td>0.557195</td>\n",
       "    </tr>\n",
       "    <tr>\n",
       "      <td>7</td>\n",
       "      <td>0.207000</td>\n",
       "      <td>0.907775</td>\n",
       "      <td>0.750000</td>\n",
       "      <td>0.532729</td>\n",
       "      <td>0.535868</td>\n",
       "      <td>0.531598</td>\n",
       "    </tr>\n",
       "    <tr>\n",
       "      <td>8</td>\n",
       "      <td>0.150600</td>\n",
       "      <td>1.021853</td>\n",
       "      <td>0.755051</td>\n",
       "      <td>0.510759</td>\n",
       "      <td>0.523144</td>\n",
       "      <td>0.509800</td>\n",
       "    </tr>\n",
       "    <tr>\n",
       "      <td>9</td>\n",
       "      <td>0.100200</td>\n",
       "      <td>0.995774</td>\n",
       "      <td>0.770202</td>\n",
       "      <td>0.568715</td>\n",
       "      <td>0.606487</td>\n",
       "      <td>0.570997</td>\n",
       "    </tr>\n",
       "    <tr>\n",
       "      <td>10</td>\n",
       "      <td>0.043700</td>\n",
       "      <td>1.125601</td>\n",
       "      <td>0.777778</td>\n",
       "      <td>0.613597</td>\n",
       "      <td>0.630271</td>\n",
       "      <td>0.611674</td>\n",
       "    </tr>\n",
       "    <tr>\n",
       "      <td>11</td>\n",
       "      <td>0.046400</td>\n",
       "      <td>1.306142</td>\n",
       "      <td>0.775253</td>\n",
       "      <td>0.606872</td>\n",
       "      <td>0.610379</td>\n",
       "      <td>0.611099</td>\n",
       "    </tr>\n",
       "    <tr>\n",
       "      <td>12</td>\n",
       "      <td>0.031800</td>\n",
       "      <td>1.339960</td>\n",
       "      <td>0.770202</td>\n",
       "      <td>0.580252</td>\n",
       "      <td>0.582193</td>\n",
       "      <td>0.580405</td>\n",
       "    </tr>\n",
       "    <tr>\n",
       "      <td>13</td>\n",
       "      <td>0.009000</td>\n",
       "      <td>1.448689</td>\n",
       "      <td>0.767677</td>\n",
       "      <td>0.585438</td>\n",
       "      <td>0.592057</td>\n",
       "      <td>0.587935</td>\n",
       "    </tr>\n",
       "    <tr>\n",
       "      <td>14</td>\n",
       "      <td>0.012900</td>\n",
       "      <td>1.460597</td>\n",
       "      <td>0.787879</td>\n",
       "      <td>0.602419</td>\n",
       "      <td>0.647919</td>\n",
       "      <td>0.597888</td>\n",
       "    </tr>\n",
       "    <tr>\n",
       "      <td>15</td>\n",
       "      <td>0.001000</td>\n",
       "      <td>1.550437</td>\n",
       "      <td>0.790404</td>\n",
       "      <td>0.595502</td>\n",
       "      <td>0.606367</td>\n",
       "      <td>0.586300</td>\n",
       "    </tr>\n",
       "  </tbody>\n",
       "</table><p>"
      ],
      "text/plain": [
       "<IPython.core.display.HTML object>"
      ]
     },
     "metadata": {},
     "output_type": "display_data"
    },
    {
     "data": {
      "text/html": [],
      "text/plain": [
       "<IPython.core.display.HTML object>"
      ]
     },
     "metadata": {},
     "output_type": "display_data"
    },
    {
     "name": "stdout",
     "output_type": "stream",
     "text": [
      "Validation Results: {'eval_loss': 1.125601053237915, 'eval_accuracy': 0.7777777777777778, 'eval_f1': 0.6135972403020047, 'eval_precision': 0.630271474019088, 'eval_recall': 0.6116740514387573, 'eval_runtime': 1.664, 'eval_samples_per_second': 237.974, 'eval_steps_per_second': 4.207, 'epoch': 15.0}\n",
      "Prediction TASK2 completed. Results saved to sexism_predictions_task2_soft_english.csv\n"
     ]
    }
   ],
   "source": [
    "modelname = \"cardiffnlp/twitter-roberta-base-sentiment-latest\"\n",
    "params = {\"num_train_epochs\": 20,\n",
    "          \"learning_rate\": 0.0001,\n",
    "          \"per_device_train_batch_size\": 64,\n",
    "          \"warmup_steps\": 200,\n",
    "          \"early_stopping_patience\": 5,\n",
    "          \"ignore_mismatched_sizes\": True,\n",
    "          \"output_dir\": None,\n",
    "          \"logging_dir\": None,\n",
    "          \"language\": \"english\",\n",
    "          \"output_type\": \"soft\"\n",
    "          }\n",
    "\n",
    "_, eval_results = sexism_classification_pipeline_task2(EnTrainTask2, EnDevTask2, EnTestTask2, modelname, 4, \"single_label_classification\", **params)"
   ]
  },
  {
   "cell_type": "code",
   "execution_count": 12,
   "metadata": {},
   "outputs": [
    {
     "name": "stderr",
     "output_type": "stream",
     "text": [
      "Some weights of RobertaForSequenceClassification were not initialized from the model checkpoint at pysentimiento/robertuito-sentiment-analysis and are newly initialized because the shapes did not match:\n",
      "- classifier.out_proj.bias: found shape torch.Size([3]) in the checkpoint and torch.Size([4]) in the model instantiated\n",
      "- classifier.out_proj.weight: found shape torch.Size([3, 768]) in the checkpoint and torch.Size([4, 768]) in the model instantiated\n",
      "You should probably TRAIN this model on a down-stream task to be able to use it for predictions and inference.\n"
     ]
    },
    {
     "data": {
      "text/html": [
       "\n",
       "    <div>\n",
       "      \n",
       "      <progress value='765' max='900' style='width:300px; height:20px; vertical-align: middle;'></progress>\n",
       "      [765/900 11:13 < 01:59, 1.13 it/s, Epoch 17/20]\n",
       "    </div>\n",
       "    <table border=\"1\" class=\"dataframe\">\n",
       "  <thead>\n",
       " <tr style=\"text-align: left;\">\n",
       "      <th>Epoch</th>\n",
       "      <th>Training Loss</th>\n",
       "      <th>Validation Loss</th>\n",
       "      <th>Accuracy</th>\n",
       "      <th>F1</th>\n",
       "      <th>Precision</th>\n",
       "      <th>Recall</th>\n",
       "    </tr>\n",
       "  </thead>\n",
       "  <tbody>\n",
       "    <tr>\n",
       "      <td>1</td>\n",
       "      <td>0.972000</td>\n",
       "      <td>1.031072</td>\n",
       "      <td>0.614679</td>\n",
       "      <td>0.320688</td>\n",
       "      <td>0.295172</td>\n",
       "      <td>0.357448</td>\n",
       "    </tr>\n",
       "    <tr>\n",
       "      <td>2</td>\n",
       "      <td>0.674600</td>\n",
       "      <td>0.772954</td>\n",
       "      <td>0.711009</td>\n",
       "      <td>0.436366</td>\n",
       "      <td>0.636012</td>\n",
       "      <td>0.466028</td>\n",
       "    </tr>\n",
       "    <tr>\n",
       "      <td>3</td>\n",
       "      <td>0.530800</td>\n",
       "      <td>0.669663</td>\n",
       "      <td>0.722477</td>\n",
       "      <td>0.534802</td>\n",
       "      <td>0.556779</td>\n",
       "      <td>0.559974</td>\n",
       "    </tr>\n",
       "    <tr>\n",
       "      <td>4</td>\n",
       "      <td>0.265400</td>\n",
       "      <td>0.729744</td>\n",
       "      <td>0.745413</td>\n",
       "      <td>0.582367</td>\n",
       "      <td>0.612531</td>\n",
       "      <td>0.575246</td>\n",
       "    </tr>\n",
       "    <tr>\n",
       "      <td>5</td>\n",
       "      <td>0.107100</td>\n",
       "      <td>0.971018</td>\n",
       "      <td>0.738532</td>\n",
       "      <td>0.581441</td>\n",
       "      <td>0.636326</td>\n",
       "      <td>0.559913</td>\n",
       "    </tr>\n",
       "    <tr>\n",
       "      <td>6</td>\n",
       "      <td>0.098700</td>\n",
       "      <td>1.192902</td>\n",
       "      <td>0.738532</td>\n",
       "      <td>0.564243</td>\n",
       "      <td>0.614478</td>\n",
       "      <td>0.550400</td>\n",
       "    </tr>\n",
       "    <tr>\n",
       "      <td>7</td>\n",
       "      <td>0.036500</td>\n",
       "      <td>1.229221</td>\n",
       "      <td>0.720183</td>\n",
       "      <td>0.589418</td>\n",
       "      <td>0.595141</td>\n",
       "      <td>0.600669</td>\n",
       "    </tr>\n",
       "    <tr>\n",
       "      <td>8</td>\n",
       "      <td>0.002700</td>\n",
       "      <td>1.394276</td>\n",
       "      <td>0.752294</td>\n",
       "      <td>0.609024</td>\n",
       "      <td>0.652233</td>\n",
       "      <td>0.590287</td>\n",
       "    </tr>\n",
       "    <tr>\n",
       "      <td>9</td>\n",
       "      <td>0.010100</td>\n",
       "      <td>1.433803</td>\n",
       "      <td>0.738532</td>\n",
       "      <td>0.610086</td>\n",
       "      <td>0.621853</td>\n",
       "      <td>0.602788</td>\n",
       "    </tr>\n",
       "    <tr>\n",
       "      <td>10</td>\n",
       "      <td>0.014300</td>\n",
       "      <td>1.614900</td>\n",
       "      <td>0.731651</td>\n",
       "      <td>0.587242</td>\n",
       "      <td>0.636236</td>\n",
       "      <td>0.562542</td>\n",
       "    </tr>\n",
       "    <tr>\n",
       "      <td>11</td>\n",
       "      <td>0.006200</td>\n",
       "      <td>1.579824</td>\n",
       "      <td>0.738532</td>\n",
       "      <td>0.595774</td>\n",
       "      <td>0.632774</td>\n",
       "      <td>0.574501</td>\n",
       "    </tr>\n",
       "    <tr>\n",
       "      <td>12</td>\n",
       "      <td>0.008800</td>\n",
       "      <td>1.496664</td>\n",
       "      <td>0.754587</td>\n",
       "      <td>0.633786</td>\n",
       "      <td>0.645400</td>\n",
       "      <td>0.635361</td>\n",
       "    </tr>\n",
       "    <tr>\n",
       "      <td>13</td>\n",
       "      <td>0.001900</td>\n",
       "      <td>1.545053</td>\n",
       "      <td>0.747706</td>\n",
       "      <td>0.619883</td>\n",
       "      <td>0.630324</td>\n",
       "      <td>0.613763</td>\n",
       "    </tr>\n",
       "    <tr>\n",
       "      <td>14</td>\n",
       "      <td>0.010200</td>\n",
       "      <td>1.556964</td>\n",
       "      <td>0.745413</td>\n",
       "      <td>0.614052</td>\n",
       "      <td>0.622628</td>\n",
       "      <td>0.608861</td>\n",
       "    </tr>\n",
       "    <tr>\n",
       "      <td>15</td>\n",
       "      <td>0.004200</td>\n",
       "      <td>1.558717</td>\n",
       "      <td>0.752294</td>\n",
       "      <td>0.626121</td>\n",
       "      <td>0.637558</td>\n",
       "      <td>0.620376</td>\n",
       "    </tr>\n",
       "    <tr>\n",
       "      <td>16</td>\n",
       "      <td>0.004800</td>\n",
       "      <td>1.575322</td>\n",
       "      <td>0.747706</td>\n",
       "      <td>0.620858</td>\n",
       "      <td>0.631241</td>\n",
       "      <td>0.615446</td>\n",
       "    </tr>\n",
       "    <tr>\n",
       "      <td>17</td>\n",
       "      <td>0.003300</td>\n",
       "      <td>1.583115</td>\n",
       "      <td>0.745413</td>\n",
       "      <td>0.619290</td>\n",
       "      <td>0.627015</td>\n",
       "      <td>0.615418</td>\n",
       "    </tr>\n",
       "  </tbody>\n",
       "</table><p>"
      ],
      "text/plain": [
       "<IPython.core.display.HTML object>"
      ]
     },
     "metadata": {},
     "output_type": "display_data"
    },
    {
     "data": {
      "text/html": [],
      "text/plain": [
       "<IPython.core.display.HTML object>"
      ]
     },
     "metadata": {},
     "output_type": "display_data"
    },
    {
     "name": "stdout",
     "output_type": "stream",
     "text": [
      "Validation Results: {'eval_loss': 1.4966638088226318, 'eval_accuracy': 0.7545871559633027, 'eval_f1': 0.633786408593944, 'eval_precision': 0.6454001360717779, 'eval_recall': 0.6353609004963227, 'eval_runtime': 1.8437, 'eval_samples_per_second': 236.478, 'eval_steps_per_second': 3.797, 'epoch': 17.0}\n",
      "Prediction TASK2 completed. Results saved to sexism_predictions_task2_soft_spanish.csv\n"
     ]
    }
   ],
   "source": [
    "modelname = \"pysentimiento/robertuito-sentiment-analysis\"\n",
    "params = {\"num_train_epochs\": 20,\n",
    "          \"learning_rate\": 0.0001,\n",
    "          \"per_device_train_batch_size\": 64,\n",
    "          \"warmup_steps\": 200,\n",
    "          \"early_stopping_patience\": 5, \n",
    "          \"ignore_mismatched_sizes\": True,\n",
    "          \"output_dir\": None,\n",
    "          \"logging_dir\": None,\n",
    "          \"language\": \"spanish\",\n",
    "          \"output_type\": \"soft\"\n",
    "          }\n",
    "\n",
    "_, eval_results = sexism_classification_pipeline_task2(SpTrainTask2, SpDevTask2, SpTestTask2, modelname, 4, \"single_label_classification\", **params)"
   ]
  },
  {
   "cell_type": "markdown",
   "metadata": {},
   "source": [
    "## Save predictions"
   ]
  },
  {
   "cell_type": "code",
   "execution_count": 13,
   "metadata": {},
   "outputs": [
    {
     "name": "stdout",
     "output_type": "stream",
     "text": [
      "Predictions saved\n"
     ]
    }
   ],
   "source": [
    "if create_submision_file(\"ArPa Project\", 1, \"soft\", run_id, 2, \".\", \"exist2025_ArPa Project\"):\n",
    "    print(\"Predictions saved\")"
   ]
  },
  {
   "cell_type": "markdown",
   "metadata": {},
   "source": [
    "## Training hard"
   ]
  },
  {
   "cell_type": "code",
   "execution_count": 11,
   "metadata": {},
   "outputs": [
    {
     "name": "stderr",
     "output_type": "stream",
     "text": [
      "Some weights of the model checkpoint at cardiffnlp/twitter-roberta-base-sentiment-latest were not used when initializing RobertaForSequenceClassification: ['roberta.pooler.dense.bias', 'roberta.pooler.dense.weight']\n",
      "- This IS expected if you are initializing RobertaForSequenceClassification from the checkpoint of a model trained on another task or with another architecture (e.g. initializing a BertForSequenceClassification model from a BertForPreTraining model).\n",
      "- This IS NOT expected if you are initializing RobertaForSequenceClassification from the checkpoint of a model that you expect to be exactly identical (initializing a BertForSequenceClassification model from a BertForSequenceClassification model).\n",
      "Some weights of RobertaForSequenceClassification were not initialized from the model checkpoint at cardiffnlp/twitter-roberta-base-sentiment-latest and are newly initialized because the shapes did not match:\n",
      "- classifier.out_proj.weight: found shape torch.Size([3, 768]) in the checkpoint and torch.Size([4, 768]) in the model instantiated\n",
      "- classifier.out_proj.bias: found shape torch.Size([3]) in the checkpoint and torch.Size([4]) in the model instantiated\n",
      "You should probably TRAIN this model on a down-stream task to be able to use it for predictions and inference.\n"
     ]
    },
    {
     "data": {
      "text/html": [
       "\n",
       "    <div>\n",
       "      \n",
       "      <progress value='574' max='820' style='width:300px; height:20px; vertical-align: middle;'></progress>\n",
       "      [574/820 08:28 < 03:38, 1.12 it/s, Epoch 14/20]\n",
       "    </div>\n",
       "    <table border=\"1\" class=\"dataframe\">\n",
       "  <thead>\n",
       " <tr style=\"text-align: left;\">\n",
       "      <th>Epoch</th>\n",
       "      <th>Training Loss</th>\n",
       "      <th>Validation Loss</th>\n",
       "      <th>Accuracy</th>\n",
       "      <th>F1</th>\n",
       "      <th>Precision</th>\n",
       "      <th>Recall</th>\n",
       "    </tr>\n",
       "  </thead>\n",
       "  <tbody>\n",
       "    <tr>\n",
       "      <td>1</td>\n",
       "      <td>0.846900</td>\n",
       "      <td>0.826079</td>\n",
       "      <td>0.717172</td>\n",
       "      <td>0.352449</td>\n",
       "      <td>0.333077</td>\n",
       "      <td>0.377176</td>\n",
       "    </tr>\n",
       "    <tr>\n",
       "      <td>2</td>\n",
       "      <td>0.627200</td>\n",
       "      <td>0.679352</td>\n",
       "      <td>0.737374</td>\n",
       "      <td>0.484862</td>\n",
       "      <td>0.457267</td>\n",
       "      <td>0.539986</td>\n",
       "    </tr>\n",
       "    <tr>\n",
       "      <td>3</td>\n",
       "      <td>0.490800</td>\n",
       "      <td>0.641286</td>\n",
       "      <td>0.777778</td>\n",
       "      <td>0.476967</td>\n",
       "      <td>0.488294</td>\n",
       "      <td>0.488724</td>\n",
       "    </tr>\n",
       "    <tr>\n",
       "      <td>4</td>\n",
       "      <td>0.415000</td>\n",
       "      <td>0.678949</td>\n",
       "      <td>0.792929</td>\n",
       "      <td>0.539993</td>\n",
       "      <td>0.629089</td>\n",
       "      <td>0.553317</td>\n",
       "    </tr>\n",
       "    <tr>\n",
       "      <td>5</td>\n",
       "      <td>0.373000</td>\n",
       "      <td>0.833838</td>\n",
       "      <td>0.780303</td>\n",
       "      <td>0.499859</td>\n",
       "      <td>0.729136</td>\n",
       "      <td>0.485417</td>\n",
       "    </tr>\n",
       "    <tr>\n",
       "      <td>6</td>\n",
       "      <td>0.161300</td>\n",
       "      <td>1.108678</td>\n",
       "      <td>0.684343</td>\n",
       "      <td>0.493384</td>\n",
       "      <td>0.521602</td>\n",
       "      <td>0.528547</td>\n",
       "    </tr>\n",
       "    <tr>\n",
       "      <td>7</td>\n",
       "      <td>0.128000</td>\n",
       "      <td>1.150539</td>\n",
       "      <td>0.737374</td>\n",
       "      <td>0.512995</td>\n",
       "      <td>0.560124</td>\n",
       "      <td>0.495224</td>\n",
       "    </tr>\n",
       "    <tr>\n",
       "      <td>8</td>\n",
       "      <td>0.094000</td>\n",
       "      <td>1.180481</td>\n",
       "      <td>0.744949</td>\n",
       "      <td>0.536097</td>\n",
       "      <td>0.562515</td>\n",
       "      <td>0.557709</td>\n",
       "    </tr>\n",
       "    <tr>\n",
       "      <td>9</td>\n",
       "      <td>0.080700</td>\n",
       "      <td>1.115354</td>\n",
       "      <td>0.760101</td>\n",
       "      <td>0.576545</td>\n",
       "      <td>0.577615</td>\n",
       "      <td>0.580136</td>\n",
       "    </tr>\n",
       "    <tr>\n",
       "      <td>10</td>\n",
       "      <td>0.077500</td>\n",
       "      <td>1.340873</td>\n",
       "      <td>0.729798</td>\n",
       "      <td>0.537007</td>\n",
       "      <td>0.558096</td>\n",
       "      <td>0.542476</td>\n",
       "    </tr>\n",
       "    <tr>\n",
       "      <td>11</td>\n",
       "      <td>0.070100</td>\n",
       "      <td>1.345234</td>\n",
       "      <td>0.742424</td>\n",
       "      <td>0.523230</td>\n",
       "      <td>0.562609</td>\n",
       "      <td>0.518904</td>\n",
       "    </tr>\n",
       "    <tr>\n",
       "      <td>12</td>\n",
       "      <td>0.046900</td>\n",
       "      <td>1.503726</td>\n",
       "      <td>0.762626</td>\n",
       "      <td>0.535934</td>\n",
       "      <td>0.586663</td>\n",
       "      <td>0.512552</td>\n",
       "    </tr>\n",
       "    <tr>\n",
       "      <td>13</td>\n",
       "      <td>0.031200</td>\n",
       "      <td>1.459409</td>\n",
       "      <td>0.755051</td>\n",
       "      <td>0.549824</td>\n",
       "      <td>0.560709</td>\n",
       "      <td>0.545561</td>\n",
       "    </tr>\n",
       "    <tr>\n",
       "      <td>14</td>\n",
       "      <td>0.019800</td>\n",
       "      <td>1.579281</td>\n",
       "      <td>0.729798</td>\n",
       "      <td>0.514369</td>\n",
       "      <td>0.541078</td>\n",
       "      <td>0.506127</td>\n",
       "    </tr>\n",
       "  </tbody>\n",
       "</table><p>"
      ],
      "text/plain": [
       "<IPython.core.display.HTML object>"
      ]
     },
     "metadata": {},
     "output_type": "display_data"
    },
    {
     "data": {
      "text/html": [],
      "text/plain": [
       "<IPython.core.display.HTML object>"
      ]
     },
     "metadata": {},
     "output_type": "display_data"
    },
    {
     "name": "stdout",
     "output_type": "stream",
     "text": [
      "Validation Results: {'eval_loss': 1.1153538227081299, 'eval_accuracy': 0.76010101010101, 'eval_f1': 0.5765451375731889, 'eval_precision': 0.5776146885521886, 'eval_recall': 0.5801361089890502, 'eval_runtime': 1.6516, 'eval_samples_per_second': 239.771, 'eval_steps_per_second': 4.238, 'epoch': 14.0}\n",
      "Prediction TASK2 completed. Results saved to sexism_predictions_task2_hard_english.csv\n"
     ]
    }
   ],
   "source": [
    "modelname = \"cardiffnlp/twitter-roberta-base-sentiment-latest\"\n",
    "params = {\"num_train_epochs\": 20,\n",
    "          \"learning_rate\": 0.0001,\n",
    "          \"per_device_train_batch_size\": 64,\n",
    "          \"warmup_steps\": 200,\n",
    "          \"early_stopping_patience\": 5,\n",
    "          \"ignore_mismatched_sizes\": True,\n",
    "          \"output_dir\": None,\n",
    "          \"logging_dir\": None,\n",
    "          \"language\": \"english\"\n",
    "          }\n",
    "\n",
    "_, eval_results = sexism_classification_pipeline_task2(EnTrainTask2, EnDevTask2, EnTestTask2, modelname, 4, \"single_label_classification\", **params)"
   ]
  },
  {
   "cell_type": "code",
   "execution_count": 12,
   "metadata": {},
   "outputs": [
    {
     "name": "stderr",
     "output_type": "stream",
     "text": [
      "Some weights of RobertaForSequenceClassification were not initialized from the model checkpoint at pysentimiento/robertuito-sentiment-analysis and are newly initialized because the shapes did not match:\n",
      "- classifier.out_proj.bias: found shape torch.Size([3]) in the checkpoint and torch.Size([4]) in the model instantiated\n",
      "- classifier.out_proj.weight: found shape torch.Size([3, 768]) in the checkpoint and torch.Size([4, 768]) in the model instantiated\n",
      "You should probably TRAIN this model on a down-stream task to be able to use it for predictions and inference.\n"
     ]
    },
    {
     "data": {
      "text/html": [
       "\n",
       "    <div>\n",
       "      \n",
       "      <progress value='405' max='900' style='width:300px; height:20px; vertical-align: middle;'></progress>\n",
       "      [405/900 05:53 < 07:14, 1.14 it/s, Epoch 9/20]\n",
       "    </div>\n",
       "    <table border=\"1\" class=\"dataframe\">\n",
       "  <thead>\n",
       " <tr style=\"text-align: left;\">\n",
       "      <th>Epoch</th>\n",
       "      <th>Training Loss</th>\n",
       "      <th>Validation Loss</th>\n",
       "      <th>Accuracy</th>\n",
       "      <th>F1</th>\n",
       "      <th>Precision</th>\n",
       "      <th>Recall</th>\n",
       "    </tr>\n",
       "  </thead>\n",
       "  <tbody>\n",
       "    <tr>\n",
       "      <td>1</td>\n",
       "      <td>0.958800</td>\n",
       "      <td>1.027374</td>\n",
       "      <td>0.612385</td>\n",
       "      <td>0.325291</td>\n",
       "      <td>0.294457</td>\n",
       "      <td>0.364864</td>\n",
       "    </tr>\n",
       "    <tr>\n",
       "      <td>2</td>\n",
       "      <td>0.674600</td>\n",
       "      <td>0.758187</td>\n",
       "      <td>0.699541</td>\n",
       "      <td>0.409929</td>\n",
       "      <td>0.689031</td>\n",
       "      <td>0.445999</td>\n",
       "    </tr>\n",
       "    <tr>\n",
       "      <td>3</td>\n",
       "      <td>0.523900</td>\n",
       "      <td>0.668089</td>\n",
       "      <td>0.724771</td>\n",
       "      <td>0.538179</td>\n",
       "      <td>0.562453</td>\n",
       "      <td>0.577888</td>\n",
       "    </tr>\n",
       "    <tr>\n",
       "      <td>4</td>\n",
       "      <td>0.283600</td>\n",
       "      <td>0.724665</td>\n",
       "      <td>0.770642</td>\n",
       "      <td>0.642376</td>\n",
       "      <td>0.698419</td>\n",
       "      <td>0.618465</td>\n",
       "    </tr>\n",
       "    <tr>\n",
       "      <td>5</td>\n",
       "      <td>0.109300</td>\n",
       "      <td>1.010631</td>\n",
       "      <td>0.736239</td>\n",
       "      <td>0.565829</td>\n",
       "      <td>0.663338</td>\n",
       "      <td>0.550171</td>\n",
       "    </tr>\n",
       "    <tr>\n",
       "      <td>6</td>\n",
       "      <td>0.057400</td>\n",
       "      <td>1.062358</td>\n",
       "      <td>0.722477</td>\n",
       "      <td>0.588846</td>\n",
       "      <td>0.594059</td>\n",
       "      <td>0.585575</td>\n",
       "    </tr>\n",
       "    <tr>\n",
       "      <td>7</td>\n",
       "      <td>0.054500</td>\n",
       "      <td>1.122229</td>\n",
       "      <td>0.745413</td>\n",
       "      <td>0.610570</td>\n",
       "      <td>0.640809</td>\n",
       "      <td>0.597037</td>\n",
       "    </tr>\n",
       "    <tr>\n",
       "      <td>8</td>\n",
       "      <td>0.019300</td>\n",
       "      <td>1.245260</td>\n",
       "      <td>0.747706</td>\n",
       "      <td>0.620138</td>\n",
       "      <td>0.639623</td>\n",
       "      <td>0.610288</td>\n",
       "    </tr>\n",
       "    <tr>\n",
       "      <td>9</td>\n",
       "      <td>0.058000</td>\n",
       "      <td>1.609196</td>\n",
       "      <td>0.672018</td>\n",
       "      <td>0.522062</td>\n",
       "      <td>0.605430</td>\n",
       "      <td>0.494558</td>\n",
       "    </tr>\n",
       "  </tbody>\n",
       "</table><p>"
      ],
      "text/plain": [
       "<IPython.core.display.HTML object>"
      ]
     },
     "metadata": {},
     "output_type": "display_data"
    },
    {
     "data": {
      "text/html": [],
      "text/plain": [
       "<IPython.core.display.HTML object>"
      ]
     },
     "metadata": {},
     "output_type": "display_data"
    },
    {
     "name": "stdout",
     "output_type": "stream",
     "text": [
      "Validation Results: {'eval_loss': 0.724665105342865, 'eval_accuracy': 0.7706422018348624, 'eval_f1': 0.6423761134945729, 'eval_precision': 0.6984191310697334, 'eval_recall': 0.6184648765393825, 'eval_runtime': 1.8299, 'eval_samples_per_second': 238.27, 'eval_steps_per_second': 3.825, 'epoch': 9.0}\n",
      "Prediction TASK2 completed. Results saved to sexism_predictions_task2_hard_spanish.csv\n"
     ]
    }
   ],
   "source": [
    "modelname = \"pysentimiento/robertuito-sentiment-analysis\"\n",
    "params = {\"num_train_epochs\": 20,\n",
    "          \"learning_rate\": 0.0001,\n",
    "          \"per_device_train_batch_size\": 64,\n",
    "          \"warmup_steps\": 200,\n",
    "          \"early_stopping_patience\": 5, \n",
    "          \"ignore_mismatched_sizes\": True,\n",
    "          \"output_dir\": None,\n",
    "          \"logging_dir\": None,\n",
    "          \"language\": \"spanish\"\n",
    "          }\n",
    "\n",
    "_, eval_results = sexism_classification_pipeline_task2(SpTrainTask2, SpDevTask2, SpTestTask2, modelname, 4, \"single_label_classification\", **params)"
   ]
  },
  {
   "cell_type": "markdown",
   "metadata": {},
   "source": [
    "## Save predictions"
   ]
  },
  {
   "cell_type": "code",
   "execution_count": 13,
   "metadata": {},
   "outputs": [
    {
     "name": "stdout",
     "output_type": "stream",
     "text": [
      "Predictions saved\n"
     ]
    }
   ],
   "source": [
    "if create_submision_file(\"ArPa Project\", 1, \"hard\", run_id, 2, \".\", \"exist2025_ArPa Project\"):\n",
    "    print(\"Predictions saved\")"
   ]
  }
 ],
 "metadata": {
  "kernelspec": {
   "display_name": "transformers",
   "language": "python",
   "name": "python3"
  },
  "language_info": {
   "codemirror_mode": {
    "name": "ipython",
    "version": 3
   },
   "file_extension": ".py",
   "mimetype": "text/x-python",
   "name": "python",
   "nbconvert_exporter": "python",
   "pygments_lexer": "ipython3",
   "version": "3.12.9"
  }
 },
 "nbformat": 4,
 "nbformat_minor": 2
}
