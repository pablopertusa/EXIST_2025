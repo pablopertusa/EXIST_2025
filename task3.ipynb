{
 "cells": [
  {
   "cell_type": "markdown",
   "metadata": {},
   "source": [
    "<h1 align=\"center\">Exists2025:  Sexism Identification in Twitter</h1>\n",
    "<h2 align=\"center\">Task 1. Fine-tuning for binary classification\n",
    "<h3 style=\"display:block; margin-top:5px;\" align=\"center\">ETSInf. Universitat Politècnica de València</h3>\n",
    "<br>"
   ]
  },
  {
   "cell_type": "markdown",
   "metadata": {},
   "source": [
    "## Libraries"
   ]
  },
  {
   "cell_type": "code",
   "execution_count": 1,
   "metadata": {},
   "outputs": [],
   "source": [
    "import numpy as np\n",
    "import torch\n",
    "from torch.utils.data import Dataset, DataLoader\n",
    "from transformers import  AutoTokenizer, AutoModelForSequenceClassification,  Trainer, TrainingArguments,  EarlyStoppingCallback\n",
    "from sklearn.metrics import accuracy_score, precision_recall_fscore_support\n",
    "from sklearn.preprocessing import MultiLabelBinarizer\n",
    "from sklearn.model_selection import train_test_split\n",
    "import random\n",
    "import os\n",
    "import pandas as pd\n",
    "import json\n",
    "import sys\n",
    "import tempfile\n",
    "import time\n",
    "import re\n",
    "import emoji\n",
    "\n",
    "#Importing the required modules to use the ICM measure\n",
    "from pyevall.evaluation import PyEvALLEvaluation\n",
    "from pyevall.metrics.metricfactory import MetricFactory\n",
    "from pyevall.reports.reports import PyEvALLReport\n",
    "from pyevall.utils.utils import PyEvALLUtils\n",
    "from functools import partial\n",
    "\n",
    "from readerEXIST2025 import EXISTReader\n",
    "from create_submision_folder import create_submision_file"
   ]
  },
  {
   "cell_type": "markdown",
   "metadata": {},
   "source": [
    "## Read data"
   ]
  },
  {
   "cell_type": "code",
   "execution_count": 2,
   "metadata": {},
   "outputs": [],
   "source": [
    "url = r\"\\bhttps?://[\\w.-]+(?:\\.[a-zA-Z]{2,})?(?:/\\S*/?)?\"\n",
    "\n",
    "emojis = sorted(emoji.EMOJI_DATA, key=len, reverse=True)\n",
    "pattern_emoji = \"(\" + \"|\".join(re.escape(u) for u in emojis) + \")\"\n",
    "\n",
    "pattern_all = r\"|\".join(\n",
    "    [\n",
    "        url,\n",
    "        pattern_emoji,\n",
    "    ]\n",
    ")\n",
    "\n",
    "re_all = re.compile(pattern_all, re.U)"
   ]
  },
  {
   "cell_type": "code",
   "execution_count": 3,
   "metadata": {},
   "outputs": [],
   "source": [
    "file_train = \"data/EXIST 2025 Tweets Dataset/training/EXIST2025_training.json\"\n",
    "file_dev = \"data/EXIST 2025 Tweets Dataset/dev/EXIST2025_dev.json\"\n",
    "file_test = \"data/EXIST 2025 Tweets Dataset/test/EXIST2025_test_clean.json\"\n",
    "\n",
    "reader_train = EXISTReader(file_train)\n",
    "reader_dev = EXISTReader(file_dev)\n",
    "reader_test = EXISTReader(file_test, is_test=True)\n",
    "\n",
    "EnTrainTask3, EnDevTask3, EnTestTask3 = reader_train.get(lang=\"EN\", subtask=\"3\", regular_exp=re_all, preprocess=True), reader_dev.get(lang=\"EN\", subtask=\"3\", regular_exp=re_all, preprocess=True), reader_test.get(lang=\"EN\", subtask=\"3\", regular_exp=re_all, preprocess=True)\n",
    "SpTrainTask3, SpDevTask3, SpTestTask3 = reader_train.get(lang=\"ES\", subtask=\"3\", regular_exp=re_all, preprocess=True), reader_dev.get(lang=\"ES\", subtask=\"3\", regular_exp=re_all, preprocess=True), reader_test.get(lang=\"ES\", subtask=\"3\", regular_exp=re_all, preprocess=True)"
   ]
  },
  {
   "cell_type": "code",
   "execution_count": 4,
   "metadata": {},
   "outputs": [
    {
     "data": {
      "text/plain": [
       "1    [NO, MISOGYNY-NON-SEXUAL-VIOLENCE, OBJECTIFICA...\n",
       "2    [NO, MISOGYNY-NON-SEXUAL-VIOLENCE, OBJECTIFICA...\n",
       "5    [IDEOLOGICAL-INEQUALITY, MISOGYNY-NON-SEXUAL-V...\n",
       "6            [OBJECTIFICATION, STEREOTYPING-DOMINANCE]\n",
       "7                         [NO, IDEOLOGICAL-INEQUALITY]\n",
       "Name: label3, dtype: object"
      ]
     },
     "execution_count": 4,
     "metadata": {},
     "output_type": "execute_result"
    }
   ],
   "source": [
    "EnTrainTask3[2].head()"
   ]
  },
  {
   "cell_type": "markdown",
   "metadata": {},
   "source": [
    "Ahora son 6 labels, incluyendo al NO."
   ]
  },
  {
   "cell_type": "markdown",
   "metadata": {},
   "source": [
    "## ICM Wrapper"
   ]
  },
  {
   "cell_type": "code",
   "execution_count": 5,
   "metadata": {},
   "outputs": [],
   "source": [
    "def ICMWrapper(pred, labels, multi=False,ids=None):\n",
    "    test = PyEvALLEvaluation()\n",
    "    metrics=[MetricFactory.ICM.value]\n",
    "    params= dict()\n",
    "    fillLabel=None\n",
    "    if multi:\n",
    "        params[PyEvALLUtils.PARAM_REPORT]=\"embedded\"\n",
    "        hierarchy={\"True\":['IDEOLOGICAL-INEQUALITY', 'STEREOTYPING-DOMINANCE', 'MISOGYNY-NON-SEXUAL-VIOLENCE', 'OBJECTIFICATION', 'SEXUAL-VIOLENCE'],\n",
    "        \"False\":[]}\n",
    "        params[PyEvALLUtils.PARAM_HIERARCHY]=hierarchy\n",
    "        fillLabel = lambda x: [\"False\"] if len(x)== 0 else x\n",
    "    else:\n",
    "        params[PyEvALLUtils.PARAM_REPORT]=\"simple\"\n",
    "        fillLabel = lambda x: str(x)\n",
    "\n",
    "\n",
    "    truth_name, predict_name=None, None\n",
    "    if ids is None:\n",
    "        ids=list(range(len(labels)))\n",
    "\n",
    "    with tempfile.NamedTemporaryFile(mode='w', delete=False, encoding='utf-8') as truth:\n",
    "        truth_name=truth.name\n",
    "        truth_df=pd.DataFrame({'test_case': ['EXIST2025']*len(labels),\n",
    "                        'id': [str(x) for x in ids],\n",
    "                        'value': [fillLabel(x) for x in labels]})\n",
    "        if multi==True:\n",
    "            truth_df=truth_df.astype('object')\n",
    "        truth.write(truth_df.to_json(orient=\"records\"))\n",
    "\n",
    "    with  tempfile.NamedTemporaryFile(mode='w', delete=False) as predict:\n",
    "        predict_name=predict.name\n",
    "        predict_df=pd.DataFrame({'test_case': ['EXIST2025']*len(pred),\n",
    "                        'id': [str(x) for x in ids],\n",
    "                        'value': [fillLabel(x) for x in pred]})\n",
    "        if multi==True:\n",
    "            predict_df=predict_df.astype('object')\n",
    "        predict.write(predict_df.to_json(orient=\"records\"))\n",
    "\n",
    "    report = test.evaluate(predict_name, truth_name, metrics, **params)\n",
    "    os.unlink(truth_name)\n",
    "    os.unlink(predict_name)\n",
    "\n",
    "    icm = None\n",
    "    if 'metrics' in report.report:\n",
    "        if 'ICM' in report.report[\"metrics\"]: icm=float(report.report[\"metrics\"]['ICM'][\"results\"][\"average_per_test_case\"])\n",
    "    return icm"
   ]
  },
  {
   "cell_type": "markdown",
   "metadata": {},
   "source": [
    "## Set seed"
   ]
  },
  {
   "cell_type": "code",
   "execution_count": 6,
   "metadata": {},
   "outputs": [],
   "source": [
    "def set_seed(seed=1234):\n",
    "    \"\"\"\n",
    "    Sets the seed to make everything deterministic, for reproducibility of experiments\n",
    "    Parameters:\n",
    "    seed: the number to set the seed to\n",
    "    Return: None\n",
    "    \"\"\"\n",
    "    # Random seed\n",
    "    random.seed(seed)\n",
    "    # Numpy seed\n",
    "    np.random.seed(seed)\n",
    "    # Torch seed\n",
    "    torch.manual_seed(seed)\n",
    "    torch.cuda.manual_seed(seed)\n",
    "    torch.backends.cudnn.deterministic = True\n",
    "    torch.backends.cudnn.benchmark = True\n",
    "    # os seed\n",
    "    os.environ['PYTHONHASHSEED'] = str(seed)"
   ]
  },
  {
   "cell_type": "markdown",
   "metadata": {},
   "source": [
    "## Dataset class"
   ]
  },
  {
   "cell_type": "code",
   "execution_count": 7,
   "metadata": {},
   "outputs": [],
   "source": [
    "class SexismDatasetMulti(Dataset):\n",
    "    def __init__(self, texts, labels, ids, tokenizer, max_len=128, pad=\"max_length\", trunc=True,rt='pt'):\n",
    "        self.texts = texts.tolist()\n",
    "        self.labels = labels\n",
    "        self.ids = ids\n",
    "        self.tokenizer = tokenizer\n",
    "        self.max_len = max_len\n",
    "        self.pad = pad\n",
    "        self.trunc = trunc\n",
    "        self.rt = rt\n",
    "\n",
    "\n",
    "    def __len__(self):\n",
    "        return len(self.texts)\n",
    "\n",
    "    def __getitem__(self, idx):\n",
    "        text = str(self.texts[idx])\n",
    "        inputs = self.tokenizer.encode_plus(\n",
    "            text,\n",
    "            add_special_tokens=True,\n",
    "            max_length=self.max_len,padding=self.pad, truncation=self.trunc,\n",
    "            return_tensors=self.rt\n",
    "        )\n",
    "\n",
    "        return {\n",
    "            'input_ids': inputs['input_ids'].flatten(),\n",
    "            'attention_mask': inputs['attention_mask'].flatten(),\n",
    "            'labels': torch.tensor(self.labels[idx], dtype=torch.float),\n",
    "            'id': torch.tensor(self.ids[idx], dtype=torch.long)}"
   ]
  },
  {
   "cell_type": "markdown",
   "metadata": {},
   "source": [
    "## Metrics"
   ]
  },
  {
   "cell_type": "code",
   "execution_count": 8,
   "metadata": {},
   "outputs": [],
   "source": [
    "def compute_metrics_3(pred, lencoder):\n",
    "    labels = pred.label_ids\n",
    "    #preds = pred.predictions.argmax(-1)\n",
    "    preds = torch.sigmoid(torch.tensor(pred.predictions)).numpy()\n",
    "    preds_binary = (preds >= 0.5).astype(int)\n",
    "    precision, recall, f1, _ = precision_recall_fscore_support(\n",
    "        labels, preds_binary, average=None, zero_division=0\n",
    "    )\n",
    "    acc = accuracy_score(labels, preds_binary)\n",
    "    icm= ICMWrapper(lencoder.inverse_transform(preds_binary), lencoder.inverse_transform(labels), multi=True)\n",
    "    # Macro averages\n",
    "    precision_macro = np.mean(precision)\n",
    "    recall_macro = np.mean(recall)\n",
    "    f1_macro = np.mean(f1)\n",
    "    metrics = {}\n",
    "    metrics.update({\n",
    "        'precision_macro': precision_macro,\n",
    "        'recall_macro': recall_macro,\n",
    "        'f1_macro': f1_macro,\n",
    "        'ICM': icm\n",
    "    })\n",
    "    return metrics"
   ]
  },
  {
   "cell_type": "markdown",
   "metadata": {},
   "source": [
    "## Pipeline"
   ]
  },
  {
   "cell_type": "code",
   "execution_count": 9,
   "metadata": {},
   "outputs": [],
   "source": [
    "def sexism_classification_pipeline_task3(trainInfo, devInfo, testInfo=None, model_name='roberta-base', nlabels=5, ptype=\"multi_label_classification\", **args):\n",
    "    # Model and Tokenizer\n",
    "    labelEnc= MultiLabelBinarizer()\n",
    "    tokenizer = AutoTokenizer.from_pretrained(model_name)\n",
    "    model = AutoModelForSequenceClassification.from_pretrained(\n",
    "        model_name,\n",
    "        num_labels=nlabels,\n",
    "        problem_type=ptype, \n",
    "        ignore_mismatched_sizes=args.get(\"ignore_mismatched_sizes\", False)\n",
    "        )\n",
    "\n",
    "    # Prepare datasets\n",
    "    train_dataset = SexismDatasetMulti(trainInfo[1], labelEnc.fit_transform(trainInfo[2]),[int(x) for x in trainInfo[0]], tokenizer )\n",
    "    val_dataset = SexismDatasetMulti(devInfo[1], labelEnc.transform(devInfo[2]), [int(x) for x in devInfo[0]], tokenizer)\n",
    "\n",
    "    # Training Arguments\n",
    "    training_args = TrainingArguments(\n",
    "        report_to=\"none\", # alt: \"wandb\", \"tensorboard\" \"comet_ml\" \"mlflow\" \"clearml\"\n",
    "        output_dir= args.get('output_dir', './results'),\n",
    "        num_train_epochs= args.get('num_train_epochs', 5),\n",
    "        learning_rate=args.get('learning_rate', 5e-5),\n",
    "        per_device_train_batch_size=args.get('per_device_train_batch_size', 16),\n",
    "        per_device_eval_batch_size=args.get('per_device_eval_batch_size', 64),\n",
    "        warmup_steps=args.get('warmup_steps', 500),\n",
    "        weight_decay=args.get('weight_decay',0.01),\n",
    "        logging_dir=args.get('logging_dir', './logs'),\n",
    "        logging_steps=args.get('logging_steps', 10),\n",
    "        eval_strategy=args.get('eval_strategy','epoch'),\n",
    "        save_strategy=args.get('save_strategy', \"epoch\"),\n",
    "        save_total_limit=args.get('save_total_limit', 1),\n",
    "        load_best_model_at_end=args.get('load_best_model_at_end', True),\n",
    "        metric_for_best_model=args.get('metric_for_best_model',\"ICM\")\n",
    "    )\n",
    "\n",
    "    # Initialize Trainer\n",
    "    trainer = Trainer(\n",
    "        model=model,\n",
    "        args=training_args,\n",
    "        train_dataset=train_dataset,\n",
    "        eval_dataset=val_dataset,\n",
    "        #compute_metrics=compute_metrics_3,\n",
    "        compute_metrics = partial(compute_metrics_3, lencoder=labelEnc),\n",
    "        callbacks=[EarlyStoppingCallback(early_stopping_patience=args.get(\"early_stopping_patience\",3))]\n",
    "    )\n",
    "\n",
    "    # Fine-tune the model\n",
    "    trainer.train()\n",
    "\n",
    "    # Evaluate on validation set\n",
    "    eval_results = trainer.evaluate()\n",
    "    print(\"Validation Results:\", eval_results)\n",
    "\n",
    "    if testInfo is not None:\n",
    "        # Prepare test dataset for prediction\n",
    "        test_dataset = SexismDatasetMulti(testInfo[1], [[0]*nlabels] * len(testInfo[1]),  [int(x) for x in testInfo[0]],   tokenizer)\n",
    "        output_type = args.get(\"output_type\", \"hard\")\n",
    "        # Predict test set labels\n",
    "        predictions = trainer.predict(test_dataset)\n",
    "        #predicted_labels = np.argmax(predictions.predictions, axis=1)\n",
    "        probabilities = torch.sigmoid(torch.tensor(predictions.predictions)).numpy()\n",
    "\n",
    "        if output_type == \"hard\":\n",
    "            predicted_labels = (probabilities >= 0.5).astype(int)\n",
    "            # Create submission DataFrame\n",
    "            labels = labelEnc.inverse_transform(predicted_labels)\n",
    "            list_labels = []\n",
    "            for t in labels:\n",
    "                aux = []\n",
    "                for e in t:\n",
    "                    aux.append(e)\n",
    "                list_labels.append(aux)\n",
    "\n",
    "            submission_df = pd.DataFrame({\n",
    "                'id': testInfo[0],\n",
    "                'label': list_labels,\n",
    "                \"test_case\": [\"EXIST2025\"]*len(predicted_labels)\n",
    "            })\n",
    "\n",
    "        elif output_type == \"soft\":\n",
    "            submission_data = {\n",
    "                'id': testInfo[0],\n",
    "                \"test_case\": [\"EXIST2025\"] * len(probabilities)\n",
    "            }\n",
    "            list_probabilities = []\n",
    "            for i in range(probabilities.shape[0]):\n",
    "                value = {}\n",
    "                for j in range(probabilities.shape[1]):\n",
    "                    c = labelEnc.classes_[j]\n",
    "                    value[c] = probabilities[i,j].item()\n",
    "                list_probabilities.append(value)\n",
    "\n",
    "            submission_data[\"value\"] = list_probabilities\n",
    "            submission_df = pd.DataFrame(submission_data)\n",
    "\n",
    "        language = args.get(\"language\", \"english\")\n",
    "        submission_df.to_csv(f'sexism_predictions_task3_{output_type}_{language}.csv', index=False)\n",
    "        print(f\"Prediction TASK3 completed. Results saved to sexism_predictions_task3_{output_type}_{language}.csv\")\n",
    "    return model, eval_results"
   ]
  },
  {
   "cell_type": "markdown",
   "metadata": {},
   "source": [
    "## Run id"
   ]
  },
  {
   "cell_type": "markdown",
   "metadata": {},
   "source": [
    "Before training, we specify the `run_id` for the predictions."
   ]
  },
  {
   "cell_type": "code",
   "execution_count": 10,
   "metadata": {},
   "outputs": [],
   "source": [
    "run_id = 1"
   ]
  },
  {
   "cell_type": "markdown",
   "metadata": {},
   "source": [
    "## Training soft"
   ]
  },
  {
   "cell_type": "code",
   "execution_count": 11,
   "metadata": {},
   "outputs": [
    {
     "name": "stderr",
     "output_type": "stream",
     "text": [
      "Some weights of the model checkpoint at cardiffnlp/twitter-roberta-base-sentiment-latest were not used when initializing RobertaForSequenceClassification: ['roberta.pooler.dense.bias', 'roberta.pooler.dense.weight']\n",
      "- This IS expected if you are initializing RobertaForSequenceClassification from the checkpoint of a model trained on another task or with another architecture (e.g. initializing a BertForSequenceClassification model from a BertForPreTraining model).\n",
      "- This IS NOT expected if you are initializing RobertaForSequenceClassification from the checkpoint of a model that you expect to be exactly identical (initializing a BertForSequenceClassification model from a BertForSequenceClassification model).\n",
      "Some weights of RobertaForSequenceClassification were not initialized from the model checkpoint at cardiffnlp/twitter-roberta-base-sentiment-latest and are newly initialized because the shapes did not match:\n",
      "- classifier.out_proj.weight: found shape torch.Size([3, 768]) in the checkpoint and torch.Size([6, 768]) in the model instantiated\n",
      "- classifier.out_proj.bias: found shape torch.Size([3]) in the checkpoint and torch.Size([6]) in the model instantiated\n",
      "You should probably TRAIN this model on a down-stream task to be able to use it for predictions and inference.\n"
     ]
    },
    {
     "data": {
      "text/html": [
       "\n",
       "    <div>\n",
       "      \n",
       "      <progress value='540' max='900' style='width:300px; height:20px; vertical-align: middle;'></progress>\n",
       "      [540/900 09:35 < 06:25, 0.93 it/s, Epoch 12/20]\n",
       "    </div>\n",
       "    <table border=\"1\" class=\"dataframe\">\n",
       "  <thead>\n",
       " <tr style=\"text-align: left;\">\n",
       "      <th>Epoch</th>\n",
       "      <th>Training Loss</th>\n",
       "      <th>Validation Loss</th>\n",
       "      <th>Precision Macro</th>\n",
       "      <th>Recall Macro</th>\n",
       "      <th>F1 Macro</th>\n",
       "      <th>Icm</th>\n",
       "    </tr>\n",
       "  </thead>\n",
       "  <tbody>\n",
       "    <tr>\n",
       "      <td>1</td>\n",
       "      <td>0.576000</td>\n",
       "      <td>0.570637</td>\n",
       "      <td>0.702344</td>\n",
       "      <td>0.334160</td>\n",
       "      <td>0.393106</td>\n",
       "      <td>-1.040690</td>\n",
       "    </tr>\n",
       "    <tr>\n",
       "      <td>2</td>\n",
       "      <td>0.464200</td>\n",
       "      <td>0.512876</td>\n",
       "      <td>0.777475</td>\n",
       "      <td>0.599696</td>\n",
       "      <td>0.658330</td>\n",
       "      <td>-0.023042</td>\n",
       "    </tr>\n",
       "    <tr>\n",
       "      <td>3</td>\n",
       "      <td>0.437200</td>\n",
       "      <td>0.470406</td>\n",
       "      <td>0.740501</td>\n",
       "      <td>0.722305</td>\n",
       "      <td>0.726359</td>\n",
       "      <td>0.413183</td>\n",
       "    </tr>\n",
       "    <tr>\n",
       "      <td>4</td>\n",
       "      <td>0.379700</td>\n",
       "      <td>0.508954</td>\n",
       "      <td>0.773026</td>\n",
       "      <td>0.624563</td>\n",
       "      <td>0.684850</td>\n",
       "      <td>0.150916</td>\n",
       "    </tr>\n",
       "    <tr>\n",
       "      <td>5</td>\n",
       "      <td>0.341400</td>\n",
       "      <td>0.533584</td>\n",
       "      <td>0.800534</td>\n",
       "      <td>0.593885</td>\n",
       "      <td>0.662982</td>\n",
       "      <td>0.068234</td>\n",
       "    </tr>\n",
       "    <tr>\n",
       "      <td>6</td>\n",
       "      <td>0.276900</td>\n",
       "      <td>0.576322</td>\n",
       "      <td>0.785990</td>\n",
       "      <td>0.599701</td>\n",
       "      <td>0.668958</td>\n",
       "      <td>0.081340</td>\n",
       "    </tr>\n",
       "    <tr>\n",
       "      <td>7</td>\n",
       "      <td>0.223600</td>\n",
       "      <td>0.604792</td>\n",
       "      <td>0.735769</td>\n",
       "      <td>0.717692</td>\n",
       "      <td>0.722117</td>\n",
       "      <td>0.419895</td>\n",
       "    </tr>\n",
       "    <tr>\n",
       "      <td>8</td>\n",
       "      <td>0.161800</td>\n",
       "      <td>0.664503</td>\n",
       "      <td>0.752045</td>\n",
       "      <td>0.676731</td>\n",
       "      <td>0.708144</td>\n",
       "      <td>0.320850</td>\n",
       "    </tr>\n",
       "    <tr>\n",
       "      <td>9</td>\n",
       "      <td>0.097800</td>\n",
       "      <td>0.735740</td>\n",
       "      <td>0.730609</td>\n",
       "      <td>0.700757</td>\n",
       "      <td>0.710894</td>\n",
       "      <td>0.335621</td>\n",
       "    </tr>\n",
       "    <tr>\n",
       "      <td>10</td>\n",
       "      <td>0.061700</td>\n",
       "      <td>0.795960</td>\n",
       "      <td>0.717218</td>\n",
       "      <td>0.685114</td>\n",
       "      <td>0.696400</td>\n",
       "      <td>0.264567</td>\n",
       "    </tr>\n",
       "    <tr>\n",
       "      <td>11</td>\n",
       "      <td>0.043800</td>\n",
       "      <td>0.842993</td>\n",
       "      <td>0.722313</td>\n",
       "      <td>0.691966</td>\n",
       "      <td>0.701091</td>\n",
       "      <td>0.308172</td>\n",
       "    </tr>\n",
       "    <tr>\n",
       "      <td>12</td>\n",
       "      <td>0.026700</td>\n",
       "      <td>0.893779</td>\n",
       "      <td>0.735097</td>\n",
       "      <td>0.679266</td>\n",
       "      <td>0.703616</td>\n",
       "      <td>0.296596</td>\n",
       "    </tr>\n",
       "  </tbody>\n",
       "</table><p>"
      ],
      "text/plain": [
       "<IPython.core.display.HTML object>"
      ]
     },
     "metadata": {},
     "output_type": "display_data"
    },
    {
     "name": "stdout",
     "output_type": "stream",
     "text": [
      "2025-05-09 23:46:48,111 - pyevall.evaluation - INFO -             evaluate() - Evaluating the following metrics ['ICM']\n",
      "2025-05-09 23:46:48,161 - pyevall.metrics.metrics - INFO -             evaluate() - Executing ICM evaluation method\n",
      "cargado 29\n",
      "2025-05-09 23:47:34,970 - pyevall.evaluation - INFO -             evaluate() - Evaluating the following metrics ['ICM']\n",
      "2025-05-09 23:47:35,018 - pyevall.metrics.metrics - INFO -             evaluate() - Executing ICM evaluation method\n",
      "2025-05-09 23:48:22,514 - pyevall.evaluation - INFO -             evaluate() - Evaluating the following metrics ['ICM']\n",
      "2025-05-09 23:48:22,563 - pyevall.metrics.metrics - INFO -             evaluate() - Executing ICM evaluation method\n",
      "2025-05-09 23:49:10,451 - pyevall.evaluation - INFO -             evaluate() - Evaluating the following metrics ['ICM']\n",
      "2025-05-09 23:49:10,498 - pyevall.metrics.metrics - INFO -             evaluate() - Executing ICM evaluation method\n",
      "2025-05-09 23:49:58,681 - pyevall.evaluation - INFO -             evaluate() - Evaluating the following metrics ['ICM']\n",
      "2025-05-09 23:49:58,731 - pyevall.metrics.metrics - INFO -             evaluate() - Executing ICM evaluation method\n",
      "2025-05-09 23:50:46,245 - pyevall.evaluation - INFO -             evaluate() - Evaluating the following metrics ['ICM']\n",
      "2025-05-09 23:50:46,295 - pyevall.metrics.metrics - INFO -             evaluate() - Executing ICM evaluation method\n",
      "2025-05-09 23:51:34,226 - pyevall.evaluation - INFO -             evaluate() - Evaluating the following metrics ['ICM']\n",
      "2025-05-09 23:51:34,275 - pyevall.metrics.metrics - INFO -             evaluate() - Executing ICM evaluation method\n",
      "2025-05-09 23:52:21,833 - pyevall.evaluation - INFO -             evaluate() - Evaluating the following metrics ['ICM']\n",
      "2025-05-09 23:52:21,882 - pyevall.metrics.metrics - INFO -             evaluate() - Executing ICM evaluation method\n",
      "2025-05-09 23:53:09,136 - pyevall.evaluation - INFO -             evaluate() - Evaluating the following metrics ['ICM']\n",
      "2025-05-09 23:53:09,186 - pyevall.metrics.metrics - INFO -             evaluate() - Executing ICM evaluation method\n",
      "2025-05-09 23:53:56,790 - pyevall.evaluation - INFO -             evaluate() - Evaluating the following metrics ['ICM']\n",
      "2025-05-09 23:53:56,842 - pyevall.metrics.metrics - INFO -             evaluate() - Executing ICM evaluation method\n",
      "2025-05-09 23:54:48,436 - pyevall.evaluation - INFO -             evaluate() - Evaluating the following metrics ['ICM']\n",
      "2025-05-09 23:54:48,487 - pyevall.metrics.metrics - INFO -             evaluate() - Executing ICM evaluation method\n",
      "2025-05-09 23:55:36,726 - pyevall.evaluation - INFO -             evaluate() - Evaluating the following metrics ['ICM']\n",
      "2025-05-09 23:55:36,776 - pyevall.metrics.metrics - INFO -             evaluate() - Executing ICM evaluation method\n"
     ]
    },
    {
     "data": {
      "text/html": [],
      "text/plain": [
       "<IPython.core.display.HTML object>"
      ]
     },
     "metadata": {},
     "output_type": "display_data"
    },
    {
     "name": "stdout",
     "output_type": "stream",
     "text": [
      "2025-05-09 23:55:42,442 - pyevall.evaluation - INFO -             evaluate() - Evaluating the following metrics ['ICM']\n",
      "2025-05-09 23:55:42,489 - pyevall.metrics.metrics - INFO -             evaluate() - Executing ICM evaluation method\n",
      "Validation Results: {'eval_loss': 0.604792058467865, 'eval_precision_macro': 0.7357694217505869, 'eval_recall_macro': 0.717692082176402, 'eval_f1_macro': 0.7221172352516939, 'eval_ICM': 0.41989548035835644, 'eval_runtime': 3.2264, 'eval_samples_per_second': 137.613, 'eval_steps_per_second': 2.17, 'epoch': 12.0}\n",
      "2025-05-09 23:55:47,391 - pyevall.evaluation - INFO -             evaluate() - Evaluating the following metrics ['ICM']\n",
      "2025-05-09 23:55:47,482 - pyevall.metrics.metrics - INFO -             evaluate() - Executing ICM evaluation method\n",
      "Prediction TASK3 completed. Results saved to sexism_predictions_task3_soft_english.csv\n"
     ]
    }
   ],
   "source": [
    "modelname = \"cardiffnlp/twitter-roberta-base-sentiment-latest\"\n",
    "params = {\"num_train_epochs\": 20,\n",
    "          \"learning_rate\": 0.0001,\n",
    "          \"per_device_train_batch_size\": 64,\n",
    "          \"warmup_steps\": 200,\n",
    "          \"early_stopping_patience\": 5,\n",
    "          \"ignore_mismatched_sizes\": True,\n",
    "          \"logging_dir\": None,\n",
    "          \"output_dir\": None,\n",
    "          \"language\": \"english\",\n",
    "          \"output_type\": \"soft\"\n",
    "          }\n",
    "\n",
    "_, eval_results = sexism_classification_pipeline_task3(EnTrainTask3, EnDevTask3, EnTestTask3, modelname, 6, \"multi_label_classification\", **params)"
   ]
  },
  {
   "cell_type": "code",
   "execution_count": 12,
   "metadata": {},
   "outputs": [
    {
     "name": "stderr",
     "output_type": "stream",
     "text": [
      "Some weights of RobertaForSequenceClassification were not initialized from the model checkpoint at pysentimiento/robertuito-sentiment-analysis and are newly initialized because the shapes did not match:\n",
      "- classifier.out_proj.bias: found shape torch.Size([3]) in the checkpoint and torch.Size([6]) in the model instantiated\n",
      "- classifier.out_proj.weight: found shape torch.Size([3, 768]) in the checkpoint and torch.Size([6, 768]) in the model instantiated\n",
      "You should probably TRAIN this model on a down-stream task to be able to use it for predictions and inference.\n"
     ]
    },
    {
     "data": {
      "text/html": [
       "\n",
       "    <div>\n",
       "      \n",
       "      <progress value='400' max='1000' style='width:300px; height:20px; vertical-align: middle;'></progress>\n",
       "      [ 400/1000 07:44 < 11:40, 0.86 it/s, Epoch 8/20]\n",
       "    </div>\n",
       "    <table border=\"1\" class=\"dataframe\">\n",
       "  <thead>\n",
       " <tr style=\"text-align: left;\">\n",
       "      <th>Epoch</th>\n",
       "      <th>Training Loss</th>\n",
       "      <th>Validation Loss</th>\n",
       "      <th>Precision Macro</th>\n",
       "      <th>Recall Macro</th>\n",
       "      <th>F1 Macro</th>\n",
       "      <th>Icm</th>\n",
       "    </tr>\n",
       "  </thead>\n",
       "  <tbody>\n",
       "    <tr>\n",
       "      <td>1</td>\n",
       "      <td>0.610300</td>\n",
       "      <td>0.623138</td>\n",
       "      <td>0.530205</td>\n",
       "      <td>0.537001</td>\n",
       "      <td>0.517222</td>\n",
       "      <td>-0.537970</td>\n",
       "    </tr>\n",
       "    <tr>\n",
       "      <td>2</td>\n",
       "      <td>0.495900</td>\n",
       "      <td>0.505356</td>\n",
       "      <td>0.714866</td>\n",
       "      <td>0.735050</td>\n",
       "      <td>0.716907</td>\n",
       "      <td>0.422883</td>\n",
       "    </tr>\n",
       "    <tr>\n",
       "      <td>3</td>\n",
       "      <td>0.426400</td>\n",
       "      <td>0.502870</td>\n",
       "      <td>0.744314</td>\n",
       "      <td>0.724252</td>\n",
       "      <td>0.730531</td>\n",
       "      <td>0.484347</td>\n",
       "    </tr>\n",
       "    <tr>\n",
       "      <td>4</td>\n",
       "      <td>0.358900</td>\n",
       "      <td>0.521755</td>\n",
       "      <td>0.760193</td>\n",
       "      <td>0.709572</td>\n",
       "      <td>0.729819</td>\n",
       "      <td>0.475023</td>\n",
       "    </tr>\n",
       "    <tr>\n",
       "      <td>5</td>\n",
       "      <td>0.270600</td>\n",
       "      <td>0.563296</td>\n",
       "      <td>0.768307</td>\n",
       "      <td>0.695475</td>\n",
       "      <td>0.723482</td>\n",
       "      <td>0.455103</td>\n",
       "    </tr>\n",
       "    <tr>\n",
       "      <td>6</td>\n",
       "      <td>0.178800</td>\n",
       "      <td>0.615037</td>\n",
       "      <td>0.746326</td>\n",
       "      <td>0.701592</td>\n",
       "      <td>0.719634</td>\n",
       "      <td>0.428437</td>\n",
       "    </tr>\n",
       "    <tr>\n",
       "      <td>7</td>\n",
       "      <td>0.119800</td>\n",
       "      <td>0.697087</td>\n",
       "      <td>0.724328</td>\n",
       "      <td>0.704876</td>\n",
       "      <td>0.710424</td>\n",
       "      <td>0.380958</td>\n",
       "    </tr>\n",
       "    <tr>\n",
       "      <td>8</td>\n",
       "      <td>0.065500</td>\n",
       "      <td>0.791595</td>\n",
       "      <td>0.732955</td>\n",
       "      <td>0.671336</td>\n",
       "      <td>0.687818</td>\n",
       "      <td>0.258993</td>\n",
       "    </tr>\n",
       "  </tbody>\n",
       "</table><p>"
      ],
      "text/plain": [
       "<IPython.core.display.HTML object>"
      ]
     },
     "metadata": {},
     "output_type": "display_data"
    },
    {
     "name": "stdout",
     "output_type": "stream",
     "text": [
      "2025-05-09 23:56:55,212 - pyevall.evaluation - INFO -             evaluate() - Evaluating the following metrics ['ICM']\n",
      "2025-05-09 23:56:55,265 - pyevall.metrics.metrics - INFO -             evaluate() - Executing ICM evaluation method\n",
      "2025-05-09 23:57:51,525 - pyevall.evaluation - INFO -             evaluate() - Evaluating the following metrics ['ICM']\n",
      "2025-05-09 23:57:51,579 - pyevall.metrics.metrics - INFO -             evaluate() - Executing ICM evaluation method\n",
      "2025-05-09 23:58:47,803 - pyevall.evaluation - INFO -             evaluate() - Evaluating the following metrics ['ICM']\n",
      "2025-05-09 23:58:47,857 - pyevall.metrics.metrics - INFO -             evaluate() - Executing ICM evaluation method\n",
      "2025-05-09 23:59:48,709 - pyevall.evaluation - INFO -             evaluate() - Evaluating the following metrics ['ICM']\n",
      "2025-05-09 23:59:48,765 - pyevall.metrics.metrics - INFO -             evaluate() - Executing ICM evaluation method\n",
      "2025-05-10 00:00:49,330 - pyevall.evaluation - INFO -             evaluate() - Evaluating the following metrics ['ICM']\n",
      "2025-05-10 00:00:49,383 - pyevall.metrics.metrics - INFO -             evaluate() - Executing ICM evaluation method\n",
      "2025-05-10 00:01:47,835 - pyevall.evaluation - INFO -             evaluate() - Evaluating the following metrics ['ICM']\n",
      "2025-05-10 00:01:47,887 - pyevall.metrics.metrics - INFO -             evaluate() - Executing ICM evaluation method\n",
      "2025-05-10 00:02:45,944 - pyevall.evaluation - INFO -             evaluate() - Evaluating the following metrics ['ICM']\n",
      "2025-05-10 00:02:46,000 - pyevall.metrics.metrics - INFO -             evaluate() - Executing ICM evaluation method\n",
      "2025-05-10 00:03:43,275 - pyevall.evaluation - INFO -             evaluate() - Evaluating the following metrics ['ICM']\n",
      "2025-05-10 00:03:43,329 - pyevall.metrics.metrics - INFO -             evaluate() - Executing ICM evaluation method\n"
     ]
    },
    {
     "data": {
      "text/html": [],
      "text/plain": [
       "<IPython.core.display.HTML object>"
      ]
     },
     "metadata": {},
     "output_type": "display_data"
    },
    {
     "name": "stdout",
     "output_type": "stream",
     "text": [
      "2025-05-10 00:03:47,747 - pyevall.evaluation - INFO -             evaluate() - Evaluating the following metrics ['ICM']\n",
      "2025-05-10 00:03:47,801 - pyevall.metrics.metrics - INFO -             evaluate() - Executing ICM evaluation method\n",
      "Validation Results: {'eval_loss': 0.5028698444366455, 'eval_precision_macro': 0.744314370253068, 'eval_recall_macro': 0.7242524413806746, 'eval_f1_macro': 0.730530891442795, 'eval_ICM': 0.4843472446897114, 'eval_runtime': 2.6027, 'eval_samples_per_second': 188.265, 'eval_steps_per_second': 3.074, 'epoch': 8.0}\n",
      "2025-05-10 00:03:53,257 - pyevall.evaluation - INFO -             evaluate() - Evaluating the following metrics ['ICM']\n",
      "2025-05-10 00:03:53,361 - pyevall.metrics.metrics - INFO -             evaluate() - Executing ICM evaluation method\n",
      "Prediction TASK3 completed. Results saved to sexism_predictions_task3_soft_spanish.csv\n"
     ]
    }
   ],
   "source": [
    "modelname = \"pysentimiento/robertuito-sentiment-analysis\"\n",
    "params = {\"num_train_epochs\": 20,\n",
    "          \"learning_rate\": 0.0001,\n",
    "          \"per_device_train_batch_size\": 64,\n",
    "          \"warmup_steps\": 200,\n",
    "          \"early_stopping_patience\": 5, \n",
    "          \"logging_dir\": None,\n",
    "          \"output_dir\": None,\n",
    "          \"ignore_mismatched_sizes\": True,\n",
    "          \"language\": \"spanish\",\n",
    "          \"output_type\": \"soft\"\n",
    "          }\n",
    "\n",
    "_, eval_results = sexism_classification_pipeline_task3(SpTrainTask3, SpDevTask3, SpTestTask3, modelname, 6, \"multi_label_classification\", **params)"
   ]
  },
  {
   "cell_type": "markdown",
   "metadata": {},
   "source": [
    "## Save predictions"
   ]
  },
  {
   "cell_type": "code",
   "execution_count": 13,
   "metadata": {},
   "outputs": [
    {
     "name": "stdout",
     "output_type": "stream",
     "text": [
      "Predictions saved\n"
     ]
    }
   ],
   "source": [
    "if create_submision_file(\"ArPa Project\", 1, \"soft\", 1, 3, \".\", \"exist2025_ArPa Project\"):\n",
    "    print(\"Predictions saved\")"
   ]
  },
  {
   "cell_type": "markdown",
   "metadata": {},
   "source": [
    "## Training hard"
   ]
  },
  {
   "cell_type": "code",
   "execution_count": 14,
   "metadata": {},
   "outputs": [
    {
     "name": "stderr",
     "output_type": "stream",
     "text": [
      "Some weights of the model checkpoint at cardiffnlp/twitter-roberta-base-sentiment-latest were not used when initializing RobertaForSequenceClassification: ['roberta.pooler.dense.bias', 'roberta.pooler.dense.weight']\n",
      "- This IS expected if you are initializing RobertaForSequenceClassification from the checkpoint of a model trained on another task or with another architecture (e.g. initializing a BertForSequenceClassification model from a BertForPreTraining model).\n",
      "- This IS NOT expected if you are initializing RobertaForSequenceClassification from the checkpoint of a model that you expect to be exactly identical (initializing a BertForSequenceClassification model from a BertForSequenceClassification model).\n",
      "Some weights of RobertaForSequenceClassification were not initialized from the model checkpoint at cardiffnlp/twitter-roberta-base-sentiment-latest and are newly initialized because the shapes did not match:\n",
      "- classifier.out_proj.weight: found shape torch.Size([3, 768]) in the checkpoint and torch.Size([6, 768]) in the model instantiated\n",
      "- classifier.out_proj.bias: found shape torch.Size([3]) in the checkpoint and torch.Size([6]) in the model instantiated\n",
      "You should probably TRAIN this model on a down-stream task to be able to use it for predictions and inference.\n"
     ]
    },
    {
     "data": {
      "text/html": [
       "\n",
       "    <div>\n",
       "      \n",
       "      <progress value='405' max='900' style='width:300px; height:20px; vertical-align: middle;'></progress>\n",
       "      [405/900 07:27 < 09:09, 0.90 it/s, Epoch 9/20]\n",
       "    </div>\n",
       "    <table border=\"1\" class=\"dataframe\">\n",
       "  <thead>\n",
       " <tr style=\"text-align: left;\">\n",
       "      <th>Epoch</th>\n",
       "      <th>Training Loss</th>\n",
       "      <th>Validation Loss</th>\n",
       "      <th>Precision Macro</th>\n",
       "      <th>Recall Macro</th>\n",
       "      <th>F1 Macro</th>\n",
       "      <th>Icm</th>\n",
       "    </tr>\n",
       "  </thead>\n",
       "  <tbody>\n",
       "    <tr>\n",
       "      <td>1</td>\n",
       "      <td>0.571300</td>\n",
       "      <td>0.559917</td>\n",
       "      <td>0.669859</td>\n",
       "      <td>0.407405</td>\n",
       "      <td>0.452627</td>\n",
       "      <td>-0.773282</td>\n",
       "    </tr>\n",
       "    <tr>\n",
       "      <td>2</td>\n",
       "      <td>0.457800</td>\n",
       "      <td>0.489445</td>\n",
       "      <td>0.781494</td>\n",
       "      <td>0.629347</td>\n",
       "      <td>0.688051</td>\n",
       "      <td>0.124397</td>\n",
       "    </tr>\n",
       "    <tr>\n",
       "      <td>3</td>\n",
       "      <td>0.427900</td>\n",
       "      <td>0.469953</td>\n",
       "      <td>0.782978</td>\n",
       "      <td>0.649824</td>\n",
       "      <td>0.698540</td>\n",
       "      <td>0.219225</td>\n",
       "    </tr>\n",
       "    <tr>\n",
       "      <td>4</td>\n",
       "      <td>0.386600</td>\n",
       "      <td>0.505218</td>\n",
       "      <td>0.728144</td>\n",
       "      <td>0.717207</td>\n",
       "      <td>0.717901</td>\n",
       "      <td>0.409595</td>\n",
       "    </tr>\n",
       "    <tr>\n",
       "      <td>5</td>\n",
       "      <td>0.340100</td>\n",
       "      <td>0.537194</td>\n",
       "      <td>0.798108</td>\n",
       "      <td>0.576440</td>\n",
       "      <td>0.651294</td>\n",
       "      <td>0.005789</td>\n",
       "    </tr>\n",
       "    <tr>\n",
       "      <td>6</td>\n",
       "      <td>0.278200</td>\n",
       "      <td>0.534367</td>\n",
       "      <td>0.744586</td>\n",
       "      <td>0.681555</td>\n",
       "      <td>0.707955</td>\n",
       "      <td>0.307578</td>\n",
       "    </tr>\n",
       "    <tr>\n",
       "      <td>7</td>\n",
       "      <td>0.217300</td>\n",
       "      <td>0.608888</td>\n",
       "      <td>0.749917</td>\n",
       "      <td>0.669175</td>\n",
       "      <td>0.699692</td>\n",
       "      <td>0.278468</td>\n",
       "    </tr>\n",
       "    <tr>\n",
       "      <td>8</td>\n",
       "      <td>0.166800</td>\n",
       "      <td>0.689375</td>\n",
       "      <td>0.746136</td>\n",
       "      <td>0.645401</td>\n",
       "      <td>0.686145</td>\n",
       "      <td>0.169417</td>\n",
       "    </tr>\n",
       "    <tr>\n",
       "      <td>9</td>\n",
       "      <td>0.100500</td>\n",
       "      <td>0.739056</td>\n",
       "      <td>0.719247</td>\n",
       "      <td>0.707958</td>\n",
       "      <td>0.711660</td>\n",
       "      <td>0.346089</td>\n",
       "    </tr>\n",
       "  </tbody>\n",
       "</table><p>"
      ],
      "text/plain": [
       "<IPython.core.display.HTML object>"
      ]
     },
     "metadata": {},
     "output_type": "display_data"
    },
    {
     "name": "stdout",
     "output_type": "stream",
     "text": [
      "2025-05-10 00:04:47,333 - pyevall.evaluation - INFO -             evaluate() - Evaluating the following metrics ['ICM']\n",
      "2025-05-10 00:04:47,382 - pyevall.metrics.metrics - INFO -             evaluate() - Executing ICM evaluation method\n",
      "2025-05-10 00:06:00,752 - pyevall.evaluation - INFO -             evaluate() - Evaluating the following metrics ['ICM']\n",
      "2025-05-10 00:06:00,798 - pyevall.metrics.metrics - INFO -             evaluate() - Executing ICM evaluation method\n",
      "2025-05-10 00:06:51,604 - pyevall.evaluation - INFO -             evaluate() - Evaluating the following metrics ['ICM']\n",
      "2025-05-10 00:06:51,653 - pyevall.metrics.metrics - INFO -             evaluate() - Executing ICM evaluation method\n",
      "2025-05-10 00:07:40,857 - pyevall.evaluation - INFO -             evaluate() - Evaluating the following metrics ['ICM']\n",
      "2025-05-10 00:07:40,908 - pyevall.metrics.metrics - INFO -             evaluate() - Executing ICM evaluation method\n",
      "2025-05-10 00:08:46,179 - pyevall.evaluation - INFO -             evaluate() - Evaluating the following metrics ['ICM']\n",
      "2025-05-10 00:08:46,229 - pyevall.metrics.metrics - INFO -             evaluate() - Executing ICM evaluation method\n",
      "2025-05-10 00:09:25,695 - pyevall.evaluation - INFO -             evaluate() - Evaluating the following metrics ['ICM']\n",
      "2025-05-10 00:09:25,744 - pyevall.metrics.metrics - INFO -             evaluate() - Executing ICM evaluation method\n",
      "2025-05-10 00:10:04,804 - pyevall.evaluation - INFO -             evaluate() - Evaluating the following metrics ['ICM']\n",
      "2025-05-10 00:10:04,858 - pyevall.metrics.metrics - INFO -             evaluate() - Executing ICM evaluation method\n",
      "2025-05-10 00:10:43,888 - pyevall.evaluation - INFO -             evaluate() - Evaluating the following metrics ['ICM']\n",
      "2025-05-10 00:10:43,939 - pyevall.metrics.metrics - INFO -             evaluate() - Executing ICM evaluation method\n",
      "2025-05-10 00:11:23,293 - pyevall.evaluation - INFO -             evaluate() - Evaluating the following metrics ['ICM']\n",
      "2025-05-10 00:11:23,349 - pyevall.metrics.metrics - INFO -             evaluate() - Executing ICM evaluation method\n"
     ]
    },
    {
     "data": {
      "text/html": [],
      "text/plain": [
       "<IPython.core.display.HTML object>"
      ]
     },
     "metadata": {},
     "output_type": "display_data"
    },
    {
     "name": "stdout",
     "output_type": "stream",
     "text": [
      "2025-05-10 00:11:27,296 - pyevall.evaluation - INFO -             evaluate() - Evaluating the following metrics ['ICM']\n",
      "2025-05-10 00:11:27,350 - pyevall.metrics.metrics - INFO -             evaluate() - Executing ICM evaluation method\n",
      "Validation Results: {'eval_loss': 0.5052183866500854, 'eval_precision_macro': 0.7281436980176216, 'eval_recall_macro': 0.717206588223127, 'eval_f1_macro': 0.7179007347106438, 'eval_ICM': 0.40959543379657914, 'eval_runtime': 2.0318, 'eval_samples_per_second': 218.529, 'eval_steps_per_second': 3.445, 'epoch': 9.0}\n",
      "2025-05-10 00:11:31,523 - pyevall.evaluation - INFO -             evaluate() - Evaluating the following metrics ['ICM']\n",
      "2025-05-10 00:11:31,623 - pyevall.metrics.metrics - INFO -             evaluate() - Executing ICM evaluation method\n",
      "Prediction TASK3 completed. Results saved to sexism_predictions_task3_hard_english.csv\n"
     ]
    }
   ],
   "source": [
    "modelname = \"cardiffnlp/twitter-roberta-base-sentiment-latest\"\n",
    "params = {\"num_train_epochs\": 20,\n",
    "          \"learning_rate\": 0.0001,\n",
    "          \"per_device_train_batch_size\": 64,\n",
    "          \"warmup_steps\": 200,\n",
    "          \"early_stopping_patience\": 5,\n",
    "          \"ignore_mismatched_sizes\": True,\n",
    "          \"output_dir\": None,\n",
    "          \"logging_dir\": None,\n",
    "          \"language\": \"english\"\n",
    "          }\n",
    "\n",
    "_, eval_results = sexism_classification_pipeline_task3(EnTrainTask3, EnDevTask3, EnTestTask3, modelname, 6, \"multi_label_classification\", **params)"
   ]
  },
  {
   "cell_type": "code",
   "execution_count": 15,
   "metadata": {},
   "outputs": [
    {
     "name": "stderr",
     "output_type": "stream",
     "text": [
      "Some weights of RobertaForSequenceClassification were not initialized from the model checkpoint at pysentimiento/robertuito-sentiment-analysis and are newly initialized because the shapes did not match:\n",
      "- classifier.out_proj.bias: found shape torch.Size([3]) in the checkpoint and torch.Size([6]) in the model instantiated\n",
      "- classifier.out_proj.weight: found shape torch.Size([3, 768]) in the checkpoint and torch.Size([6, 768]) in the model instantiated\n",
      "You should probably TRAIN this model on a down-stream task to be able to use it for predictions and inference.\n"
     ]
    },
    {
     "data": {
      "text/html": [
       "\n",
       "    <div>\n",
       "      \n",
       "      <progress value='400' max='1000' style='width:300px; height:20px; vertical-align: middle;'></progress>\n",
       "      [ 400/1000 05:42 < 08:35, 1.16 it/s, Epoch 8/20]\n",
       "    </div>\n",
       "    <table border=\"1\" class=\"dataframe\">\n",
       "  <thead>\n",
       " <tr style=\"text-align: left;\">\n",
       "      <th>Epoch</th>\n",
       "      <th>Training Loss</th>\n",
       "      <th>Validation Loss</th>\n",
       "      <th>Precision Macro</th>\n",
       "      <th>Recall Macro</th>\n",
       "      <th>F1 Macro</th>\n",
       "      <th>Icm</th>\n",
       "    </tr>\n",
       "  </thead>\n",
       "  <tbody>\n",
       "    <tr>\n",
       "      <td>1</td>\n",
       "      <td>0.604000</td>\n",
       "      <td>0.621179</td>\n",
       "      <td>0.523882</td>\n",
       "      <td>0.544858</td>\n",
       "      <td>0.520824</td>\n",
       "      <td>-0.524025</td>\n",
       "    </tr>\n",
       "    <tr>\n",
       "      <td>2</td>\n",
       "      <td>0.494200</td>\n",
       "      <td>0.507047</td>\n",
       "      <td>0.736045</td>\n",
       "      <td>0.700768</td>\n",
       "      <td>0.702654</td>\n",
       "      <td>0.340384</td>\n",
       "    </tr>\n",
       "    <tr>\n",
       "      <td>3</td>\n",
       "      <td>0.427200</td>\n",
       "      <td>0.498308</td>\n",
       "      <td>0.767377</td>\n",
       "      <td>0.702198</td>\n",
       "      <td>0.726492</td>\n",
       "      <td>0.450395</td>\n",
       "    </tr>\n",
       "    <tr>\n",
       "      <td>4</td>\n",
       "      <td>0.382100</td>\n",
       "      <td>0.559075</td>\n",
       "      <td>0.795216</td>\n",
       "      <td>0.616159</td>\n",
       "      <td>0.681696</td>\n",
       "      <td>0.164394</td>\n",
       "    </tr>\n",
       "    <tr>\n",
       "      <td>5</td>\n",
       "      <td>0.286700</td>\n",
       "      <td>0.551465</td>\n",
       "      <td>0.753663</td>\n",
       "      <td>0.685578</td>\n",
       "      <td>0.708494</td>\n",
       "      <td>0.371566</td>\n",
       "    </tr>\n",
       "    <tr>\n",
       "      <td>6</td>\n",
       "      <td>0.207100</td>\n",
       "      <td>0.617885</td>\n",
       "      <td>0.717606</td>\n",
       "      <td>0.717510</td>\n",
       "      <td>0.710640</td>\n",
       "      <td>0.394103</td>\n",
       "    </tr>\n",
       "    <tr>\n",
       "      <td>7</td>\n",
       "      <td>0.308700</td>\n",
       "      <td>0.669998</td>\n",
       "      <td>0.701321</td>\n",
       "      <td>0.585415</td>\n",
       "      <td>0.613496</td>\n",
       "      <td>-0.138501</td>\n",
       "    </tr>\n",
       "    <tr>\n",
       "      <td>8</td>\n",
       "      <td>0.261900</td>\n",
       "      <td>0.675793</td>\n",
       "      <td>0.695230</td>\n",
       "      <td>0.678464</td>\n",
       "      <td>0.682534</td>\n",
       "      <td>0.202272</td>\n",
       "    </tr>\n",
       "  </tbody>\n",
       "</table><p>"
      ],
      "text/plain": [
       "<IPython.core.display.HTML object>"
      ]
     },
     "metadata": {},
     "output_type": "display_data"
    },
    {
     "name": "stdout",
     "output_type": "stream",
     "text": [
      "2025-05-10 00:12:24,586 - pyevall.evaluation - INFO -             evaluate() - Evaluating the following metrics ['ICM']\n",
      "2025-05-10 00:12:24,643 - pyevall.metrics.metrics - INFO -             evaluate() - Executing ICM evaluation method\n",
      "2025-05-10 00:13:07,414 - pyevall.evaluation - INFO -             evaluate() - Evaluating the following metrics ['ICM']\n",
      "2025-05-10 00:13:07,469 - pyevall.metrics.metrics - INFO -             evaluate() - Executing ICM evaluation method\n",
      "2025-05-10 00:13:50,171 - pyevall.evaluation - INFO -             evaluate() - Evaluating the following metrics ['ICM']\n",
      "2025-05-10 00:13:50,229 - pyevall.metrics.metrics - INFO -             evaluate() - Executing ICM evaluation method\n",
      "2025-05-10 00:14:33,007 - pyevall.evaluation - INFO -             evaluate() - Evaluating the following metrics ['ICM']\n",
      "2025-05-10 00:14:33,063 - pyevall.metrics.metrics - INFO -             evaluate() - Executing ICM evaluation method\n",
      "2025-05-10 00:15:15,619 - pyevall.evaluation - INFO -             evaluate() - Evaluating the following metrics ['ICM']\n",
      "2025-05-10 00:15:15,674 - pyevall.metrics.metrics - INFO -             evaluate() - Executing ICM evaluation method\n",
      "2025-05-10 00:15:58,622 - pyevall.evaluation - INFO -             evaluate() - Evaluating the following metrics ['ICM']\n",
      "2025-05-10 00:15:58,677 - pyevall.metrics.metrics - INFO -             evaluate() - Executing ICM evaluation method\n",
      "2025-05-10 00:16:41,724 - pyevall.evaluation - INFO -             evaluate() - Evaluating the following metrics ['ICM']\n",
      "2025-05-10 00:16:41,787 - pyevall.metrics.metrics - INFO -             evaluate() - Executing ICM evaluation method\n",
      "2025-05-10 00:17:24,486 - pyevall.evaluation - INFO -             evaluate() - Evaluating the following metrics ['ICM']\n",
      "2025-05-10 00:17:24,541 - pyevall.metrics.metrics - INFO -             evaluate() - Executing ICM evaluation method\n"
     ]
    },
    {
     "data": {
      "text/html": [],
      "text/plain": [
       "<IPython.core.display.HTML object>"
      ]
     },
     "metadata": {},
     "output_type": "display_data"
    },
    {
     "name": "stdout",
     "output_type": "stream",
     "text": [
      "2025-05-10 00:17:28,322 - pyevall.evaluation - INFO -             evaluate() - Evaluating the following metrics ['ICM']\n",
      "2025-05-10 00:17:28,380 - pyevall.metrics.metrics - INFO -             evaluate() - Executing ICM evaluation method\n",
      "Validation Results: {'eval_loss': 0.4983080327510834, 'eval_precision_macro': 0.7673767823121352, 'eval_recall_macro': 0.7021982960528194, 'eval_f1_macro': 0.7264922212725571, 'eval_ICM': 0.4503951318139372, 'eval_runtime': 2.1987, 'eval_samples_per_second': 222.861, 'eval_steps_per_second': 3.639, 'epoch': 8.0}\n",
      "2025-05-10 00:17:32,963 - pyevall.evaluation - INFO -             evaluate() - Evaluating the following metrics ['ICM']\n",
      "2025-05-10 00:17:33,071 - pyevall.metrics.metrics - INFO -             evaluate() - Executing ICM evaluation method\n",
      "Prediction TASK3 completed. Results saved to sexism_predictions_task3_hard_spanish.csv\n"
     ]
    }
   ],
   "source": [
    "modelname = \"pysentimiento/robertuito-sentiment-analysis\"\n",
    "params = {\"num_train_epochs\": 20,\n",
    "          \"learning_rate\": 0.0001,\n",
    "          \"per_device_train_batch_size\": 64,\n",
    "          \"warmup_steps\": 200,\n",
    "          \"early_stopping_patience\": 5, \n",
    "          \"output_dir\": None,\n",
    "          \"logging_dir\": None,\n",
    "          \"ignore_mismatched_sizes\": True,\n",
    "          \"language\": \"spanish\"\n",
    "          }\n",
    "\n",
    "_, eval_results = sexism_classification_pipeline_task3(SpTrainTask3, SpDevTask3, SpTestTask3, modelname, 6, \"multi_label_classification\", **params)"
   ]
  },
  {
   "cell_type": "markdown",
   "metadata": {},
   "source": [
    "## Save predictions"
   ]
  },
  {
   "cell_type": "code",
   "execution_count": 16,
   "metadata": {},
   "outputs": [
    {
     "name": "stdout",
     "output_type": "stream",
     "text": [
      "Predictions saved\n"
     ]
    }
   ],
   "source": [
    "if create_submision_file(\"ArPa Project\", 1, \"hard\", 1, 3, \".\", \"exist2025_ArPa Project\"):\n",
    "    print(\"Predictions saved\")"
   ]
  }
 ],
 "metadata": {
  "kernelspec": {
   "display_name": "transformers",
   "language": "python",
   "name": "python3"
  },
  "language_info": {
   "codemirror_mode": {
    "name": "ipython",
    "version": 3
   },
   "file_extension": ".py",
   "mimetype": "text/x-python",
   "name": "python",
   "nbconvert_exporter": "python",
   "pygments_lexer": "ipython3",
   "version": "3.12.9"
  }
 },
 "nbformat": 4,
 "nbformat_minor": 2
}
