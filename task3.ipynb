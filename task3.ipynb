{
 "cells": [
  {
   "cell_type": "markdown",
   "metadata": {},
   "source": [
    "<h1 align=\"center\">Exists2025:  Sexism Identification in Twitter</h1>\n",
    "<h2 align=\"center\">Task 1. Fine-tuning for binary classification\n",
    "<h3 style=\"display:block; margin-top:5px;\" align=\"center\">ETSInf. Universitat Politècnica de València</h3>\n",
    "<br>"
   ]
  },
  {
   "cell_type": "markdown",
   "metadata": {},
   "source": [
    "## Libraries"
   ]
  },
  {
   "cell_type": "code",
   "execution_count": 1,
   "metadata": {},
   "outputs": [],
   "source": [
    "import numpy as np\n",
    "import torch\n",
    "from torch.utils.data import Dataset, DataLoader\n",
    "from transformers import  AutoTokenizer, AutoModelForSequenceClassification,  Trainer, TrainingArguments,  EarlyStoppingCallback\n",
    "from sklearn.metrics import accuracy_score, precision_recall_fscore_support\n",
    "from sklearn.preprocessing import MultiLabelBinarizer\n",
    "from sklearn.model_selection import train_test_split\n",
    "import random\n",
    "import os\n",
    "import pandas as pd\n",
    "import json\n",
    "import sys\n",
    "import tempfile\n",
    "import time\n",
    "import re\n",
    "import emoji\n",
    "\n",
    "#Importing the required modules to use the ICM measure\n",
    "from pyevall.evaluation import PyEvALLEvaluation\n",
    "from pyevall.metrics.metricfactory import MetricFactory\n",
    "from pyevall.reports.reports import PyEvALLReport\n",
    "from pyevall.utils.utils import PyEvALLUtils\n",
    "from functools import partial\n",
    "\n",
    "from readerEXIST2025 import EXISTReader\n",
    "from create_submision_folder import create_submision_file"
   ]
  },
  {
   "cell_type": "markdown",
   "metadata": {},
   "source": [
    "## Read data"
   ]
  },
  {
   "cell_type": "code",
   "execution_count": 2,
   "metadata": {},
   "outputs": [],
   "source": [
    "url = r\"\\bhttps?://[\\w.-]+(?:\\.[a-zA-Z]{2,})?(?:/\\S*/?)?\"\n",
    "\n",
    "emojis = sorted(emoji.EMOJI_DATA, key=len, reverse=True)\n",
    "pattern_emoji = \"(\" + \"|\".join(re.escape(u) for u in emojis) + \")\"\n",
    "\n",
    "pattern_all = r\"|\".join(\n",
    "    [\n",
    "        url,\n",
    "        pattern_emoji,\n",
    "    ]\n",
    ")\n",
    "\n",
    "re_all = re.compile(pattern_all, re.U)"
   ]
  },
  {
   "cell_type": "code",
   "execution_count": 3,
   "metadata": {},
   "outputs": [],
   "source": [
    "file_train = \"data/EXIST 2025 Tweets Dataset/training/EXIST2025_training.json\"\n",
    "file_dev = \"data/EXIST 2025 Tweets Dataset/dev/EXIST2025_dev.json\"\n",
    "file_test = \"data/EXIST 2025 Tweets Dataset/test/EXIST2025_test_clean.json\"\n",
    "\n",
    "reader_train = EXISTReader(file_train)\n",
    "reader_dev = EXISTReader(file_dev)\n",
    "reader_test = EXISTReader(file_test, is_test=True)\n",
    "\n",
    "EnTrainTask3, EnDevTask3, EnTestTask3 = reader_train.get(lang=\"EN\", subtask=\"3\", regular_exp=re_all, preprocess=True), reader_dev.get(lang=\"EN\", subtask=\"3\", regular_exp=re_all, preprocess=True), reader_test.get(lang=\"EN\", subtask=\"3\", regular_exp=re_all, preprocess=True)\n",
    "SpTrainTask3, SpDevTask3, SpTestTask3 = reader_train.get(lang=\"ES\", subtask=\"3\", regular_exp=re_all, preprocess=True), reader_dev.get(lang=\"ES\", subtask=\"3\", regular_exp=re_all, preprocess=True), reader_test.get(lang=\"ES\", subtask=\"3\", regular_exp=re_all, preprocess=True)"
   ]
  },
  {
   "cell_type": "code",
   "execution_count": 4,
   "metadata": {},
   "outputs": [
    {
     "data": {
      "text/plain": [
       "1    [NO, MISOGYNY-NON-SEXUAL-VIOLENCE, OBJECTIFICA...\n",
       "2    [NO, MISOGYNY-NON-SEXUAL-VIOLENCE, OBJECTIFICA...\n",
       "5    [IDEOLOGICAL-INEQUALITY, MISOGYNY-NON-SEXUAL-V...\n",
       "6            [OBJECTIFICATION, STEREOTYPING-DOMINANCE]\n",
       "7                         [NO, IDEOLOGICAL-INEQUALITY]\n",
       "Name: label3, dtype: object"
      ]
     },
     "execution_count": 4,
     "metadata": {},
     "output_type": "execute_result"
    }
   ],
   "source": [
    "EnTrainTask3[2].head()"
   ]
  },
  {
   "cell_type": "markdown",
   "metadata": {},
   "source": [
    "Ahora son 6 labels, incluyendo al NO."
   ]
  },
  {
   "cell_type": "markdown",
   "metadata": {},
   "source": [
    "## ICM Wrapper"
   ]
  },
  {
   "cell_type": "code",
   "execution_count": 5,
   "metadata": {},
   "outputs": [],
   "source": [
    "def ICMWrapper(pred, labels, multi=False,ids=None):\n",
    "    test = PyEvALLEvaluation()\n",
    "    metrics=[MetricFactory.ICM.value]\n",
    "    params= dict()\n",
    "    fillLabel=None\n",
    "    if multi:\n",
    "        params[PyEvALLUtils.PARAM_REPORT]=\"embedded\"\n",
    "        hierarchy={\"True\":['IDEOLOGICAL-INEQUALITY', 'STEREOTYPING-DOMINANCE', 'MISOGYNY-NON-SEXUAL-VIOLENCE', 'OBJECTIFICATION', 'SEXUAL-VIOLENCE'],\n",
    "        \"False\":[]}\n",
    "        params[PyEvALLUtils.PARAM_HIERARCHY]=hierarchy\n",
    "        fillLabel = lambda x: [\"False\"] if len(x)== 0 else x\n",
    "    else:\n",
    "        params[PyEvALLUtils.PARAM_REPORT]=\"simple\"\n",
    "        fillLabel = lambda x: str(x)\n",
    "\n",
    "\n",
    "    truth_name, predict_name=None, None\n",
    "    if ids is None:\n",
    "        ids=list(range(len(labels)))\n",
    "\n",
    "    with tempfile.NamedTemporaryFile(mode='w', delete=False, encoding='utf-8') as truth:\n",
    "        truth_name=truth.name\n",
    "        truth_df=pd.DataFrame({'test_case': ['EXIST2025']*len(labels),\n",
    "                        'id': [str(x) for x in ids],\n",
    "                        'value': [fillLabel(x) for x in labels]})\n",
    "        if multi==True:\n",
    "            truth_df=truth_df.astype('object')\n",
    "        truth.write(truth_df.to_json(orient=\"records\"))\n",
    "\n",
    "    with  tempfile.NamedTemporaryFile(mode='w', delete=False) as predict:\n",
    "        predict_name=predict.name\n",
    "        predict_df=pd.DataFrame({'test_case': ['EXIST2025']*len(pred),\n",
    "                        'id': [str(x) for x in ids],\n",
    "                        'value': [fillLabel(x) for x in pred]})\n",
    "        if multi==True:\n",
    "            predict_df=predict_df.astype('object')\n",
    "        predict.write(predict_df.to_json(orient=\"records\"))\n",
    "\n",
    "    report = test.evaluate(predict_name, truth_name, metrics, **params)\n",
    "    os.unlink(truth_name)\n",
    "    os.unlink(predict_name)\n",
    "\n",
    "    icm = None\n",
    "    if 'metrics' in report.report:\n",
    "        if 'ICM' in report.report[\"metrics\"]: icm=float(report.report[\"metrics\"]['ICM'][\"results\"][\"average_per_test_case\"])\n",
    "    return icm"
   ]
  },
  {
   "cell_type": "markdown",
   "metadata": {},
   "source": [
    "## Set seed"
   ]
  },
  {
   "cell_type": "code",
   "execution_count": 6,
   "metadata": {},
   "outputs": [],
   "source": [
    "def set_seed(seed=1234):\n",
    "    \"\"\"\n",
    "    Sets the seed to make everything deterministic, for reproducibility of experiments\n",
    "    Parameters:\n",
    "    seed: the number to set the seed to\n",
    "    Return: None\n",
    "    \"\"\"\n",
    "    # Random seed\n",
    "    random.seed(seed)\n",
    "    # Numpy seed\n",
    "    np.random.seed(seed)\n",
    "    # Torch seed\n",
    "    torch.manual_seed(seed)\n",
    "    torch.cuda.manual_seed(seed)\n",
    "    torch.backends.cudnn.deterministic = True\n",
    "    torch.backends.cudnn.benchmark = True\n",
    "    # os seed\n",
    "    os.environ['PYTHONHASHSEED'] = str(seed)"
   ]
  },
  {
   "cell_type": "markdown",
   "metadata": {},
   "source": [
    "## Dataset class"
   ]
  },
  {
   "cell_type": "code",
   "execution_count": 7,
   "metadata": {},
   "outputs": [],
   "source": [
    "class SexismDatasetMulti(Dataset):\n",
    "    def __init__(self, texts, labels, ids, tokenizer, max_len=128, pad=\"max_length\", trunc=True,rt='pt'):\n",
    "        self.texts = texts.tolist()\n",
    "        self.labels = labels\n",
    "        self.ids = ids\n",
    "        self.tokenizer = tokenizer\n",
    "        self.max_len = max_len\n",
    "        self.pad = pad\n",
    "        self.trunc = trunc\n",
    "        self.rt = rt\n",
    "\n",
    "\n",
    "    def __len__(self):\n",
    "        return len(self.texts)\n",
    "\n",
    "    def __getitem__(self, idx):\n",
    "        text = str(self.texts[idx])\n",
    "        inputs = self.tokenizer.encode_plus(\n",
    "            text,\n",
    "            add_special_tokens=True,\n",
    "            max_length=self.max_len,padding=self.pad, truncation=self.trunc,\n",
    "            return_tensors=self.rt\n",
    "        )\n",
    "\n",
    "        return {\n",
    "            'input_ids': inputs['input_ids'].flatten(),\n",
    "            'attention_mask': inputs['attention_mask'].flatten(),\n",
    "            'labels': torch.tensor(self.labels[idx], dtype=torch.float),\n",
    "            'id': torch.tensor(self.ids[idx], dtype=torch.long)}"
   ]
  },
  {
   "cell_type": "markdown",
   "metadata": {},
   "source": [
    "## Metrics"
   ]
  },
  {
   "cell_type": "code",
   "execution_count": 8,
   "metadata": {},
   "outputs": [],
   "source": [
    "def compute_metrics_3(pred, lencoder):\n",
    "    labels = pred.label_ids\n",
    "    #preds = pred.predictions.argmax(-1)\n",
    "    preds = torch.sigmoid(torch.tensor(pred.predictions)).numpy()\n",
    "    preds_binary = (preds >= 0.5).astype(int)\n",
    "    precision, recall, f1, _ = precision_recall_fscore_support(\n",
    "        labels, preds_binary, average=None, zero_division=0\n",
    "    )\n",
    "    acc = accuracy_score(labels, preds_binary)\n",
    "    icm= ICMWrapper(lencoder.inverse_transform(preds_binary), lencoder.inverse_transform(labels), multi=True)\n",
    "    # Macro averages\n",
    "    precision_macro = np.mean(precision)\n",
    "    recall_macro = np.mean(recall)\n",
    "    f1_macro = np.mean(f1)\n",
    "    metrics = {}\n",
    "    metrics.update({\n",
    "        'precision_macro': precision_macro,\n",
    "        'recall_macro': recall_macro,\n",
    "        'f1_macro': f1_macro,\n",
    "        'ICM': icm\n",
    "    })\n",
    "    return metrics"
   ]
  },
  {
   "cell_type": "markdown",
   "metadata": {},
   "source": [
    "## Pipeline"
   ]
  },
  {
   "cell_type": "code",
   "execution_count": 9,
   "metadata": {},
   "outputs": [],
   "source": [
    "def sexism_classification_pipeline_task3(trainInfo, devInfo, testInfo=None, model_name='roberta-base', nlabels=5, ptype=\"multi_label_classification\", **args):\n",
    "    # Model and Tokenizer\n",
    "    labelEnc= MultiLabelBinarizer()\n",
    "    tokenizer = AutoTokenizer.from_pretrained(model_name)\n",
    "    model = AutoModelForSequenceClassification.from_pretrained(\n",
    "        model_name,\n",
    "        num_labels=nlabels,\n",
    "        problem_type=ptype, \n",
    "        ignore_mismatched_sizes=args.get(\"ignore_mismatched_sizes\", False)\n",
    "        )\n",
    "\n",
    "    # Prepare datasets\n",
    "    train_dataset = SexismDatasetMulti(trainInfo[1], labelEnc.fit_transform(trainInfo[2]),[int(x) for x in trainInfo[0]], tokenizer )\n",
    "    val_dataset = SexismDatasetMulti(devInfo[1], labelEnc.transform(devInfo[2]), [int(x) for x in devInfo[0]], tokenizer)\n",
    "\n",
    "    # Training Arguments\n",
    "    training_args = TrainingArguments(\n",
    "        report_to=\"none\", # alt: \"wandb\", \"tensorboard\" \"comet_ml\" \"mlflow\" \"clearml\"\n",
    "        output_dir= args.get('output_dir', './results'),\n",
    "        num_train_epochs= args.get('num_train_epochs', 5),\n",
    "        learning_rate=args.get('learning_rate', 5e-5),\n",
    "        per_device_train_batch_size=args.get('per_device_train_batch_size', 16),\n",
    "        per_device_eval_batch_size=args.get('per_device_eval_batch_size', 64),\n",
    "        #warmup_steps=args.get('warmup_steps', 500),\n",
    "        warmup_ratio=args.get(\"warmup_ratio\", 0.1),\n",
    "        weight_decay=args.get('weight_decay',0.01),\n",
    "        lr_scheduler_type=args.get(\"scheduler_type\", \"linear\"),\n",
    "        logging_dir=args.get('logging_dir', './logs'),\n",
    "        logging_steps=args.get('logging_steps', 10),\n",
    "        eval_strategy=args.get('eval_strategy','epoch'),\n",
    "        save_strategy=args.get('save_strategy', \"epoch\"),\n",
    "        save_total_limit=args.get('save_total_limit', 1),\n",
    "        load_best_model_at_end=args.get('load_best_model_at_end', True),\n",
    "        metric_for_best_model=args.get('metric_for_best_model',\"ICM\")\n",
    "    )\n",
    "\n",
    "    # Initialize Trainer\n",
    "    trainer = Trainer(\n",
    "        model=model,\n",
    "        args=training_args,\n",
    "        train_dataset=train_dataset,\n",
    "        eval_dataset=val_dataset,\n",
    "        #compute_metrics=compute_metrics_3,\n",
    "        compute_metrics = partial(compute_metrics_3, lencoder=labelEnc),\n",
    "        callbacks=[EarlyStoppingCallback(early_stopping_patience=args.get(\"early_stopping_patience\",3))]\n",
    "    )\n",
    "\n",
    "    # Fine-tune the model\n",
    "    trainer.train()\n",
    "\n",
    "    # Evaluate on validation set\n",
    "    eval_results = trainer.evaluate()\n",
    "    print(\"Validation Results:\", eval_results)\n",
    "\n",
    "    if testInfo is not None:\n",
    "        # Prepare test dataset for prediction\n",
    "        test_dataset = SexismDatasetMulti(testInfo[1], [[0]*nlabels] * len(testInfo[1]),  [int(x) for x in testInfo[0]],   tokenizer)\n",
    "        output_type = args.get(\"output_type\", \"hard\")\n",
    "        # Predict test set labels\n",
    "        predictions = trainer.predict(test_dataset)\n",
    "        #predicted_labels = np.argmax(predictions.predictions, axis=1)\n",
    "        probabilities = torch.sigmoid(torch.tensor(predictions.predictions)).numpy()\n",
    "\n",
    "        if output_type == \"hard\":\n",
    "            predicted_labels = (probabilities >= 0.5).astype(int)\n",
    "            # Create submission DataFrame\n",
    "            labels = labelEnc.inverse_transform(predicted_labels)\n",
    "            list_labels = []\n",
    "            for t in labels:\n",
    "                aux = []\n",
    "                for e in t:\n",
    "                    aux.append(e)\n",
    "                list_labels.append(aux)\n",
    "\n",
    "            submission_df = pd.DataFrame({\n",
    "                'id': testInfo[0],\n",
    "                'label': list_labels,\n",
    "                \"test_case\": [\"EXIST2025\"]*len(predicted_labels)\n",
    "            })\n",
    "\n",
    "        elif output_type == \"soft\":\n",
    "            submission_data = {\n",
    "                'id': testInfo[0],\n",
    "                \"test_case\": [\"EXIST2025\"] * len(probabilities)\n",
    "            }\n",
    "            list_probabilities = []\n",
    "            for i in range(probabilities.shape[0]):\n",
    "                value = {}\n",
    "                for j in range(probabilities.shape[1]):\n",
    "                    c = labelEnc.classes_[j]\n",
    "                    value[c] = probabilities[i,j].item()\n",
    "                list_probabilities.append(value)\n",
    "\n",
    "            submission_data[\"value\"] = list_probabilities\n",
    "            submission_df = pd.DataFrame(submission_data)\n",
    "\n",
    "        language = args.get(\"language\", \"english\")\n",
    "        submission_df.to_csv(f'sexism_predictions_task3_{output_type}_{language}.csv', index=False)\n",
    "        print(f\"Prediction TASK3 completed. Results saved to sexism_predictions_task3_{output_type}_{language}.csv\")\n",
    "    return model, eval_results"
   ]
  },
  {
   "cell_type": "markdown",
   "metadata": {},
   "source": [
    "## Run id"
   ]
  },
  {
   "cell_type": "markdown",
   "metadata": {},
   "source": [
    "Before training, we specify the `run_id` for the predictions."
   ]
  },
  {
   "cell_type": "code",
   "execution_count": 10,
   "metadata": {},
   "outputs": [],
   "source": [
    "run_id = 2"
   ]
  },
  {
   "cell_type": "markdown",
   "metadata": {},
   "source": [
    "## Training soft"
   ]
  },
  {
   "cell_type": "code",
   "execution_count": 11,
   "metadata": {},
   "outputs": [
    {
     "name": "stderr",
     "output_type": "stream",
     "text": [
      "Some weights of the model checkpoint at cardiffnlp/twitter-roberta-base-sentiment-latest were not used when initializing RobertaForSequenceClassification: ['roberta.pooler.dense.bias', 'roberta.pooler.dense.weight']\n",
      "- This IS expected if you are initializing RobertaForSequenceClassification from the checkpoint of a model trained on another task or with another architecture (e.g. initializing a BertForSequenceClassification model from a BertForPreTraining model).\n",
      "- This IS NOT expected if you are initializing RobertaForSequenceClassification from the checkpoint of a model that you expect to be exactly identical (initializing a BertForSequenceClassification model from a BertForSequenceClassification model).\n",
      "Some weights of RobertaForSequenceClassification were not initialized from the model checkpoint at cardiffnlp/twitter-roberta-base-sentiment-latest and are newly initialized because the shapes did not match:\n",
      "- classifier.out_proj.weight: found shape torch.Size([3, 768]) in the checkpoint and torch.Size([6, 768]) in the model instantiated\n",
      "- classifier.out_proj.bias: found shape torch.Size([3]) in the checkpoint and torch.Size([6]) in the model instantiated\n",
      "You should probably TRAIN this model on a down-stream task to be able to use it for predictions and inference.\n"
     ]
    },
    {
     "data": {
      "text/html": [
       "\n",
       "    <div>\n",
       "      \n",
       "      <progress value='360' max='450' style='width:300px; height:20px; vertical-align: middle;'></progress>\n",
       "      [360/450 05:50 < 01:28, 1.02 it/s, Epoch 8/10]\n",
       "    </div>\n",
       "    <table border=\"1\" class=\"dataframe\">\n",
       "  <thead>\n",
       " <tr style=\"text-align: left;\">\n",
       "      <th>Epoch</th>\n",
       "      <th>Training Loss</th>\n",
       "      <th>Validation Loss</th>\n",
       "      <th>Precision Macro</th>\n",
       "      <th>Recall Macro</th>\n",
       "      <th>F1 Macro</th>\n",
       "      <th>Icm</th>\n",
       "    </tr>\n",
       "  </thead>\n",
       "  <tbody>\n",
       "    <tr>\n",
       "      <td>1</td>\n",
       "      <td>0.573900</td>\n",
       "      <td>0.572035</td>\n",
       "      <td>0.667387</td>\n",
       "      <td>0.351052</td>\n",
       "      <td>0.376693</td>\n",
       "      <td>-1.008049</td>\n",
       "    </tr>\n",
       "    <tr>\n",
       "      <td>2</td>\n",
       "      <td>0.461800</td>\n",
       "      <td>0.494329</td>\n",
       "      <td>0.777685</td>\n",
       "      <td>0.618686</td>\n",
       "      <td>0.673775</td>\n",
       "      <td>0.067513</td>\n",
       "    </tr>\n",
       "    <tr>\n",
       "      <td>3</td>\n",
       "      <td>0.433000</td>\n",
       "      <td>0.456778</td>\n",
       "      <td>0.746886</td>\n",
       "      <td>0.747636</td>\n",
       "      <td>0.744956</td>\n",
       "      <td>0.513005</td>\n",
       "    </tr>\n",
       "    <tr>\n",
       "      <td>4</td>\n",
       "      <td>0.394100</td>\n",
       "      <td>0.462576</td>\n",
       "      <td>0.756587</td>\n",
       "      <td>0.711031</td>\n",
       "      <td>0.728768</td>\n",
       "      <td>0.427713</td>\n",
       "    </tr>\n",
       "    <tr>\n",
       "      <td>5</td>\n",
       "      <td>0.359900</td>\n",
       "      <td>0.470450</td>\n",
       "      <td>0.767999</td>\n",
       "      <td>0.703308</td>\n",
       "      <td>0.729753</td>\n",
       "      <td>0.426182</td>\n",
       "    </tr>\n",
       "    <tr>\n",
       "      <td>6</td>\n",
       "      <td>0.329500</td>\n",
       "      <td>0.474489</td>\n",
       "      <td>0.778822</td>\n",
       "      <td>0.683186</td>\n",
       "      <td>0.722876</td>\n",
       "      <td>0.369609</td>\n",
       "    </tr>\n",
       "    <tr>\n",
       "      <td>7</td>\n",
       "      <td>0.305100</td>\n",
       "      <td>0.488992</td>\n",
       "      <td>0.775907</td>\n",
       "      <td>0.681600</td>\n",
       "      <td>0.720589</td>\n",
       "      <td>0.368706</td>\n",
       "    </tr>\n",
       "    <tr>\n",
       "      <td>8</td>\n",
       "      <td>0.278700</td>\n",
       "      <td>0.487535</td>\n",
       "      <td>0.769687</td>\n",
       "      <td>0.704979</td>\n",
       "      <td>0.732205</td>\n",
       "      <td>0.458821</td>\n",
       "    </tr>\n",
       "  </tbody>\n",
       "</table><p>"
      ],
      "text/plain": [
       "<IPython.core.display.HTML object>"
      ]
     },
     "metadata": {},
     "output_type": "display_data"
    },
    {
     "name": "stdout",
     "output_type": "stream",
     "text": [
      "2025-05-18 01:27:20,804 - pyevall.evaluation - INFO -             evaluate() - Evaluating the following metrics ['ICM']\n",
      "2025-05-18 01:27:20,855 - pyevall.metrics.metrics - INFO -             evaluate() - Executing ICM evaluation method\n",
      "cargado 29\n",
      "2025-05-18 01:28:04,054 - pyevall.evaluation - INFO -             evaluate() - Evaluating the following metrics ['ICM']\n",
      "2025-05-18 01:28:04,104 - pyevall.metrics.metrics - INFO -             evaluate() - Executing ICM evaluation method\n",
      "2025-05-18 01:28:48,013 - pyevall.evaluation - INFO -             evaluate() - Evaluating the following metrics ['ICM']\n",
      "2025-05-18 01:28:48,064 - pyevall.metrics.metrics - INFO -             evaluate() - Executing ICM evaluation method\n",
      "2025-05-18 01:29:31,697 - pyevall.evaluation - INFO -             evaluate() - Evaluating the following metrics ['ICM']\n",
      "2025-05-18 01:29:31,746 - pyevall.metrics.metrics - INFO -             evaluate() - Executing ICM evaluation method\n",
      "2025-05-18 01:30:16,126 - pyevall.evaluation - INFO -             evaluate() - Evaluating the following metrics ['ICM']\n",
      "2025-05-18 01:30:16,181 - pyevall.metrics.metrics - INFO -             evaluate() - Executing ICM evaluation method\n",
      "2025-05-18 01:30:59,976 - pyevall.evaluation - INFO -             evaluate() - Evaluating the following metrics ['ICM']\n",
      "2025-05-18 01:31:00,027 - pyevall.metrics.metrics - INFO -             evaluate() - Executing ICM evaluation method\n",
      "2025-05-18 01:31:44,481 - pyevall.evaluation - INFO -             evaluate() - Evaluating the following metrics ['ICM']\n",
      "2025-05-18 01:31:44,533 - pyevall.metrics.metrics - INFO -             evaluate() - Executing ICM evaluation method\n",
      "2025-05-18 01:32:28,367 - pyevall.evaluation - INFO -             evaluate() - Evaluating the following metrics ['ICM']\n",
      "2025-05-18 01:32:28,417 - pyevall.metrics.metrics - INFO -             evaluate() - Executing ICM evaluation method\n"
     ]
    },
    {
     "data": {
      "text/html": [],
      "text/plain": [
       "<IPython.core.display.HTML object>"
      ]
     },
     "metadata": {},
     "output_type": "display_data"
    },
    {
     "name": "stdout",
     "output_type": "stream",
     "text": [
      "2025-05-18 01:32:32,819 - pyevall.evaluation - INFO -             evaluate() - Evaluating the following metrics ['ICM']\n",
      "2025-05-18 01:32:32,872 - pyevall.metrics.metrics - INFO -             evaluate() - Executing ICM evaluation method\n",
      "Validation Results: {'eval_loss': 0.45677804946899414, 'eval_precision_macro': 0.7468863393794765, 'eval_recall_macro': 0.7476362369421716, 'eval_f1_macro': 0.744955964035785, 'eval_ICM': 0.5130047183586675, 'eval_runtime': 2.1632, 'eval_samples_per_second': 205.255, 'eval_steps_per_second': 3.236, 'epoch': 8.0}\n",
      "2025-05-18 01:32:37,476 - pyevall.evaluation - INFO -             evaluate() - Evaluating the following metrics ['ICM']\n",
      "2025-05-18 01:32:37,572 - pyevall.metrics.metrics - INFO -             evaluate() - Executing ICM evaluation method\n",
      "Prediction TASK3 completed. Results saved to sexism_predictions_task3_soft_english.csv\n"
     ]
    }
   ],
   "source": [
    "modelname = \"cardiffnlp/twitter-roberta-base-sentiment-latest\"\n",
    "params = {\"num_train_epochs\": 10,\n",
    "          \"learning_rate\": 3e-5,\n",
    "          \"scheduler_type\": \"linear\",\n",
    "          \"per_device_train_batch_size\": 64,\n",
    "          \"warmup_ratio\": 0.15,\n",
    "          \"early_stopping_patience\": 5,\n",
    "          \"ignore_mismatched_sizes\": True,\n",
    "          \"logging_dir\": None,\n",
    "          \"output_dir\": None,\n",
    "          \"language\": \"english\",\n",
    "          \"output_type\": \"soft\"\n",
    "          }\n",
    "\n",
    "_, eval_results = sexism_classification_pipeline_task3(EnTrainTask3, EnDevTask3, EnTestTask3, modelname, 6, \"multi_label_classification\", **params)"
   ]
  },
  {
   "cell_type": "code",
   "execution_count": 12,
   "metadata": {},
   "outputs": [
    {
     "name": "stderr",
     "output_type": "stream",
     "text": [
      "Some weights of RobertaForSequenceClassification were not initialized from the model checkpoint at pysentimiento/robertuito-sentiment-analysis and are newly initialized because the shapes did not match:\n",
      "- classifier.out_proj.bias: found shape torch.Size([3]) in the checkpoint and torch.Size([6]) in the model instantiated\n",
      "- classifier.out_proj.weight: found shape torch.Size([3, 768]) in the checkpoint and torch.Size([6, 768]) in the model instantiated\n",
      "You should probably TRAIN this model on a down-stream task to be able to use it for predictions and inference.\n"
     ]
    },
    {
     "data": {
      "text/html": [
       "\n",
       "    <div>\n",
       "      \n",
       "      <progress value='500' max='500' style='width:300px; height:20px; vertical-align: middle;'></progress>\n",
       "      [500/500 07:57, Epoch 10/10]\n",
       "    </div>\n",
       "    <table border=\"1\" class=\"dataframe\">\n",
       "  <thead>\n",
       " <tr style=\"text-align: left;\">\n",
       "      <th>Epoch</th>\n",
       "      <th>Training Loss</th>\n",
       "      <th>Validation Loss</th>\n",
       "      <th>Precision Macro</th>\n",
       "      <th>Recall Macro</th>\n",
       "      <th>F1 Macro</th>\n",
       "      <th>Icm</th>\n",
       "    </tr>\n",
       "  </thead>\n",
       "  <tbody>\n",
       "    <tr>\n",
       "      <td>1</td>\n",
       "      <td>0.617200</td>\n",
       "      <td>0.626295</td>\n",
       "      <td>0.542201</td>\n",
       "      <td>0.478083</td>\n",
       "      <td>0.454311</td>\n",
       "      <td>-0.672965</td>\n",
       "    </tr>\n",
       "    <tr>\n",
       "      <td>2</td>\n",
       "      <td>0.515100</td>\n",
       "      <td>0.527315</td>\n",
       "      <td>0.691569</td>\n",
       "      <td>0.715210</td>\n",
       "      <td>0.681683</td>\n",
       "      <td>0.255776</td>\n",
       "    </tr>\n",
       "    <tr>\n",
       "      <td>3</td>\n",
       "      <td>0.454100</td>\n",
       "      <td>0.503983</td>\n",
       "      <td>0.757978</td>\n",
       "      <td>0.679059</td>\n",
       "      <td>0.699173</td>\n",
       "      <td>0.306111</td>\n",
       "    </tr>\n",
       "    <tr>\n",
       "      <td>4</td>\n",
       "      <td>0.409000</td>\n",
       "      <td>0.502652</td>\n",
       "      <td>0.749478</td>\n",
       "      <td>0.693893</td>\n",
       "      <td>0.716385</td>\n",
       "      <td>0.372053</td>\n",
       "    </tr>\n",
       "    <tr>\n",
       "      <td>5</td>\n",
       "      <td>0.365300</td>\n",
       "      <td>0.507726</td>\n",
       "      <td>0.752610</td>\n",
       "      <td>0.705674</td>\n",
       "      <td>0.722939</td>\n",
       "      <td>0.431276</td>\n",
       "    </tr>\n",
       "    <tr>\n",
       "      <td>6</td>\n",
       "      <td>0.313500</td>\n",
       "      <td>0.522273</td>\n",
       "      <td>0.757305</td>\n",
       "      <td>0.696620</td>\n",
       "      <td>0.720961</td>\n",
       "      <td>0.407712</td>\n",
       "    </tr>\n",
       "    <tr>\n",
       "      <td>7</td>\n",
       "      <td>0.302600</td>\n",
       "      <td>0.529355</td>\n",
       "      <td>0.756292</td>\n",
       "      <td>0.698407</td>\n",
       "      <td>0.720465</td>\n",
       "      <td>0.414936</td>\n",
       "    </tr>\n",
       "    <tr>\n",
       "      <td>8</td>\n",
       "      <td>0.286300</td>\n",
       "      <td>0.538432</td>\n",
       "      <td>0.752294</td>\n",
       "      <td>0.684935</td>\n",
       "      <td>0.710917</td>\n",
       "      <td>0.347686</td>\n",
       "    </tr>\n",
       "    <tr>\n",
       "      <td>9</td>\n",
       "      <td>0.281200</td>\n",
       "      <td>0.552494</td>\n",
       "      <td>0.764136</td>\n",
       "      <td>0.676755</td>\n",
       "      <td>0.711631</td>\n",
       "      <td>0.349265</td>\n",
       "    </tr>\n",
       "    <tr>\n",
       "      <td>10</td>\n",
       "      <td>0.270300</td>\n",
       "      <td>0.549366</td>\n",
       "      <td>0.753694</td>\n",
       "      <td>0.685666</td>\n",
       "      <td>0.712530</td>\n",
       "      <td>0.357182</td>\n",
       "    </tr>\n",
       "  </tbody>\n",
       "</table><p>"
      ],
      "text/plain": [
       "<IPython.core.display.HTML object>"
      ]
     },
     "metadata": {},
     "output_type": "display_data"
    },
    {
     "name": "stdout",
     "output_type": "stream",
     "text": [
      "2025-05-18 01:33:36,432 - pyevall.evaluation - INFO -             evaluate() - Evaluating the following metrics ['ICM']\n",
      "2025-05-18 01:33:36,490 - pyevall.metrics.metrics - INFO -             evaluate() - Executing ICM evaluation method\n",
      "2025-05-18 01:34:23,443 - pyevall.evaluation - INFO -             evaluate() - Evaluating the following metrics ['ICM']\n",
      "2025-05-18 01:34:23,499 - pyevall.metrics.metrics - INFO -             evaluate() - Executing ICM evaluation method\n",
      "2025-05-18 01:35:11,516 - pyevall.evaluation - INFO -             evaluate() - Evaluating the following metrics ['ICM']\n",
      "2025-05-18 01:35:11,573 - pyevall.metrics.metrics - INFO -             evaluate() - Executing ICM evaluation method\n",
      "2025-05-18 01:35:59,917 - pyevall.evaluation - INFO -             evaluate() - Evaluating the following metrics ['ICM']\n",
      "2025-05-18 01:35:59,977 - pyevall.metrics.metrics - INFO -             evaluate() - Executing ICM evaluation method\n",
      "2025-05-18 01:36:48,130 - pyevall.evaluation - INFO -             evaluate() - Evaluating the following metrics ['ICM']\n",
      "2025-05-18 01:36:48,185 - pyevall.metrics.metrics - INFO -             evaluate() - Executing ICM evaluation method\n",
      "2025-05-18 01:37:35,518 - pyevall.evaluation - INFO -             evaluate() - Evaluating the following metrics ['ICM']\n",
      "2025-05-18 01:37:35,573 - pyevall.metrics.metrics - INFO -             evaluate() - Executing ICM evaluation method\n",
      "2025-05-18 01:38:22,696 - pyevall.evaluation - INFO -             evaluate() - Evaluating the following metrics ['ICM']\n",
      "2025-05-18 01:38:22,752 - pyevall.metrics.metrics - INFO -             evaluate() - Executing ICM evaluation method\n",
      "2025-05-18 01:39:11,039 - pyevall.evaluation - INFO -             evaluate() - Evaluating the following metrics ['ICM']\n",
      "2025-05-18 01:39:11,097 - pyevall.metrics.metrics - INFO -             evaluate() - Executing ICM evaluation method\n",
      "2025-05-18 01:39:58,568 - pyevall.evaluation - INFO -             evaluate() - Evaluating the following metrics ['ICM']\n",
      "2025-05-18 01:39:58,625 - pyevall.metrics.metrics - INFO -             evaluate() - Executing ICM evaluation method\n",
      "2025-05-18 01:40:46,310 - pyevall.evaluation - INFO -             evaluate() - Evaluating the following metrics ['ICM']\n",
      "2025-05-18 01:40:46,375 - pyevall.metrics.metrics - INFO -             evaluate() - Executing ICM evaluation method\n"
     ]
    },
    {
     "data": {
      "text/html": [],
      "text/plain": [
       "<IPython.core.display.HTML object>"
      ]
     },
     "metadata": {},
     "output_type": "display_data"
    },
    {
     "name": "stdout",
     "output_type": "stream",
     "text": [
      "2025-05-18 01:40:50,861 - pyevall.evaluation - INFO -             evaluate() - Evaluating the following metrics ['ICM']\n",
      "2025-05-18 01:40:50,920 - pyevall.metrics.metrics - INFO -             evaluate() - Executing ICM evaluation method\n",
      "Validation Results: {'eval_loss': 0.5077261924743652, 'eval_precision_macro': 0.7526099971768226, 'eval_recall_macro': 0.7056735830978532, 'eval_f1_macro': 0.7229389390809877, 'eval_ICM': 0.4312757991472615, 'eval_runtime': 2.5714, 'eval_samples_per_second': 190.558, 'eval_steps_per_second': 3.111, 'epoch': 10.0}\n",
      "2025-05-18 01:40:56,008 - pyevall.evaluation - INFO -             evaluate() - Evaluating the following metrics ['ICM']\n",
      "2025-05-18 01:40:56,115 - pyevall.metrics.metrics - INFO -             evaluate() - Executing ICM evaluation method\n",
      "Prediction TASK3 completed. Results saved to sexism_predictions_task3_soft_spanish.csv\n"
     ]
    }
   ],
   "source": [
    "modelname = \"pysentimiento/robertuito-sentiment-analysis\"\n",
    "params = {\"num_train_epochs\": 10,\n",
    "          \"learning_rate\": 3e-5,\n",
    "          \"scheduler_type\": \"linear\",\n",
    "          \"per_device_train_batch_size\": 64,\n",
    "          \"warmup_ratio\": 0.15,\n",
    "          \"early_stopping_patience\": 5, \n",
    "          \"logging_dir\": None,\n",
    "          \"output_dir\": None,\n",
    "          \"ignore_mismatched_sizes\": True,\n",
    "          \"language\": \"spanish\",\n",
    "          \"output_type\": \"soft\"\n",
    "          }\n",
    "\n",
    "_, eval_results = sexism_classification_pipeline_task3(SpTrainTask3, SpDevTask3, SpTestTask3, modelname, 6, \"multi_label_classification\", **params)"
   ]
  },
  {
   "cell_type": "markdown",
   "metadata": {},
   "source": [
    "## Save predictions"
   ]
  },
  {
   "cell_type": "code",
   "execution_count": 18,
   "metadata": {},
   "outputs": [
    {
     "name": "stdout",
     "output_type": "stream",
     "text": [
      "Predictions saved\n"
     ]
    }
   ],
   "source": [
    "if create_submision_file(\"ArPa Project\", 1, \"soft\", run_id, 3, \".\", \"exist2025_ArPa Project\"):\n",
    "    print(\"Predictions saved\")"
   ]
  },
  {
   "cell_type": "markdown",
   "metadata": {},
   "source": [
    "## Training hard"
   ]
  },
  {
   "cell_type": "code",
   "execution_count": 14,
   "metadata": {},
   "outputs": [
    {
     "name": "stderr",
     "output_type": "stream",
     "text": [
      "Some weights of the model checkpoint at cardiffnlp/twitter-roberta-base-sentiment-latest were not used when initializing RobertaForSequenceClassification: ['roberta.pooler.dense.bias', 'roberta.pooler.dense.weight']\n",
      "- This IS expected if you are initializing RobertaForSequenceClassification from the checkpoint of a model trained on another task or with another architecture (e.g. initializing a BertForSequenceClassification model from a BertForPreTraining model).\n",
      "- This IS NOT expected if you are initializing RobertaForSequenceClassification from the checkpoint of a model that you expect to be exactly identical (initializing a BertForSequenceClassification model from a BertForSequenceClassification model).\n",
      "Some weights of RobertaForSequenceClassification were not initialized from the model checkpoint at cardiffnlp/twitter-roberta-base-sentiment-latest and are newly initialized because the shapes did not match:\n",
      "- classifier.out_proj.weight: found shape torch.Size([3, 768]) in the checkpoint and torch.Size([6, 768]) in the model instantiated\n",
      "- classifier.out_proj.bias: found shape torch.Size([3]) in the checkpoint and torch.Size([6]) in the model instantiated\n",
      "You should probably TRAIN this model on a down-stream task to be able to use it for predictions and inference.\n"
     ]
    },
    {
     "data": {
      "text/html": [
       "\n",
       "    <div>\n",
       "      \n",
       "      <progress value='360' max='450' style='width:300px; height:20px; vertical-align: middle;'></progress>\n",
       "      [360/450 05:56 < 01:29, 1.00 it/s, Epoch 8/10]\n",
       "    </div>\n",
       "    <table border=\"1\" class=\"dataframe\">\n",
       "  <thead>\n",
       " <tr style=\"text-align: left;\">\n",
       "      <th>Epoch</th>\n",
       "      <th>Training Loss</th>\n",
       "      <th>Validation Loss</th>\n",
       "      <th>Precision Macro</th>\n",
       "      <th>Recall Macro</th>\n",
       "      <th>F1 Macro</th>\n",
       "      <th>Icm</th>\n",
       "    </tr>\n",
       "  </thead>\n",
       "  <tbody>\n",
       "    <tr>\n",
       "      <td>1</td>\n",
       "      <td>0.577800</td>\n",
       "      <td>0.582265</td>\n",
       "      <td>0.566764</td>\n",
       "      <td>0.299393</td>\n",
       "      <td>0.326982</td>\n",
       "      <td>-1.230047</td>\n",
       "    </tr>\n",
       "    <tr>\n",
       "      <td>2</td>\n",
       "      <td>0.457500</td>\n",
       "      <td>0.495377</td>\n",
       "      <td>0.791083</td>\n",
       "      <td>0.610118</td>\n",
       "      <td>0.674223</td>\n",
       "      <td>0.057288</td>\n",
       "    </tr>\n",
       "    <tr>\n",
       "      <td>3</td>\n",
       "      <td>0.430200</td>\n",
       "      <td>0.458007</td>\n",
       "      <td>0.746939</td>\n",
       "      <td>0.739445</td>\n",
       "      <td>0.739589</td>\n",
       "      <td>0.472425</td>\n",
       "    </tr>\n",
       "    <tr>\n",
       "      <td>4</td>\n",
       "      <td>0.392700</td>\n",
       "      <td>0.465559</td>\n",
       "      <td>0.757114</td>\n",
       "      <td>0.698768</td>\n",
       "      <td>0.722799</td>\n",
       "      <td>0.384791</td>\n",
       "    </tr>\n",
       "    <tr>\n",
       "      <td>5</td>\n",
       "      <td>0.354400</td>\n",
       "      <td>0.473049</td>\n",
       "      <td>0.766658</td>\n",
       "      <td>0.702546</td>\n",
       "      <td>0.729804</td>\n",
       "      <td>0.410673</td>\n",
       "    </tr>\n",
       "    <tr>\n",
       "      <td>6</td>\n",
       "      <td>0.332000</td>\n",
       "      <td>0.481530</td>\n",
       "      <td>0.779092</td>\n",
       "      <td>0.678549</td>\n",
       "      <td>0.721160</td>\n",
       "      <td>0.337833</td>\n",
       "    </tr>\n",
       "    <tr>\n",
       "      <td>7</td>\n",
       "      <td>0.302200</td>\n",
       "      <td>0.491648</td>\n",
       "      <td>0.763148</td>\n",
       "      <td>0.702075</td>\n",
       "      <td>0.729805</td>\n",
       "      <td>0.414385</td>\n",
       "    </tr>\n",
       "    <tr>\n",
       "      <td>8</td>\n",
       "      <td>0.273600</td>\n",
       "      <td>0.494559</td>\n",
       "      <td>0.764574</td>\n",
       "      <td>0.708221</td>\n",
       "      <td>0.732446</td>\n",
       "      <td>0.449478</td>\n",
       "    </tr>\n",
       "  </tbody>\n",
       "</table><p>"
      ],
      "text/plain": [
       "<IPython.core.display.HTML object>"
      ]
     },
     "metadata": {},
     "output_type": "display_data"
    },
    {
     "name": "stdout",
     "output_type": "stream",
     "text": [
      "2025-05-18 01:41:42,019 - pyevall.evaluation - INFO -             evaluate() - Evaluating the following metrics ['ICM']\n",
      "2025-05-18 01:41:42,065 - pyevall.metrics.metrics - INFO -             evaluate() - Executing ICM evaluation method\n",
      "2025-05-18 01:42:25,471 - pyevall.evaluation - INFO -             evaluate() - Evaluating the following metrics ['ICM']\n",
      "2025-05-18 01:42:25,519 - pyevall.metrics.metrics - INFO -             evaluate() - Executing ICM evaluation method\n",
      "2025-05-18 01:43:10,143 - pyevall.evaluation - INFO -             evaluate() - Evaluating the following metrics ['ICM']\n",
      "2025-05-18 01:43:10,195 - pyevall.metrics.metrics - INFO -             evaluate() - Executing ICM evaluation method\n",
      "2025-05-18 01:43:55,268 - pyevall.evaluation - INFO -             evaluate() - Evaluating the following metrics ['ICM']\n",
      "2025-05-18 01:43:55,319 - pyevall.metrics.metrics - INFO -             evaluate() - Executing ICM evaluation method\n",
      "2025-05-18 01:44:40,385 - pyevall.evaluation - INFO -             evaluate() - Evaluating the following metrics ['ICM']\n",
      "2025-05-18 01:44:40,434 - pyevall.metrics.metrics - INFO -             evaluate() - Executing ICM evaluation method\n",
      "2025-05-18 01:45:25,394 - pyevall.evaluation - INFO -             evaluate() - Evaluating the following metrics ['ICM']\n",
      "2025-05-18 01:45:25,446 - pyevall.metrics.metrics - INFO -             evaluate() - Executing ICM evaluation method\n",
      "2025-05-18 01:46:10,168 - pyevall.evaluation - INFO -             evaluate() - Evaluating the following metrics ['ICM']\n",
      "2025-05-18 01:46:10,218 - pyevall.metrics.metrics - INFO -             evaluate() - Executing ICM evaluation method\n",
      "2025-05-18 01:46:54,977 - pyevall.evaluation - INFO -             evaluate() - Evaluating the following metrics ['ICM']\n",
      "2025-05-18 01:46:55,029 - pyevall.metrics.metrics - INFO -             evaluate() - Executing ICM evaluation method\n"
     ]
    },
    {
     "data": {
      "text/html": [],
      "text/plain": [
       "<IPython.core.display.HTML object>"
      ]
     },
     "metadata": {},
     "output_type": "display_data"
    },
    {
     "name": "stdout",
     "output_type": "stream",
     "text": [
      "2025-05-18 01:46:59,419 - pyevall.evaluation - INFO -             evaluate() - Evaluating the following metrics ['ICM']\n",
      "2025-05-18 01:46:59,466 - pyevall.metrics.metrics - INFO -             evaluate() - Executing ICM evaluation method\n",
      "Validation Results: {'eval_loss': 0.4580066502094269, 'eval_precision_macro': 0.7469387557434383, 'eval_recall_macro': 0.7394454720486007, 'eval_f1_macro': 0.7395888611919327, 'eval_ICM': 0.4724247102474496, 'eval_runtime': 2.2017, 'eval_samples_per_second': 201.658, 'eval_steps_per_second': 3.179, 'epoch': 8.0}\n",
      "2025-05-18 01:47:04,155 - pyevall.evaluation - INFO -             evaluate() - Evaluating the following metrics ['ICM']\n",
      "2025-05-18 01:47:04,245 - pyevall.metrics.metrics - INFO -             evaluate() - Executing ICM evaluation method\n",
      "Prediction TASK3 completed. Results saved to sexism_predictions_task3_hard_english.csv\n"
     ]
    }
   ],
   "source": [
    "modelname = \"cardiffnlp/twitter-roberta-base-sentiment-latest\"\n",
    "params = {\"num_train_epochs\": 10,\n",
    "          \"learning_rate\": 3e-5,\n",
    "          \"scheduler_type\": \"linear\",\n",
    "          \"per_device_train_batch_size\": 64,\n",
    "          \"warmup_ratio\": 0.15,\n",
    "          \"early_stopping_patience\": 5,\n",
    "          \"ignore_mismatched_sizes\": True,\n",
    "          \"output_dir\": None,\n",
    "          \"logging_dir\": None,\n",
    "          \"language\": \"english\"\n",
    "          }\n",
    "\n",
    "_, eval_results = sexism_classification_pipeline_task3(EnTrainTask3, EnDevTask3, EnTestTask3, modelname, 6, \"multi_label_classification\", **params)"
   ]
  },
  {
   "cell_type": "code",
   "execution_count": 15,
   "metadata": {},
   "outputs": [
    {
     "name": "stderr",
     "output_type": "stream",
     "text": [
      "Some weights of RobertaForSequenceClassification were not initialized from the model checkpoint at pysentimiento/robertuito-sentiment-analysis and are newly initialized because the shapes did not match:\n",
      "- classifier.out_proj.bias: found shape torch.Size([3]) in the checkpoint and torch.Size([6]) in the model instantiated\n",
      "- classifier.out_proj.weight: found shape torch.Size([3, 768]) in the checkpoint and torch.Size([6, 768]) in the model instantiated\n",
      "You should probably TRAIN this model on a down-stream task to be able to use it for predictions and inference.\n"
     ]
    },
    {
     "data": {
      "text/html": [
       "\n",
       "    <div>\n",
       "      \n",
       "      <progress value='500' max='500' style='width:300px; height:20px; vertical-align: middle;'></progress>\n",
       "      [500/500 07:45, Epoch 10/10]\n",
       "    </div>\n",
       "    <table border=\"1\" class=\"dataframe\">\n",
       "  <thead>\n",
       " <tr style=\"text-align: left;\">\n",
       "      <th>Epoch</th>\n",
       "      <th>Training Loss</th>\n",
       "      <th>Validation Loss</th>\n",
       "      <th>Precision Macro</th>\n",
       "      <th>Recall Macro</th>\n",
       "      <th>F1 Macro</th>\n",
       "      <th>Icm</th>\n",
       "    </tr>\n",
       "  </thead>\n",
       "  <tbody>\n",
       "    <tr>\n",
       "      <td>1</td>\n",
       "      <td>0.617200</td>\n",
       "      <td>0.626295</td>\n",
       "      <td>0.542201</td>\n",
       "      <td>0.478083</td>\n",
       "      <td>0.454311</td>\n",
       "      <td>-0.672965</td>\n",
       "    </tr>\n",
       "    <tr>\n",
       "      <td>2</td>\n",
       "      <td>0.515100</td>\n",
       "      <td>0.527315</td>\n",
       "      <td>0.691569</td>\n",
       "      <td>0.715210</td>\n",
       "      <td>0.681683</td>\n",
       "      <td>0.255776</td>\n",
       "    </tr>\n",
       "    <tr>\n",
       "      <td>3</td>\n",
       "      <td>0.454100</td>\n",
       "      <td>0.503983</td>\n",
       "      <td>0.757978</td>\n",
       "      <td>0.679059</td>\n",
       "      <td>0.699173</td>\n",
       "      <td>0.306111</td>\n",
       "    </tr>\n",
       "    <tr>\n",
       "      <td>4</td>\n",
       "      <td>0.409000</td>\n",
       "      <td>0.502652</td>\n",
       "      <td>0.749478</td>\n",
       "      <td>0.693893</td>\n",
       "      <td>0.716385</td>\n",
       "      <td>0.372053</td>\n",
       "    </tr>\n",
       "    <tr>\n",
       "      <td>5</td>\n",
       "      <td>0.365300</td>\n",
       "      <td>0.507726</td>\n",
       "      <td>0.752610</td>\n",
       "      <td>0.705674</td>\n",
       "      <td>0.722939</td>\n",
       "      <td>0.431276</td>\n",
       "    </tr>\n",
       "    <tr>\n",
       "      <td>6</td>\n",
       "      <td>0.313500</td>\n",
       "      <td>0.522273</td>\n",
       "      <td>0.757305</td>\n",
       "      <td>0.696620</td>\n",
       "      <td>0.720961</td>\n",
       "      <td>0.407712</td>\n",
       "    </tr>\n",
       "    <tr>\n",
       "      <td>7</td>\n",
       "      <td>0.302600</td>\n",
       "      <td>0.529355</td>\n",
       "      <td>0.756292</td>\n",
       "      <td>0.698407</td>\n",
       "      <td>0.720465</td>\n",
       "      <td>0.414936</td>\n",
       "    </tr>\n",
       "    <tr>\n",
       "      <td>8</td>\n",
       "      <td>0.286300</td>\n",
       "      <td>0.538432</td>\n",
       "      <td>0.752294</td>\n",
       "      <td>0.684935</td>\n",
       "      <td>0.710917</td>\n",
       "      <td>0.347686</td>\n",
       "    </tr>\n",
       "    <tr>\n",
       "      <td>9</td>\n",
       "      <td>0.281200</td>\n",
       "      <td>0.552494</td>\n",
       "      <td>0.764136</td>\n",
       "      <td>0.676755</td>\n",
       "      <td>0.711631</td>\n",
       "      <td>0.349265</td>\n",
       "    </tr>\n",
       "    <tr>\n",
       "      <td>10</td>\n",
       "      <td>0.270300</td>\n",
       "      <td>0.549366</td>\n",
       "      <td>0.753694</td>\n",
       "      <td>0.685666</td>\n",
       "      <td>0.712530</td>\n",
       "      <td>0.357182</td>\n",
       "    </tr>\n",
       "  </tbody>\n",
       "</table><p>"
      ],
      "text/plain": [
       "<IPython.core.display.HTML object>"
      ]
     },
     "metadata": {},
     "output_type": "display_data"
    },
    {
     "name": "stdout",
     "output_type": "stream",
     "text": [
      "2025-05-18 01:48:03,727 - pyevall.evaluation - INFO -             evaluate() - Evaluating the following metrics ['ICM']\n",
      "2025-05-18 01:48:03,783 - pyevall.metrics.metrics - INFO -             evaluate() - Executing ICM evaluation method\n",
      "2025-05-18 01:48:52,461 - pyevall.evaluation - INFO -             evaluate() - Evaluating the following metrics ['ICM']\n",
      "2025-05-18 01:48:52,517 - pyevall.metrics.metrics - INFO -             evaluate() - Executing ICM evaluation method\n",
      "2025-05-18 01:49:41,469 - pyevall.evaluation - INFO -             evaluate() - Evaluating the following metrics ['ICM']\n",
      "2025-05-18 01:49:41,523 - pyevall.metrics.metrics - INFO -             evaluate() - Executing ICM evaluation method\n",
      "2025-05-18 01:50:30,716 - pyevall.evaluation - INFO -             evaluate() - Evaluating the following metrics ['ICM']\n",
      "2025-05-18 01:50:30,771 - pyevall.metrics.metrics - INFO -             evaluate() - Executing ICM evaluation method\n",
      "2025-05-18 01:51:19,732 - pyevall.evaluation - INFO -             evaluate() - Evaluating the following metrics ['ICM']\n",
      "2025-05-18 01:51:19,788 - pyevall.metrics.metrics - INFO -             evaluate() - Executing ICM evaluation method\n",
      "2025-05-18 01:52:08,614 - pyevall.evaluation - INFO -             evaluate() - Evaluating the following metrics ['ICM']\n",
      "2025-05-18 01:52:08,670 - pyevall.metrics.metrics - INFO -             evaluate() - Executing ICM evaluation method\n",
      "2025-05-18 01:52:57,474 - pyevall.evaluation - INFO -             evaluate() - Evaluating the following metrics ['ICM']\n",
      "2025-05-18 01:52:57,528 - pyevall.metrics.metrics - INFO -             evaluate() - Executing ICM evaluation method\n",
      "2025-05-18 01:53:41,743 - pyevall.evaluation - INFO -             evaluate() - Evaluating the following metrics ['ICM']\n",
      "2025-05-18 01:53:41,798 - pyevall.metrics.metrics - INFO -             evaluate() - Executing ICM evaluation method\n",
      "2025-05-18 01:54:21,218 - pyevall.evaluation - INFO -             evaluate() - Evaluating the following metrics ['ICM']\n",
      "2025-05-18 01:54:21,271 - pyevall.metrics.metrics - INFO -             evaluate() - Executing ICM evaluation method\n",
      "2025-05-18 01:55:00,734 - pyevall.evaluation - INFO -             evaluate() - Evaluating the following metrics ['ICM']\n",
      "2025-05-18 01:55:00,790 - pyevall.metrics.metrics - INFO -             evaluate() - Executing ICM evaluation method\n"
     ]
    },
    {
     "data": {
      "text/html": [],
      "text/plain": [
       "<IPython.core.display.HTML object>"
      ]
     },
     "metadata": {},
     "output_type": "display_data"
    },
    {
     "name": "stdout",
     "output_type": "stream",
     "text": [
      "2025-05-18 01:55:04,592 - pyevall.evaluation - INFO -             evaluate() - Evaluating the following metrics ['ICM']\n",
      "2025-05-18 01:55:04,645 - pyevall.metrics.metrics - INFO -             evaluate() - Executing ICM evaluation method\n",
      "Validation Results: {'eval_loss': 0.5077261924743652, 'eval_precision_macro': 0.7526099971768226, 'eval_recall_macro': 0.7056735830978532, 'eval_f1_macro': 0.7229389390809877, 'eval_ICM': 0.4312757991472615, 'eval_runtime': 2.0114, 'eval_samples_per_second': 243.616, 'eval_steps_per_second': 3.977, 'epoch': 10.0}\n",
      "2025-05-18 01:55:08,878 - pyevall.evaluation - INFO -             evaluate() - Evaluating the following metrics ['ICM']\n",
      "2025-05-18 01:55:08,981 - pyevall.metrics.metrics - INFO -             evaluate() - Executing ICM evaluation method\n",
      "Prediction TASK3 completed. Results saved to sexism_predictions_task3_hard_spanish.csv\n"
     ]
    }
   ],
   "source": [
    "modelname = \"pysentimiento/robertuito-sentiment-analysis\"\n",
    "params = {\"num_train_epochs\": 10,\n",
    "          \"learning_rate\": 3e-5,\n",
    "          \"scheduler_type\": \"linear\",\n",
    "          \"per_device_train_batch_size\": 64,\n",
    "          \"warmup_ratio\": 0.15,\n",
    "          \"early_stopping_patience\": 5, \n",
    "          \"output_dir\": None,\n",
    "          \"logging_dir\": None,\n",
    "          \"ignore_mismatched_sizes\": True,\n",
    "          \"language\": \"spanish\"\n",
    "          }\n",
    "\n",
    "_, eval_results = sexism_classification_pipeline_task3(SpTrainTask3, SpDevTask3, SpTestTask3, modelname, 6, \"multi_label_classification\", **params)"
   ]
  },
  {
   "cell_type": "markdown",
   "metadata": {},
   "source": [
    "## Save predictions"
   ]
  },
  {
   "cell_type": "code",
   "execution_count": 17,
   "metadata": {},
   "outputs": [
    {
     "name": "stdout",
     "output_type": "stream",
     "text": [
      "Predictions saved\n"
     ]
    }
   ],
   "source": [
    "if create_submision_file(\"ArPa Project\", 1, \"hard\", run_id, 3, \".\", \"exist2025_ArPa Project\"):\n",
    "    print(\"Predictions saved\")"
   ]
  }
 ],
 "metadata": {
  "kernelspec": {
   "display_name": "transformers",
   "language": "python",
   "name": "python3"
  },
  "language_info": {
   "codemirror_mode": {
    "name": "ipython",
    "version": 3
   },
   "file_extension": ".py",
   "mimetype": "text/x-python",
   "name": "python",
   "nbconvert_exporter": "python",
   "pygments_lexer": "ipython3",
   "version": "3.12.9"
  }
 },
 "nbformat": 4,
 "nbformat_minor": 2
}
